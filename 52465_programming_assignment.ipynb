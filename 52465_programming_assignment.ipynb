{
 "cells": [
  {
   "cell_type": "markdown",
   "metadata": {},
   "source": [
    "# The numpy.random Package\n",
    "***"
   ]
  },
  {
   "cell_type": "markdown",
   "metadata": {},
   "source": [
    "### 1. Purpose of the package\n",
    "***\n",
    "NumPy is a high-performance multidimensional array library. A NumPy array is a grid of values, all of the same type, and is indexed by a tuple of nonnegative integers. The Python core library provides lists, which is the Python equivalent of an array, but is resizeable and can contain elements of different types. NumPy data structures perform better in terms of size, performance and functionality. (https://webcourses.ucf.edu/courses/1249560/pages/python-lists-vs-numpy-arrays-what-is-the-difference)\n",
    "\n",
    "numpy.random is a subpackage of NumPy which offers a suite of functions based on pseudorandom number generation. (https://www.datacamp.com/community/tutorials/numpy-random) A random number does not mean generating a different number every time, but rather something that cannot be predicted logically. If there is a program to generate a random number, it can be predicted, and therefore it is not truly random. Random numbers generated through a generation algorithm are referred to as pseudorandom. (https://www.w3schools.com/python/numpy_random.asp) Pseudorandomness is a sample of numbers that appear random, but were generated using a deterministic process. The numbers are generated in a sequence that is deterministic and seeded with an initial number. The value of this seed does not matter. What does matter is that the same seeding of the process will result in the same sequence of random numbers. (\n",
    "https://machinelearningmastery.com/how-to-generate-random-numbers-in-python/)\n",
    "\n",
    "The first step is to import the NumPy library as well as the other libraries required in the subsequent sections."
   ]
  },
  {
   "cell_type": "code",
   "execution_count": 3,
   "metadata": {},
   "outputs": [],
   "source": [
    "import numpy as np\n",
    "import matplotlib.pyplot as plt\n",
    "import seaborn as sns"
   ]
  },
  {
   "cell_type": "markdown",
   "metadata": {},
   "source": [
    "The function below constructs a new Generator. It has one parameter which creates a seed to initialise the BitGenerator."
   ]
  },
  {
   "cell_type": "code",
   "execution_count": 4,
   "metadata": {},
   "outputs": [
    {
     "name": "stdout",
     "output_type": "stream",
     "text": [
      "Generator(PCG64)\n"
     ]
    }
   ],
   "source": [
    "rng = np.random.default_rng(123)\n",
    "print(rng)"
   ]
  },
  {
   "cell_type": "code",
   "execution_count": null,
   "metadata": {},
   "outputs": [],
   "source": [
    "a = np.array([1,3,5])\n",
    "b = np.array([1,2,3])\n",
    "print(a * b)\n",
    "# would get an error if using lists"
   ]
  },
  {
   "cell_type": "code",
   "execution_count": null,
   "metadata": {},
   "outputs": [],
   "source": [
    "c = np.array([[9.0,8.0,7.0],[6.0,5.0,4.0]]) #2D array of floats - list within a list\n",
    "print(c)"
   ]
  },
  {
   "cell_type": "code",
   "execution_count": null,
   "metadata": {},
   "outputs": [],
   "source": [
    "# Random decimal numbers\n",
    "np.random.rand(4,2,3)"
   ]
  },
  {
   "cell_type": "code",
   "execution_count": null,
   "metadata": {},
   "outputs": [],
   "source": [
    "# Random interger values\n",
    "np.random.randint(4, 7, size=(3,3))"
   ]
  },
  {
   "cell_type": "markdown",
   "metadata": {},
   "source": [
    "The following sections will explain the use of the \"Simple random data\" and \"Permutations\" functions, explain the use and purpose of eight \"Distributions\" functions, and explain the use of seeds in generating pseudorandom numbers."
   ]
  },
  {
   "cell_type": "markdown",
   "metadata": {},
   "source": [
    "<br>\n",
    "\n",
    "### 2. Simple random data functions\n",
    "***\n",
    "There are four simple random data functions in the numpy.random package. These are:\n",
    "\n",
    "1. integers()\n",
    "2. random()\n",
    "3. choice()\n",
    "4. bytes()"
   ]
  },
  {
   "cell_type": "markdown",
   "metadata": {},
   "source": [
    "#### 2.1. integers(low[, high, size, dtype, endpoint])\n",
    "\n",
    "This function returns random integers from *low* (inclusive) to *high* (exclusive), or if ```endpoint=True```, *low* (inclusive) to *high* (inclusive). This replaces the RandomState.randint and RandomState.random_integers functions in the previous API documentation. [Ref: numpy.random.Generator.integers] The function below returns an array comprising 15 intergers between two and 12. By setting ```endpoint=True```, the default setting is overwritten and the number 12 is now inclusive in the output."
   ]
  },
  {
   "cell_type": "code",
   "execution_count": 3,
   "metadata": {},
   "outputs": [
    {
     "data": {
      "text/plain": [
       "array([ 4,  8, 12,  5,  2, 10,  4,  8, 12,  3, 10,  4,  9,  8, 11],\n",
       "      dtype=int64)"
      ]
     },
     "execution_count": 3,
     "metadata": {},
     "output_type": "execute_result"
    }
   ],
   "source": [
    "rng = np.random.default_rng()\n",
    "rng.integers(2, 12, size=15, endpoint=True)"
   ]
  },
  {
   "cell_type": "markdown",
   "metadata": {},
   "source": [
    "If no value is given for *high*, this results in an array ranging from 0 to the *low* value as shown below. In this instance, ```endpoint=False``` is the default, therefore the *low* value of five is excluded."
   ]
  },
  {
   "cell_type": "code",
   "execution_count": 6,
   "metadata": {},
   "outputs": [
    {
     "data": {
      "text/plain": [
       "array([4, 0, 0, 0, 2, 4, 3, 3, 4, 2, 4, 4, 1, 0, 2], dtype=int64)"
      ]
     },
     "execution_count": 6,
     "metadata": {},
     "output_type": "execute_result"
    }
   ],
   "source": [
    "rng = np.random.default_rng()\n",
    "rng.integers(5, size=15)"
   ]
  },
  {
   "cell_type": "markdown",
   "metadata": {},
   "source": [
    "A tuple of integers can also be passed to the *size* parameter. In the example below, an array of 50 blocks comprising 20 rows of 40 integers is returned. As ```endpoint=True```, the *low* value of 30 is included. The results are from the \"discrete uniform\" distribution, which is also known as the \"equally likely outcomes\" distribution. [Ref: Discrete uniform distribution] It is clear from the plot below that the probability density is almost equal for each integer. "
   ]
  },
  {
   "cell_type": "code",
   "execution_count": 44,
   "metadata": {},
   "outputs": [
    {
     "name": "stdout",
     "output_type": "stream",
     "text": [
      "[[[28 29  1 ... 12 13 15]\n",
      "  [ 7 15 11 ... 22  5  0]\n",
      "  [17 30 18 ...  5 19  2]\n",
      "  ...\n",
      "  [11  4 24 ... 13 18 27]\n",
      "  [11 29 13 ... 25 23 17]\n",
      "  [20 15 23 ... 14  9 24]]\n",
      "\n",
      " [[21 30 27 ...  0 17 26]\n",
      "  [ 6 26 19 ... 11 11 12]\n",
      "  [ 4  1  7 ... 10 24  2]\n",
      "  ...\n",
      "  [19 28 15 ... 12  3 22]\n",
      "  [26  1 20 ... 22 26  4]\n",
      "  [23 12 18 ... 16 10  9]]\n",
      "\n",
      " [[25  4  8 ... 28 15 29]\n",
      "  [29 18 10 ... 21  1  0]\n",
      "  [15  0 13 ... 14  6 15]\n",
      "  ...\n",
      "  [11 16 29 ...  0 28  6]\n",
      "  [21 15 26 ... 19 16 23]\n",
      "  [22  3 12 ... 15 16  9]]\n",
      "\n",
      " ...\n",
      "\n",
      " [[10 11  0 ... 20  9 13]\n",
      "  [17 25 25 ...  5  8 29]\n",
      "  [29 23 14 ... 10 27 26]\n",
      "  ...\n",
      "  [29 21 27 ... 14 13 12]\n",
      "  [15 12  7 ... 21  1 24]\n",
      "  [ 6 29  1 ... 23 14 12]]\n",
      "\n",
      " [[27  5  3 ... 11 17  2]\n",
      "  [13 25  1 ... 30 22  1]\n",
      "  [ 7 16 14 ...  6 29 22]\n",
      "  ...\n",
      "  [26 23  6 ... 15 21 10]\n",
      "  [16 24 21 ... 11 22  0]\n",
      "  [22 30 19 ...  0  6 20]]\n",
      "\n",
      " [[14 21 19 ...  6  2 18]\n",
      "  [ 9 27 15 ... 11 25 12]\n",
      "  [20 13  0 ... 30 22 28]\n",
      "  ...\n",
      "  [ 8 11  2 ... 17 19 22]\n",
      "  [30 29 18 ... 18 20 30]\n",
      "  [ 4  5 17 ... 15 14 21]]]\n"
     ]
    }
   ],
   "source": [
    "rng = np.random.default_rng()\n",
    "a = rng.integers(30, size=(50,20,40), endpoint=True)\n",
    "print(a)"
   ]
  },
  {
   "cell_type": "code",
   "execution_count": 45,
   "metadata": {},
   "outputs": [
    {
     "data": {
      "image/png": "[encoded data removed]",
      "text/plain": [
       "<Figure size 432x288 with 1 Axes>"
      ]
     },
     "metadata": {
      "needs_background": "light"
     },
     "output_type": "display_data"
    }
   ],
   "source": [
    "sns.distplot(a)\n",
    "plt.xlabel(\"X\")\n",
    "plt.ylabel(\"Probability Density\")\n",
    "plt.title(\"Discrete Uniform Distribution\")\n",
    "plt.grid()"
   ]
  },
  {
   "cell_type": "markdown",
   "metadata": {},
   "source": [
    "#### 2.2 random([size, dtype, out])\n",
    "\n",
    "This function returns random floats in the half-open interval [0.0, 1.0). A half-open (or half-closed) interval is an interval in which one endpoint is included, but not the other. It is denoted [a, b) or (a, b]. [Ref: Half-closed interval][Ref: Interval] In this instance, $0.0<=x<1.0$. The function below returns an array comprising three blocks of four rows of five floats between 0.0 (inclusive) and 1.0 (exclusive)."
   ]
  },
  {
   "cell_type": "code",
   "execution_count": null,
   "metadata": {},
   "outputs": [],
   "source": [
    "rng = np.random.default_rng()\n",
    "rng.random((3,4,5))"
   ]
  },
  {
   "cell_type": "markdown",
   "metadata": {},
   "source": [
    "The function below returns an array of 500 floats between 0.0 and 1.0. The results are from the \"continuous uniform\" distribution over the stated interval, and therefore the mean of these numbers is approximpately 0.5. [Ref: numpy.random.Generator.random][Ref: Generating random numbers in NumPy] "
   ]
  },
  {
   "cell_type": "code",
   "execution_count": 50,
   "metadata": {},
   "outputs": [
    {
     "name": "stdout",
     "output_type": "stream",
     "text": [
      "[0.58890168 0.43706112 0.62790067 0.92998401 0.67903917 0.07343127\n",
      " 0.35540249 0.17837866 0.87767482 0.88723805 0.4038557  0.57122321\n",
      " 0.88209633 0.25383485 0.28544395 0.21241608 0.6226902  0.09008799\n",
      " 0.82661779 0.90557287 0.09279736 0.99602115 0.9276617  0.87345425\n",
      " 0.06166761 0.6006014  0.37118293 0.65685162 0.02743935 0.18110977\n",
      " 0.88626555 0.65113345 0.98814036 0.30274407 0.97496407 0.72236315\n",
      " 0.94277812 0.98126792 0.93782019 0.0033236  0.63165143 0.09942728\n",
      " 0.67376024 0.94026129 0.14755416 0.21936559 0.21486755 0.33650821\n",
      " 0.36036867 0.27393609 0.03483608 0.89806996 0.33629056 0.26837959\n",
      " 0.57258836 0.54050432 0.77202157 0.61345916 0.96021035 0.87120622\n",
      " 0.80235602 0.83001064 0.72787716 0.72747976 0.53035371 0.04282719\n",
      " 0.90009491 0.3168006  0.79821331 0.91022711 0.29338513 0.89483503\n",
      " 0.03669776 0.7124943  0.40694178 0.30045755 0.98945083 0.56984\n",
      " 0.16293178 0.20851989 0.28796694 0.25072982 0.65739569 0.87624241\n",
      " 0.87651716 0.90767403 0.58131444 0.35637723 0.61041273 0.46772786\n",
      " 0.03680374 0.83005952 0.79508821 0.52805763 0.49452599 0.40612283\n",
      " 0.74296236 0.93899308 0.25304886 0.34310341 0.0899365  0.42277744\n",
      " 0.5301703  0.38154866 0.35721948 0.20848027 0.67207937 0.86048245\n",
      " 0.24762701 0.03623169 0.75643789 0.43448376 0.53643242 0.42927342\n",
      " 0.6196029  0.12793436 0.23760996 0.35124065 0.66874277 0.04435153\n",
      " 0.08304143 0.06831102 0.85580075 0.87449994 0.39681509 0.56354662\n",
      " 0.456625   0.35273011 0.63328967 0.85088577 0.55138125 0.63451641\n",
      " 0.47160451 0.22570717 0.14475066 0.73407355 0.25829325 0.08919568\n",
      " 0.26655799 0.70955547 0.06789329 0.53987333 0.65626362 0.17388621\n",
      " 0.24547876 0.68743988 0.16974154 0.06345869 0.94236247 0.47375707\n",
      " 0.05855884 0.6386922  0.92303433 0.33284481 0.20096892 0.32989608\n",
      " 0.74055579 0.99131841 0.07076857 0.63471445 0.93880651 0.5872126\n",
      " 0.6036993  0.65311647 0.47518901 0.21053442 0.18106936 0.22053554\n",
      " 0.00755438 0.21580378 0.84253384 0.35953675 0.69345117 0.50319224\n",
      " 0.36905876 0.68342888 0.94323386 0.6360413  0.03912576 0.47457655\n",
      " 0.15508596 0.18384571 0.55485709 0.06435538 0.12749332 0.78570628\n",
      " 0.02622872 0.74211771 0.85771067 0.09225586 0.36869309 0.03963374\n",
      " 0.62813366 0.20169989 0.4682038  0.85982749 0.75399409 0.43542302\n",
      " 0.05559272 0.67459247 0.25323856 0.44786803 0.30211913 0.37250224\n",
      " 0.87802578 0.04523789 0.41188407 0.65018276 0.35856812 0.20327492\n",
      " 0.82821754 0.12815787 0.09798017 0.66509177 0.05965867 0.92515353\n",
      " 0.11580089 0.65359658 0.89706278 0.39277783 0.60257343 0.1117718\n",
      " 0.03330039 0.90801653 0.90943892 0.03723317 0.3685687  0.14004086\n",
      " 0.22856564 0.99553089 0.60077824 0.73220822 0.5308055  0.05625673\n",
      " 0.57409216 0.59404286 0.25017843 0.81442202 0.83984964 0.96680154\n",
      " 0.91376219 0.1848884  0.47700113 0.21353064 0.00267165 0.24814987\n",
      " 0.92686949 0.49928058 0.35473657 0.53717903 0.85773644 0.74967229\n",
      " 0.8001416  0.33422701 0.98591559 0.54456405 0.53535898 0.2402793\n",
      " 0.37627549 0.28453507 0.15278261 0.96612626 0.73904857 0.85288268\n",
      " 0.77489427 0.42981128 0.62861607 0.91346651 0.64997123 0.82366863\n",
      " 0.80413074 0.96927611 0.65225858 0.53206767 0.90771512 0.65708042\n",
      " 0.75374599 0.70830974 0.03176366 0.82935559 0.67709069 0.56895114\n",
      " 0.11928229 0.66701026 0.26855966 0.3477398  0.06970664 0.43804004\n",
      " 0.10542752 0.60379972 0.1700324  0.57783459 0.87382991 0.26553913\n",
      " 0.93636906 0.5993405  0.91385976 0.6638615  0.00567988 0.73136215\n",
      " 0.91488487 0.38519984 0.09754448 0.76755794 0.14001676 0.06832717\n",
      " 0.2438237  0.73296321 0.46161546 0.42971742 0.30801525 0.11029873\n",
      " 0.15570948 0.34061619 0.66961229 0.68199033 0.70458101 0.1928348\n",
      " 0.23000883 0.39216766 0.2609464  0.05106333 0.37961203 0.87854385\n",
      " 0.71211486 0.86259502 0.4135858  0.72840895 0.26763881 0.16738873\n",
      " 0.43966728 0.58595514 0.52670442 0.11970446 0.2924417  0.94548892\n",
      " 0.12206458 0.23197885 0.75375655 0.4421896  0.06965017 0.29514746\n",
      " 0.23809909 0.13397513 0.12228534 0.67858072 0.38810063 0.17866719\n",
      " 0.05226941 0.06155162 0.42239443 0.86494515 0.73680755 0.12170437\n",
      " 0.98637679 0.66843945 0.53309133 0.4067591  0.19714347 0.73570046\n",
      " 0.40804028 0.28381855 0.16185326 0.96101348 0.13884937 0.60871544\n",
      " 0.19438744 0.5617832  0.34389919 0.26753443 0.28960859 0.43418733\n",
      " 0.76961593 0.20667967 0.05855174 0.84086237 0.97417022 0.58530235\n",
      " 0.51184274 0.32679873 0.47511056 0.37683596 0.05633104 0.50874985\n",
      " 0.97082445 0.40431781 0.41304067 0.50111079 0.81505537 0.98000387\n",
      " 0.35688753 0.79711034 0.07195008 0.94433324 0.7447841  0.71643221\n",
      " 0.74682304 0.97285396 0.2808924  0.28697402 0.43869144 0.18893245\n",
      " 0.87409748 0.09305881 0.81042816 0.90153988 0.79893575 0.2867198\n",
      " 0.21344458 0.6166072  0.26541625 0.79218024 0.26379647 0.05671536\n",
      " 0.08671873 0.31220934 0.54115156 0.57783047 0.98964178 0.01202663\n",
      " 0.49731972 0.91361535 0.60460411 0.53123065 0.68918572 0.00274072\n",
      " 0.6757021  0.56052315 0.59295969 0.11545005 0.23203968 0.41744229\n",
      " 0.68953871 0.56543402 0.72637357 0.0721549  0.07259095 0.92399522\n",
      " 0.78764711 0.48157599 0.43020312 0.31382749 0.16845412 0.62161152\n",
      " 0.79882548 0.97921525 0.88803012 0.63025852 0.55933879 0.17074399\n",
      " 0.55400869 0.14719807 0.32806629 0.11571591 0.47588714 0.7648504\n",
      " 0.59942899 0.17159809 0.9224471  0.61711223 0.86733727 0.53471108\n",
      " 0.71923298 0.18495992 0.72951001 0.3844668  0.46418123 0.79317269\n",
      " 0.0791036  0.44328399 0.11051468 0.68626037 0.29229757 0.3746931\n",
      " 0.63454186 0.50372548 0.69660251 0.01656639 0.38691016 0.15079949\n",
      " 0.48628769 0.07092108 0.12452383 0.95961991 0.3462159  0.98371599\n",
      " 0.89541265 0.62171315 0.21393631 0.89011467 0.87843296 0.94512426\n",
      " 0.30824834 0.65777611 0.70240049 0.96705809 0.45661297 0.00107655\n",
      " 0.93372747 0.43016387]\n"
     ]
    }
   ],
   "source": [
    "rng = np.random.default_rng()\n",
    "b = rng.random(500)\n",
    "print(b)"
   ]
  },
  {
   "cell_type": "markdown",
   "metadata": {},
   "source": [
    "The ```numpy.mean()``` function can be used to get the mean of the array, which will be approximately 0.5. [Ref: numpy.mean] Graphically, the probability density function is portrayed as a rectangle as per the plot below. [Ref: Continuous uniform distribution]"
   ]
  },
  {
   "cell_type": "code",
   "execution_count": 51,
   "metadata": {},
   "outputs": [
    {
     "data": {
      "text/plain": [
       "0.4945141294187257"
      ]
     },
     "execution_count": 51,
     "metadata": {},
     "output_type": "execute_result"
    }
   ],
   "source": [
    "np.mean(b)"
   ]
  },
  {
   "cell_type": "code",
   "execution_count": 52,
   "metadata": {},
   "outputs": [
    {
     "data": {
      "image/png": "[encoded data removed]",
      "text/plain": [
       "<Figure size 432x288 with 1 Axes>"
      ]
     },
     "metadata": {
      "needs_background": "light"
     },
     "output_type": "display_data"
    }
   ],
   "source": [
    "sns.distplot(b)\n",
    "plt.xlabel(\"X\")\n",
    "plt.ylabel(\"Probability Density\")\n",
    "plt.title(\"Continuous Uniform Distribution\")\n",
    "plt.grid()"
   ]
  },
  {
   "cell_type": "markdown",
   "metadata": {},
   "source": [
    "#### 2.3. choice(a[, size, replace, p, axis, shuffle])\n",
    "\n",
    "This function generates a random sample from a given 1-D array. [Ref: numpy.random.Generator.choice] The function below returns an array comprising four intergers between 1 and 10 (exclusive). If an integer is given, a random integer is returned from ```numpy.arange(a)```. The subsequent example returns a value between 0 (inclusive) and 10 (exclusive) as values are generated within the half open interval [start, stop). [Ref: numpy.arange]"
   ]
  },
  {
   "cell_type": "code",
   "execution_count": 53,
   "metadata": {},
   "outputs": [
    {
     "data": {
      "text/plain": [
       "array([3, 2, 4, 6], dtype=int64)"
      ]
     },
     "execution_count": 53,
     "metadata": {},
     "output_type": "execute_result"
    }
   ],
   "source": [
    "rng.choice(10, 4)"
   ]
  },
  {
   "cell_type": "code",
   "execution_count": 79,
   "metadata": {},
   "outputs": [
    {
     "data": {
      "text/plain": [
       "7"
      ]
     },
     "execution_count": 79,
     "metadata": {},
     "output_type": "execute_result"
    }
   ],
   "source": [
    "rng.choice(10)"
   ]
  },
  {
   "cell_type": "markdown",
   "metadata": {},
   "source": [
    "The function can also be used to select a random item from a list as per below. [Ref: Random choice]"
   ]
  },
  {
   "cell_type": "code",
   "execution_count": null,
   "metadata": {},
   "outputs": [],
   "source": [
    "numberList = [111, 222, 333, 444, 555]\n",
    "print(\"Random item from list is: \", rng.choice(numberList))"
   ]
  },
  {
   "cell_type": "markdown",
   "metadata": {},
   "source": [
    "A tuple of integers can also be passed to the *size* parameter. In the example below, an array of three blocks comprising two rows of three integers is returned. The values are between 0 (inclusive) and 18 (exclusive). By setting ```replace=False```, no integer is repeated in the output. An error would occur if the input was less than 18 in this case, as there would not be enough unique integers. [Ref: Replacement]"
   ]
  },
  {
   "cell_type": "code",
   "execution_count": 101,
   "metadata": {},
   "outputs": [
    {
     "name": "stdout",
     "output_type": "stream",
     "text": [
      "[[[162 137 117]\n",
      "  [ 57  50 151]]\n",
      "\n",
      " [[104  16 112]\n",
      "  [119  92 126]]\n",
      "\n",
      " [[118 149  14]\n",
      "  [ 99 176  39]]]\n"
     ]
    }
   ],
   "source": [
    "c = rng.choice(180, size=[3,2,3], replace=False)\n",
    "print(c)"
   ]
  },
  {
   "cell_type": "markdown",
   "metadata": {},
   "source": [
    "#### 2.4. bytes(length)\n",
    "\n",
    "This function returns random bytes as a string. [Ref: numpy.random.Generator.bytes] The function below returns five bytes. The subsequent example outputs 10 rows of bytes increasing in length by one byte with each iteration. [Ref: Bytes]"
   ]
  },
  {
   "cell_type": "code",
   "execution_count": 103,
   "metadata": {},
   "outputs": [
    {
     "data": {
      "text/plain": [
       "b'\\xbfb\\xea\\xd1d'"
      ]
     },
     "execution_count": 103,
     "metadata": {},
     "output_type": "execute_result"
    }
   ],
   "source": [
    "rng.bytes(5)"
   ]
  },
  {
   "cell_type": "code",
   "execution_count": 105,
   "metadata": {},
   "outputs": [
    {
     "name": "stdout",
     "output_type": "stream",
     "text": [
      "0 :  b''\n",
      "1 :  b'\\xea'\n",
      "2 :  b'\\x18>'\n",
      "3 :  b'9E\\x8c'\n",
      "4 :  b'\\xa2\\\\\\x8f\\xcd'\n",
      "5 :  b'\\xa7\\xdbi\\xd6\\x11'\n",
      "6 :  b'\\x92\\xac\\x0e\\xb4\\xf5\\xb4'\n",
      "7 :  b'\\xd3\\xac\\x91\\x06\\xc4\\xa8\\x9f'\n",
      "8 :  b'\\xc2\\xb2\\xcc\\xdb\\x1d\\x06\\xd3H'\n",
      "9 :  b'\\x93\\xccm\\x10\\xb9\\xbaa2m'\n"
     ]
    }
   ],
   "source": [
    "for length in range(10):\n",
    "    print(length, \": \", rng.bytes(length))"
   ]
  },
  {
   "cell_type": "markdown",
   "metadata": {},
   "source": [
    "<br>\n",
    "\n",
    "### 3 Permutations functions\n",
    "***\n",
    "There are two permutation functions in the numpy.random package. These are:\n",
    "\n",
    "1. shuffle()\n",
    "2. permutation()"
   ]
  },
  {
   "cell_type": "markdown",
   "metadata": {},
   "source": [
    "#### 3.1. shuffle(x[, axis])\n",
    "\n",
    "This function modifies a sequence in-place by shuffling its contents. [Ref: numpy.random.Generator.shuffle] The function below takes a list of sequential integers as input and reorganises the items.  "
   ]
  },
  {
   "cell_type": "code",
   "execution_count": 106,
   "metadata": {},
   "outputs": [
    {
     "name": "stdout",
     "output_type": "stream",
     "text": [
      "[5, 2, 4, 1, 3]\n"
     ]
    }
   ],
   "source": [
    "shuffle_lst = [1, 2, 3, 4, 5]\n",
    "rng.shuffle(shuffle_lst)\n",
    "print(shuffle_lst)"
   ]
  },
  {
   "cell_type": "markdown",
   "metadata": {},
   "source": [
    "The function below returns an array comprising three blocks of 3 rows of two floats between 0.0 and 1.0. The subsequent code shuffles the order of the blocks while the order of the rows and floats within remain unchanged."
   ]
  },
  {
   "cell_type": "code",
   "execution_count": 110,
   "metadata": {},
   "outputs": [
    {
     "name": "stdout",
     "output_type": "stream",
     "text": [
      "[[[0.06696766 0.44431314]\n",
      "  [0.27654416 0.56338031]\n",
      "  [0.03695844 0.40385019]]\n",
      "\n",
      " [[0.59071613 0.95730592]\n",
      "  [0.26637989 0.16025154]\n",
      "  [0.84804636 0.97094512]]\n",
      "\n",
      " [[0.75228094 0.11148922]\n",
      "  [0.52117315 0.76736431]\n",
      "  [0.43884985 0.95624327]]]\n"
     ]
    }
   ],
   "source": [
    "shuffle_array = rng.random((3,3,2))\n",
    "print(shuffle_array)"
   ]
  },
  {
   "cell_type": "code",
   "execution_count": 108,
   "metadata": {},
   "outputs": [
    {
     "name": "stdout",
     "output_type": "stream",
     "text": [
      "[[[0.02802123 0.64934032]\n",
      "  [0.02719109 0.5356109 ]\n",
      "  [0.05938386 0.76554618]]\n",
      "\n",
      " [[0.74912185 0.32804195]\n",
      "  [0.65296979 0.58155002]\n",
      "  [0.21310307 0.82127669]]\n",
      "\n",
      " [[0.76641153 0.12645713]\n",
      "  [0.55707605 0.74439452]\n",
      "  [0.49937979 0.59768471]]]\n"
     ]
    }
   ],
   "source": [
    "rng.shuffle(shuffle_array)\n",
    "print(shuffle_array)"
   ]
  },
  {
   "cell_type": "markdown",
   "metadata": {},
   "source": [
    "#### 3.2. permutation(x[, axis])\n",
    "\n",
    "This function randomly permutes a sequence, or returns a permuted range. The difference between this and the shuffle() function is that permutation() returns a re-arranged array while leaving the original array unchanged. [Ref: Random permutation]"
   ]
  },
  {
   "cell_type": "code",
   "execution_count": 3,
   "metadata": {},
   "outputs": [
    {
     "name": "stdout",
     "output_type": "stream",
     "text": [
      "[1 5 2 3 4]\n",
      "[1, 2, 3, 4, 5]\n"
     ]
    }
   ],
   "source": [
    "perm_array = [1, 2, 3, 4 , 5]\n",
    "print(rng.permutation(perm_array))\n",
    "print(perm_array)"
   ]
  },
  {
   "cell_type": "markdown",
   "metadata": {},
   "source": [
    "If passed an integer, the function will return a shuffled range as shown below. [Ref: Shuffle vs Permute]"
   ]
  },
  {
   "cell_type": "code",
   "execution_count": 9,
   "metadata": {},
   "outputs": [
    {
     "data": {
      "text/plain": [
       "array([7, 4, 0, 2, 1, 5, 6, 8, 3, 9])"
      ]
     },
     "execution_count": 9,
     "metadata": {},
     "output_type": "execute_result"
    }
   ],
   "source": [
    "#rng.shuffle(10)\n",
    "rng.permutation(10)"
   ]
  },
  {
   "cell_type": "markdown",
   "metadata": {},
   "source": [
    "<br>\n",
    "\n",
    "### 4. Distributions functions\n",
    "***\n",
    "There are 35 distribution functions in the numpy.random package. Eight of these are:\n",
    "\n",
    "1. chisquare()\n",
    "2. exponential()\n",
    "3. geometric()\n",
    "4. gumbel()\n",
    "5. lognormal()\n",
    "6. normal()\n",
    "7. rayleigh()\n",
    "8. triangular()"
   ]
  },
  {
   "cell_type": "markdown",
   "metadata": {},
   "source": [
    "#### 4.1. chisquare(df[, size])\n",
    "\n",
    "This function draws samples from a chi-square distribution, and helps in understanding the relationship between two categorical variables. It helps to compare what is observed with what is expected, and is used as a basis to verify the hypothesis. [Ref: Chi-squared test] It has two parameters: *df* (degree of freedom) and *size* (the shape of the returned array). [Ref: Chi-square distribution] The degree of freedom must be greater than zero and is broadly defined as the number of \"observations\" in the data that are free to vary when estimating statistical parameters. [Ref: What are degrees of freedom in statistics?]\n",
    "\n",
    "The test can be expressed as:\n",
    "\n",
    "$x^{2} = \\sum\\frac{(O-E)^{2}}{E}$\n",
    "\n",
    "where *O* is the number of observed events and *E* is the number of expected events under the null hypothesis.\n",
    "\n",
    "The function below outputs three arrays of 30 blocks of 60 values, with different degrees of freedom."
   ]
  },
  {
   "cell_type": "code",
   "execution_count": 30,
   "metadata": {},
   "outputs": [
    {
     "name": "stdout",
     "output_type": "stream",
     "text": [
      "[[19.64340646 21.2122207  18.75861033 ... 28.94176795 17.59226076\n",
      "  19.3499609 ]\n",
      " [18.34597927 15.15167391  8.28461852 ... 16.55328155 19.51572534\n",
      "  15.41033799]\n",
      " [15.90916635 27.43242154 24.38504828 ... 22.91103259 16.41426608\n",
      "  12.46776009]\n",
      " ...\n",
      " [16.67801206 19.00465793 22.81709649 ... 19.86228433 20.51236738\n",
      "  17.12211739]\n",
      " [17.1029257  19.30015244 35.83933737 ... 26.7123818  28.23499671\n",
      "  26.68200685]\n",
      " [20.43765324 14.90266964 18.14040986 ... 27.59463569 10.96956074\n",
      "  13.38505327]]\n"
     ]
    }
   ],
   "source": [
    "ax = rng.chisquare(df=20, size=(30,60))\n",
    "ay = rng.chisquare(df=40, size=(30,60))\n",
    "az = rng.chisquare(df=60, size=(30,60))\n",
    "print(a)"
   ]
  },
  {
   "cell_type": "markdown",
   "metadata": {},
   "source": [
    "The plot below shows how the probability density peaks at approximately the *df* value on the x-axis of each distribution. [Ref: Comparing frequencies] The distribution is also wider along the x-axis as the degree of freedom increases."
   ]
  },
  {
   "cell_type": "code",
   "execution_count": 36,
   "metadata": {},
   "outputs": [
    {
     "data": {
      "image/png": "[encoded data removed]",
      "text/plain": [
       "<Figure size 432x288 with 1 Axes>"
      ]
     },
     "metadata": {
      "needs_background": "light"
     },
     "output_type": "display_data"
    }
   ],
   "source": [
    "sns.distplot(ax, label=\"df = 20\", hist=False)\n",
    "sns.distplot(ay, label=\"df = 40\", hist=False)\n",
    "sns.distplot(az, label=\"df = 60\", hist=False)\n",
    "plt.xlabel(\"X\")\n",
    "plt.ylabel(\"Probability Density\")\n",
    "plt.title(\"Chi-Square Distribution\")\n",
    "plt.grid()"
   ]
  },
  {
   "cell_type": "markdown",
   "metadata": {},
   "source": [
    "#### 4.2. exponential([scale, size])\n",
    "\n",
    "    This function draws samples from an exponential distribution. [Ref: Random exponential]"
   ]
  },
  {
   "cell_type": "code",
   "execution_count": 84,
   "metadata": {},
   "outputs": [
    {
     "name": "stdout",
     "output_type": "stream",
     "text": [
      "[[8.15318186e-01 2.17852033e+00 9.11401766e-01 5.56901731e-01\n",
      "  1.24661650e+00 1.41339340e+00 5.54948246e-01 4.74803756e+00\n",
      "  8.24841075e-02 1.50438073e-01 2.03823095e-01 9.37830846e-01\n",
      "  3.61220149e-03 2.38977038e-01 1.37119706e+00 1.41940761e+00\n",
      "  7.04077600e-01 2.91614281e+00 1.00862484e+00 1.94187910e+00]\n",
      " [9.23572868e+00 7.43325146e-01 1.75845132e+00 3.52450398e+00\n",
      "  1.47526643e-02 3.81049639e+00 1.95389009e+00 2.62460096e+00\n",
      "  1.76521464e+00 1.88799481e+00 1.74642196e-01 7.34195378e-02\n",
      "  4.77713497e-01 6.80417742e-01 1.74339144e+00 3.22557100e-01\n",
      "  9.39871952e-01 4.21565088e+00 1.47919749e+00 1.42153759e+00]\n",
      " [1.18366468e+00 1.69531120e+00 8.24160437e-01 8.91908119e-01\n",
      "  2.84971005e-01 2.29852245e+00 4.72524536e+00 1.32722921e-02\n",
      "  3.41378940e-01 1.81878740e+00 2.29406235e-01 9.30581719e-02\n",
      "  1.48504903e+00 1.89497226e+00 8.59407303e-01 6.77749513e-01\n",
      "  9.74330986e-01 8.26556744e-01 2.20675137e+00 4.87601530e+00]\n",
      " [1.89622873e-01 1.33355723e+00 3.93745062e+00 1.13731346e+00\n",
      "  2.63745924e+00 1.97303594e+00 2.72096904e+00 2.65137140e+00\n",
      "  1.90197980e+00 2.76330523e-01 1.40430722e+00 8.08285051e-01\n",
      "  4.17819541e-01 2.26827840e+00 7.61613613e-01 7.20539278e-01\n",
      "  5.19479075e+00 1.88169548e+00 1.69838921e-01 1.33528268e+00]\n",
      " [7.66115068e-01 4.19628401e+00 4.40828250e+00 6.29070983e-01\n",
      "  1.78751941e+00 1.32717533e+00 2.41075382e-01 3.24313169e+00\n",
      "  1.45049654e+00 1.55532501e+00 1.65857741e+00 1.36122435e-01\n",
      "  3.72507296e+00 3.07348760e+00 2.00201180e+00 2.56914399e+00\n",
      "  6.87695037e+00 1.61433742e+00 2.67161126e-01 7.92727990e-01]\n",
      " [4.15915147e-02 3.96377507e+00 8.72118562e-02 3.32273193e+00\n",
      "  2.92354752e+00 4.95056888e-01 7.55896340e+00 1.84214112e+00\n",
      "  8.90700383e-02 4.47936337e+00 3.21518950e+00 2.78055155e+00\n",
      "  1.20815414e+00 3.17745645e+00 1.38083111e+00 3.34518307e+00\n",
      "  6.70125788e-01 7.50677106e-01 2.99729389e+00 1.44743542e-01]\n",
      " [8.88405320e-01 1.67009206e-01 2.10765118e+00 4.06796609e+00\n",
      "  3.56001419e+00 1.43571672e+00 3.39114240e-02 2.79632122e+00\n",
      "  5.75598233e-01 2.98947654e+00 8.45171671e-02 2.62015839e+00\n",
      "  2.84074092e-01 2.08661369e+00 6.85445338e+00 3.48480659e-01\n",
      "  7.78107198e-01 2.36837555e+00 1.37059264e+00 5.05582608e-01]\n",
      " [1.82709617e-01 1.71288317e+00 1.82620955e-01 2.14051950e+00\n",
      "  5.99472694e-01 5.64630599e+00 4.00567468e+00 4.75105290e+00\n",
      "  1.98810322e+00 3.31565229e+00 6.18810784e-02 2.85066256e+00\n",
      "  1.14112956e+00 3.78033179e-01 1.82344430e+00 5.26572106e+00\n",
      "  1.52568263e+00 4.63538560e-01 2.74226728e-01 2.72446779e-01]\n",
      " [5.98021894e+00 2.31412405e-01 2.20363135e+00 5.33497813e+00\n",
      "  1.21160166e+00 2.28913228e+00 2.45591221e+00 4.62998569e-02\n",
      "  7.93180945e-01 2.52500337e+00 1.46481828e-01 5.02847002e-01\n",
      "  3.78200209e+00 2.21079203e+00 1.15187284e+00 3.32736396e-02\n",
      "  1.18125295e+00 4.04683277e+00 7.93329153e-01 3.68364789e+00]\n",
      " [3.34706043e-01 1.71207920e+00 2.37444396e-01 6.04308210e-01\n",
      "  1.90584856e+00 1.08124976e-01 3.97026117e+00 2.38695903e+00\n",
      "  2.64214825e+00 4.94908911e-01 3.42484139e+00 2.77873525e+00\n",
      "  1.72916547e-01 1.02322725e+00 1.14470423e+00 2.74564318e+00\n",
      "  3.49913834e-01 5.94056221e-01 2.18941092e+00 8.10437284e-01]]\n"
     ]
    }
   ],
   "source": [
    "b = rng.exponential(scale=2, size=(10, 20))\n",
    "print(b)"
   ]
  },
  {
   "cell_type": "code",
   "execution_count": 85,
   "metadata": {},
   "outputs": [
    {
     "data": {
      "image/png": "[encoded data removed]",
      "text/plain": [
       "<Figure size 432x288 with 1 Axes>"
      ]
     },
     "metadata": {
      "needs_background": "light"
     },
     "output_type": "display_data"
    }
   ],
   "source": [
    "sns.distplot(b)\n",
    "plt.xlabel(\"X\")\n",
    "plt.ylabel(\"Probability Density\")\n",
    "plt.title(\"Exponential Distribution\")\n",
    "plt.grid()"
   ]
  },
  {
   "cell_type": "markdown",
   "metadata": {},
   "source": [
    "#### 4.3. geometric(p[, size])\n",
    "\n",
    "This function draws samples from the geometric distribution. A Bernoulli trial is a random experiment with exactly two possible outcomes, \"success\" and \"failure\", in which the probability of success is the same every time the experiment is conducted. (https://en.wikipedia.org/wiki/Bernoulli_trial) The geometric distribution models the number of trials that must be run in order to achieve success. "
   ]
  },
  {
   "cell_type": "code",
   "execution_count": 80,
   "metadata": {},
   "outputs": [
    {
     "name": "stdout",
     "output_type": "stream",
     "text": [
      "[ 1  1  6  1  6 10  5  4  1  7  5  1  7  2  8  5  3  3  3 12  1  5  7  1\n",
      "  9  3  1  1  2  2  1  1  2  1  4  7  1  3  3  2  2  1 12  2 10  3  2  4\n",
      "  4  5  2  2 11  1  2 13  5  5  5  1  2  2  2  2  1  1  5  3  3  2  4  1\n",
      "  4  2  2  3  3  6  2  1  5  5  2  9 11  1  2  8  9  7  7  5  4  5  3  1\n",
      "  5  1  1  1  2  4  3  3  3  2  5  2  7 11  1  5  2  3  2  6  8  3  1  9\n",
      "  7  2 12  1 19  3  3  1  2  1  3  5  2  9  5  2  7  1 12  3  3  2  3  4\n",
      "  1  5  1  8  1  4  8  1  2  1  8  3  2  7  5  1  1  4  1  6  1  7  1  8\n",
      "  1  1  4 10  2  4  2  1  3  2  4  2 13  3  1  2  4  4  1  1  1  3  4 13\n",
      "  1  8  3  7  8  2  4  5  5  4  3  1  2  2  2  5  4  4 15  6  1  1  2  8\n",
      "  5  1  1  1  3 22  1  3  2  3  5  2  2  3  2 10  1  5  7  1  5  2  1 10\n",
      "  6 11  3  2  3  4  2  1  4  3  2  5  2  1  5  6  2  9  2  3  2  7  9  1\n",
      "  1  2  3 11  1  9  3  2  4  6 10 22  6  2  2  6  4  9  8  6  2  1  2  1\n",
      "  4  4  9  1 11  1  4  2  1 11  1  3  3  3  1  3  4  1  1  1  1  8  1  7\n",
      "  1  2  2  6  4  3  4  3  3 11  5  1 10  5  2  7  5 15  1  5  1  7  8  4\n",
      "  2  3  2  4  2 11  3  1 18  3  7  4  3 12  1  1  9  1  8  2  1  2  1  5\n",
      "  1  5  1  4  4  1  5  3  4  4  8  2  1  4  1  2  6  2  4  1  1  2  1  4\n",
      "  6  7  7  3  6  1  1  2  4  2  3  2  8  3  1  1  5  2  3  1  3  2  4  1\n",
      "  8  5  1  6  1  5  1  2  1  2  2  5 10  1  4 12  2  2  1  3  6  1  2  4\n",
      "  9  5  1  9  1  3  3 13  3  2  3  5  7  6  7  2  3  2 10  1  3  8  2  8\n",
      " 10  1  9  5  5 11  2  1  5  2  1  4  2  1  3  2  2  4  7  3  1  1  2  6\n",
      "  2  4  1  3  1  1  1  6  2  1  2  8  2  7  2  6  1  5 14  7  5  1  3  1\n",
      "  2  9  2  7  5  3  3  5  1  6  2  3  1  1  8  1  5  2  7  3  5  2 10  6\n",
      "  5 19  3  4  1  2  3  1  1  3  3  1  6 25  2  5  6  8  1  1  4 14  3  2\n",
      " 11  3 12  1  3  7 11  1  3  2  3  5  2  2 15  1  1  2  3  2  7  3  1  8\n",
      "  5  2 11  5 15  6  7  1  1  8  1  8  5  2  1  2  2  7  2 11  3  1  5  9\n",
      "  2  3  1  2  1  4 22 21  2  3 11  1  4  7  1  4  1  4  4  3  2  1  4  2\n",
      "  1  1 14  7  5  4  9  2  1  1  1  7  7 20  7 12  1  1  1  2  2  8  1  1\n",
      " 10  8  1  1  1  2 10  2  2  7  3  1  1  8  5  7  5  1  3 10 14  1  3  2\n",
      "  4  8  4  5  1 12  1  1  4  6  4  2  4  3  5  4  8  1  4  1  2  2  1  1\n",
      "  1  1  1  2  5  9  2  8  3  2  3  1  6  2  2  8  3  5  9  7  4  1  1  4\n",
      "  4  3 10  5  6  9  2  1 16  3  4  2  5  1  3  3  8  2  1  2  5  1  3 10\n",
      "  2  1  6  2  2  3  2  7  8  4  2  3  1  1  2  3  4  2  3  2  3  5  5 12\n",
      "  4  2  4  3 12  2  5  4  2 10  5  9  4  8  4  4  1  1  3  1  1  5  1  6\n",
      "  8  4  4  1  2  2  1  2  1  5  4 10  2  3  1  6  6  1  1  3  7  1  2  3\n",
      "  1  2  1  4  4  5 17 10  9  2  5  3  4  8  1  1  2  6 11  2  1  1  3  3\n",
      "  1  1  1  7  7  9 16  5  4  1  4  1  1  4  2  2  2  3  1  7  2  5  1  2\n",
      "  6  4  6  2  2  9  1  3  3  4  5  1  9 11  4  1  1  1  3  1  1  1 12  1\n",
      "  2 16  1  6  5  3  1 10  4  3  1  5  1  2  1  2  2  7  5  5  4  4  3 14\n",
      "  1  3 12  7  5  1  1  1  3 11  2  4  3  3  3  5 18  1  2  4  1  1  4  1\n",
      "  6  5 21  1  2  3  1  8  1  2  2  2  1  2  1  7 21  4  2  1  1  3  2  2\n",
      "  1  3  4  1  2  4  3  3 10  2  7  2  5  1  6  2 19  2  3  9  1  4  3  3\n",
      "  7  4  2  7  2  1  2  4  1  4  1  4  3  1  6  8]\n"
     ]
    }
   ],
   "source": [
    "c = rng.geometric(p=0.25, size=1000)\n",
    "print(c)"
   ]
  },
  {
   "cell_type": "code",
   "execution_count": 81,
   "metadata": {},
   "outputs": [
    {
     "data": {
      "image/png": "[encoded data removed]",
      "text/plain": [
       "<Figure size 432x288 with 1 Axes>"
      ]
     },
     "metadata": {
      "needs_background": "light"
     },
     "output_type": "display_data"
    }
   ],
   "source": [
    "sns.distplot(c)\n",
    "plt.xlabel(\"X\")\n",
    "plt.ylabel(\"Probability Density\")\n",
    "plt.title(\"Geometric Distribution\")\n",
    "plt.grid()"
   ]
  },
  {
   "cell_type": "markdown",
   "metadata": {},
   "source": [
    "#### 4.4. normal([loc, scale, size])\n",
    "\n",
    "This function draws samples from a normal (Gaussian) distribution. It is one of the most important distributions and fits the probability distribution of many events, e.g. IQ scores, heartbeat etc.\n",
    "\n",
    "It has three parameters:\n",
    "loc - (Mean) where the peak of the bell exists\n",
    "scale - (Standard Deviation) how flat the graph distribution should be.\n",
    "size - the shape of the returned array (https://www.w3schools.com/python/numpy_random_normal.asp)\n",
    "\n",
    "(http://justinbois.github.io/bootcamp/2020/lessons/l23_random_number_generation.html)"
   ]
  },
  {
   "cell_type": "code",
   "execution_count": 76,
   "metadata": {},
   "outputs": [
    {
     "name": "stdout",
     "output_type": "stream",
     "text": [
      "[[ 0.55468908  1.43251178 -1.33076119  1.36215881 -3.78965089  0.39759323\n",
      "   1.80591065  2.30336345  3.96118426  3.03224313  0.10984962  2.56745879\n",
      "  -1.6224874   0.59541561 -0.60000365 -2.32487072  3.22345469 -0.50441103\n",
      "   0.52914213  0.02911648 -0.612583   -2.52924409  0.96964858 -2.3943326\n",
      "   2.84511811  0.28675306  1.80689171  2.52888335  1.21394869 -1.17329859]\n",
      " [ 3.80938722 -1.47915599  1.858122   -1.65547175 -1.79838854  2.46381548\n",
      "   2.42366742  4.91672932  0.34144067  3.42665376  0.462189    2.31604047\n",
      "   3.55961898  3.16478776  1.0175079  -1.215181   -2.52513929  1.55061384\n",
      "   1.38006952  2.75326204  0.83587268  1.24846727  0.82950517  0.73196531\n",
      "   2.07090951 -0.34546846  2.10989827  2.44683569  1.13537209  2.40374406]\n",
      " [ 3.58127114  2.64074184  2.91737913  1.77157995 -0.59828541  1.59841917\n",
      "   1.83171642 -1.65012569  0.87957421 -0.11057486  2.35785613  2.73482709\n",
      "   4.28820228  1.99622068  3.50669842  1.46941508  0.20647365  0.15931798\n",
      "   3.29170727  0.3658148  -1.49871686  0.89795199 -4.34612867 -3.24666767\n",
      "   0.38735131 -2.062077   -0.96987958  3.75085224 -0.62888969 -1.94059214]\n",
      " [ 1.37510297  3.5269509   1.55080201 -0.54944014 -4.12480709 -0.05879465\n",
      "   0.81970247  1.74088917 -0.34840015  1.14274323 -1.71945281  2.9426751\n",
      "   6.06138936  0.80701239  2.08863256  3.93381876  1.77734937 -1.44239715\n",
      "  -0.29690162  4.2756492  -0.58353139 -0.30199825  6.71522038  3.41515063\n",
      "   6.02508838  2.87139972  2.80874828  1.99792028  0.97938496  1.90631325]\n",
      " [ 0.47567361  0.58127894  3.27521102  0.2269231   2.26169166  3.60633875\n",
      "  -0.97559735  4.4834636   5.52905676  2.24578913  3.38918991  1.88755602\n",
      "   1.74471067  0.7838708   0.79274826  1.48297014  0.68483171  1.32380007\n",
      "   3.23017662 -3.18563928  3.90531795  0.36032346  1.86645246 -0.49350211\n",
      "  -2.70808841 -0.79155349 -0.83465033  0.9434217  -1.70167642 -0.20193757]\n",
      " [ 3.44049682  4.32708017  3.65618095 -0.71477027  1.51515884  0.11776202\n",
      "   0.7045264  -0.44227411  1.68183305  1.29879812  3.8785534   1.72066272\n",
      "  -2.98937547 -1.47589942  0.15343027  2.48635167 -1.4537951  -2.34209468\n",
      "  -1.92389189  2.61016461  0.19227901  0.28848386  1.94749588 -0.12473288\n",
      "   0.02332041  4.09552814 -0.25337553 -0.2478652   3.40165135 -0.16990194]\n",
      " [ 2.88211969  4.45873036 -0.10698903 -2.35660685 -2.25450124  1.63043959\n",
      "  -2.6508395   0.6695932   4.27989519  1.59233807  1.26161964  3.11965089\n",
      "  -0.99306615  1.57922411  0.89982622  0.05066878  0.41738425  5.43777232\n",
      "   1.58341745  1.1870976   0.67133732  4.13706211 -2.05693127 -0.03360406\n",
      "  -2.54149056  3.8488275   2.88907669 -2.01281642  0.33282963 -0.61698147]\n",
      " [ 0.28313388  3.60603376  1.95348453  2.71708994  0.84558428  2.11317232\n",
      "   2.26541636  3.23180225  2.63524485  1.59213367  0.56220081  0.8519785\n",
      "   1.11191332  2.54125582  0.2479463   0.58787761 -1.62042338 -3.41564962\n",
      "   0.3703473   1.62464882  2.57266222  0.44657668  0.88631787  2.58175869\n",
      "   0.78575063 -0.60866242 -0.28101913 -0.51005006 -0.69947183  1.37386208]\n",
      " [ 2.55720142  0.71710531  0.17708809  2.06505896  4.58266309  0.7629914\n",
      "  -0.67153148  1.60383589  1.01921737  3.08087275  1.80655898 -2.54655324\n",
      "   1.36279112  0.37538899 -1.51443854  0.40695629  1.9880047  -0.64597802\n",
      "   2.09284349  2.27062827  1.15783986  4.04666866  1.68248675 -0.95564996\n",
      "   7.03744448  1.34119989  4.13616246 -0.90716981  5.43264848  3.33088684]\n",
      " [ 0.37994061  4.11663117 -1.34092722 -1.06459648  0.61063633 -0.94226913\n",
      "   2.1418104   3.82791614  0.32273073 -0.8405962   0.94804063  2.01914598\n",
      "  -0.69931966  2.94357555 -2.74954766  0.8796129   1.11867688 -1.50876755\n",
      "   2.85362017  2.58222374  0.62021971  1.15604073  2.81917279 -0.64221972\n",
      "   3.09712738 -0.44000123  4.62537155  2.17825711  3.35000112  0.79927038]]\n"
     ]
    }
   ],
   "source": [
    "d = rng.normal(loc=1, scale=2, size=(10, 30))\n",
    "print(d)"
   ]
  },
  {
   "cell_type": "code",
   "execution_count": 77,
   "metadata": {},
   "outputs": [
    {
     "data": {
      "image/png": "[encoded data removed]",
      "text/plain": [
       "<Figure size 432x288 with 1 Axes>"
      ]
     },
     "metadata": {
      "needs_background": "light"
     },
     "output_type": "display_data"
    }
   ],
   "source": [
    "sns.distplot(d)\n",
    "plt.xlabel(\"X\")\n",
    "plt.ylabel(\"Probability Density\")\n",
    "plt.title(\"Normal Distribution\")\n",
    "plt.grid()"
   ]
  },
  {
   "cell_type": "markdown",
   "metadata": {},
   "source": [
    "#### 4.5. rayleigh([scale, size])\n",
    "\n",
    "This function draws samples from a Rayleigh distribution. Rayleigh distribution is used in signal processing. It has two parameters, scale and size. (https://www.w3schools.com/python/numpy_random_rayleigh.asp)"
   ]
  },
  {
   "cell_type": "code",
   "execution_count": 74,
   "metadata": {},
   "outputs": [
    {
     "name": "stdout",
     "output_type": "stream",
     "text": [
      "[[0.60640743 2.63939169 2.09831894 3.78544747 0.49321085 2.35014155\n",
      "  2.32995704 3.14858061 5.73271202 4.45499562 0.18515414 2.14235004\n",
      "  4.12824531 3.47242273 5.47501433 3.45179679 2.57896863 2.51010479\n",
      "  3.87091651 0.95336762 3.8906272  4.62375656 2.75812651 2.82331239\n",
      "  2.3759845  2.25522525 3.78589307 3.82129744 4.50383318 1.99536033]\n",
      " [4.26028833 1.43699797 3.03158112 3.93427537 0.76051856 1.26710951\n",
      "  2.33359389 2.75695523 3.4559169  3.99260646 2.28839411 4.32008831\n",
      "  1.34019722 2.09526259 2.8226578  1.8421307  1.45619777 1.12939221\n",
      "  2.3510659  0.518523   2.26924104 3.041043   2.28939698 0.77427903\n",
      "  3.6216678  2.05738319 0.36199213 1.937421   3.96872191 1.9299716 ]\n",
      " [2.46794578 2.23733754 2.4298806  0.97537792 0.62937202 2.41345878\n",
      "  1.65572083 2.66788014 1.92819436 1.94185656 2.36382806 1.56601244\n",
      "  1.39524882 2.67672848 1.73465827 1.92091714 3.85751195 2.94798729\n",
      "  1.69156335 2.68421841 1.02505564 2.68265379 1.98252753 0.64738467\n",
      "  2.66212845 2.36118637 0.22397955 5.47668405 2.6190009  0.64780749]\n",
      " [1.10615949 5.50852468 2.61584379 1.16081721 2.31519214 1.52860804\n",
      "  2.81729559 2.24030834 1.69983976 0.85287694 1.80827435 3.99479728\n",
      "  0.80021263 3.3220836  1.55877604 1.81239846 3.03388511 0.4592988\n",
      "  0.52802668 0.74900864 2.86215537 0.97688482 0.97641127 3.4762508\n",
      "  3.6513449  2.02339451 1.95847738 1.0611618  2.03029896 1.79923638]\n",
      " [3.99396584 0.63109659 2.90098673 1.80190209 4.35054087 1.40466782\n",
      "  6.20326316 3.19691846 3.66198388 1.78178471 0.47079596 1.13316076\n",
      "  1.75259652 1.23581825 2.82731975 3.35632504 3.43485098 0.43443005\n",
      "  2.89803948 1.90763378 1.86282392 2.39067565 1.67902354 3.08319226\n",
      "  1.3603748  4.64645454 3.32018602 1.23179202 0.20222087 2.51632611]\n",
      " [4.67279771 1.33710753 5.02238951 3.70392068 3.96362978 3.7322398\n",
      "  0.67516155 2.22551025 1.17004384 1.85584703 2.28121299 1.57903795\n",
      "  3.24857154 2.47306325 3.17246501 2.70108901 1.30575316 2.73701441\n",
      "  1.88224355 1.67837612 1.90473073 3.49476638 1.49282236 1.62255006\n",
      "  3.21609677 1.67418436 1.59628636 1.88416384 3.52281191 1.69753662]\n",
      " [0.3571752  2.5227678  3.22869597 4.56049368 1.69538368 2.73422447\n",
      "  1.22112318 3.09947803 2.69164073 4.10383378 2.77574095 1.28826241\n",
      "  4.13905552 2.33947114 2.37190442 2.04749548 2.60266316 5.08667888\n",
      "  2.65630226 2.39088364 5.71500844 3.44754093 1.74566548 2.35670129\n",
      "  1.52647211 1.10108836 2.54342072 3.81388335 5.61548334 5.59487046]\n",
      " [3.3640228  3.7039683  0.63060359 3.55393595 0.89986394 3.14014784\n",
      "  2.34819321 2.43655773 4.69165829 3.4677718  1.59582525 1.93340022\n",
      "  0.93723065 0.83881816 4.98786307 1.50432401 1.01550025 2.45406825\n",
      "  1.41293264 1.42670253 4.82405643 5.83875908 4.69897077 2.66306857\n",
      "  3.30645143 4.19506957 2.36387606 0.20295849 4.50849096 0.3416183 ]\n",
      " [2.28812664 3.9384911  1.83773306 1.44093438 3.26520828 2.1576991\n",
      "  1.54390239 3.43346207 0.93969552 1.19882122 3.00527767 0.30797753\n",
      "  0.12804113 1.86366474 1.91623456 1.39302826 6.01447137 3.34189781\n",
      "  4.26901843 5.40297873 1.02222687 1.86473694 4.21617913 0.88063794\n",
      "  4.48976494 0.82608706 1.40720987 2.40306177 1.24919475 2.25962729]\n",
      " [3.00067718 3.59636983 2.23344787 1.17538677 1.68804779 1.11491096\n",
      "  3.17075849 3.24971951 0.10576834 7.03092813 1.35236708 1.17826285\n",
      "  2.29833991 2.65860876 3.02884855 3.11138872 1.27708984 0.54063083\n",
      "  3.18727795 0.70773204 2.50969136 4.60748084 3.05343893 2.39405268\n",
      "  1.6086121  3.58318888 0.93087785 2.74211188 1.42197915 3.9348457 ]]\n"
     ]
    }
   ],
   "source": [
    "e = rng.rayleigh(scale=2, size=(10, 30))\n",
    "print(e)"
   ]
  },
  {
   "cell_type": "code",
   "execution_count": 75,
   "metadata": {},
   "outputs": [
    {
     "data": {
      "image/png": "[encoded data removed]",
      "text/plain": [
       "<Figure size 432x288 with 1 Axes>"
      ]
     },
     "metadata": {
      "needs_background": "light"
     },
     "output_type": "display_data"
    }
   ],
   "source": [
    "sns.distplot(e)\n",
    "plt.xlabel(\"X\")\n",
    "plt.ylabel(\"Probability Density\")\n",
    "plt.title(\"Rayleigh Distribution\")\n",
    "plt.grid()"
   ]
  },
  {
   "cell_type": "markdown",
   "metadata": {},
   "source": [
    "#### 4.6. standard_t(df[, size])\n",
    "\n",
    "This function draws samples from a standard Student's t distribution with *df* degrees of freedom."
   ]
  },
  {
   "cell_type": "code",
   "execution_count": 94,
   "metadata": {},
   "outputs": [
    {
     "name": "stdout",
     "output_type": "stream",
     "text": [
      "[ 0.21062096  2.86664934 -0.94290953  0.217472    0.51017444  0.39778478\n",
      " -0.05197084 -0.40382595 -0.4491064   0.03088832  0.56057438 -1.90456833\n",
      "  1.84030347 -1.49226497 -1.70638091 -1.68748984 -2.69484458 -0.16336133\n",
      " -0.20628418 -2.35475742  1.52529692 -0.46409097 -1.19595878  3.43247508\n",
      "  0.73542349 -0.47426659  1.31526168 -1.16164271  0.74261141 -0.30442767\n",
      " -1.32005904  0.81253156  0.84855256  0.49984809 -4.74614444 -0.09683229\n",
      "  0.67854023 -1.76871266 -0.9828003   1.21593904  0.17399339  0.34416074\n",
      " -1.60813831  0.25283225  0.3500952  -1.95760093 -1.4399637   0.60196573\n",
      " -0.17280746 -1.16588522 -0.54286508  0.48715542 -2.37844809  1.10131294\n",
      "  0.22018918 -0.68373908 -3.15763824 -4.76007197 -1.7521475   0.49369329\n",
      " -0.19742248 -0.43090237  0.75802907 -0.85390384  3.13005509 -0.07789371\n",
      " -2.04045031  1.05135707 -1.98091097  0.6165362   0.28147175 -0.03325784\n",
      "  1.6377296   0.81260414  0.28970147  3.48708824 -1.86321958  0.17674195\n",
      "  1.72314947  0.13368142  2.00938267 -0.45663299  2.97364615 -0.30407923\n",
      "  1.80423562  0.38707215 -0.22682367  0.30015095 -0.76744967  1.47354306\n",
      " -2.27954717  0.80626538  1.80847423  0.25810321 -0.31311943  0.83727311\n",
      "  0.54643495 -0.21945534  2.55411961  1.30411258]\n"
     ]
    }
   ],
   "source": [
    "f = rng.standard_t(5, 100)\n",
    "print(f)"
   ]
  },
  {
   "cell_type": "code",
   "execution_count": 95,
   "metadata": {},
   "outputs": [
    {
     "data": {
      "image/png": "[encoded data removed]",
      "text/plain": [
       "<Figure size 432x288 with 1 Axes>"
      ]
     },
     "metadata": {
      "needs_background": "light"
     },
     "output_type": "display_data"
    }
   ],
   "source": [
    "sns.distplot(f)\n",
    "plt.xlabel(\"X\")\n",
    "plt.ylabel(\"Probability Density\")\n",
    "plt.title(\"Standard Student's T Distribution\")\n",
    "plt.grid()"
   ]
  },
  {
   "cell_type": "markdown",
   "metadata": {},
   "source": [
    "#### 4.7. triangular(left, mode, right[, size])\n",
    "\n",
    "This function draws samples from the triangular distribution over the interval ```[left, right]```. The function returns a random floating number between the two specified numbers, but a third parameter (the mode) can also be specified."
   ]
  },
  {
   "cell_type": "code",
   "execution_count": 102,
   "metadata": {},
   "outputs": [
    {
     "name": "stdout",
     "output_type": "stream",
     "text": [
      "[-0.05956209 -0.33476442 -1.61667238 -0.76569455 -0.34149623  1.52317369\n",
      " -0.3967845   0.30205523  1.11407562  1.09731059 -1.87297602 -0.31656637\n",
      "  0.2915122   0.66231567  0.98587292  0.02017136 -1.43388022 -2.38962964\n",
      "  1.52803594 -0.57772913 -0.28478566 -1.54291697 -0.24169722 -0.31158645\n",
      "  0.3856539   1.12995913  0.97796633  0.47277784  0.99951918  0.84416417]\n"
     ]
    }
   ],
   "source": [
    "g = rng.standard_t(20, 30)\n",
    "print(g)"
   ]
  },
  {
   "cell_type": "code",
   "execution_count": 107,
   "metadata": {},
   "outputs": [
    {
     "data": {
      "image/png": "[encoded data removed]",
      "text/plain": [
       "<Figure size 432x288 with 1 Axes>"
      ]
     },
     "metadata": {
      "needs_background": "light"
     },
     "output_type": "display_data"
    }
   ],
   "source": [
    "sns.distplot(g, bins=10)\n",
    "plt.xlabel(\"X\")\n",
    "plt.ylabel(\"Probability Density\")\n",
    "plt.title(\"Triangular Distribution\")\n",
    "plt.grid()"
   ]
  },
  {
   "cell_type": "markdown",
   "metadata": {},
   "source": [
    "#### 4.8. uniform([low, high, size])\n",
    "\n",
    "This function draws samples from a uniform distribution. It returns a random floating number between two specified numbers (both inclusive). (https://www.w3schools.com/python/ref_random_uniform.asp)"
   ]
  },
  {
   "cell_type": "code",
   "execution_count": 108,
   "metadata": {},
   "outputs": [
    {
     "name": "stdout",
     "output_type": "stream",
     "text": [
      "[-0.13538645  1.2146827  -0.81700319 -1.26676722 -2.23985864  0.24373019\n",
      "  0.44868824 -1.16765719 -0.25779134 -1.37427893  0.25175943 -2.43123355\n",
      "  0.2154263   1.43616877 -1.24097035 -0.54735337 -0.29502861  1.81214121\n",
      " -0.06559902  0.49638679  0.50600207  1.27457409  0.06281232 -0.91914383\n",
      " -2.52125779 -0.08443922  1.16058705  0.90289988 -0.97367396  0.55229522]\n"
     ]
    }
   ],
   "source": [
    "h = rng.standard_t(20, 30)\n",
    "print(h)"
   ]
  },
  {
   "cell_type": "code",
   "execution_count": 109,
   "metadata": {},
   "outputs": [
    {
     "data": {
      "image/png": "[encoded data removed]",
      "text/plain": [
       "<Figure size 432x288 with 1 Axes>"
      ]
     },
     "metadata": {
      "needs_background": "light"
     },
     "output_type": "display_data"
    }
   ],
   "source": [
    "sns.distplot(h, bins=10)\n",
    "plt.xlabel(\"X\")\n",
    "plt.ylabel(\"Probability Density\")\n",
    "plt.title(\"Uniform Distribution\")\n",
    "plt.grid()"
   ]
  },
  {
   "cell_type": "markdown",
   "metadata": {},
   "source": [
    "<br>\n",
    "\n",
    "### 5. Seeds\n",
    "***\n",
    "There are four random generator functions in the numpy.random package. These are:\n",
    "\n",
    "1. RandomState\n",
    "2. seed()\n",
    "3. get_state()\n",
    "4. set_state()\n",
    "\n",
    "In the new package the way of generating seeds has changed from the Mersenne Twister algorithm to PCG64. \n",
    "\n",
    "A random seed is a number used to initialise a pseudorandom number generator. A pseudorandom number generator's number sequence is completely determined by the seed, and therefore if a pseudorandom number generator is reinitialised with the same seed, it will produce the same sequence of numbers. (https://en.wikipedia.org/wiki/Random_seed)\n",
    "\n",
    "A permuted congruential generator (PCG) is a pseudorandom number generation algorithm developed in 2014 which applies an output permutation function to improve the statistical properties of a modulo-$2^n$ linear congruential generator. It achieves excellent statistical performance with small and fast code, and small state size.\n",
    "PCG64 is the new default numpy.random module. It is a 128-bit implementation of O'Neill's permuted congruential generator. PCG-64 has a period of $2^{128}$ and supports advancing an arbitrary number of steps.\n",
    "\n",
    "Random variates are generated by permuting the output of a 128-bit LCG\n",
    "\n",
    "$s_{n+1} = ms_n + i$ mod $2^{128}$\n",
    "\n",
    "where $s$ is the state of the generator, $m$ is the multiplier and $i$ is the increment. (https://bashtage.github.io/randomgen/bit_generators/pcg64.html)\n",
    "\n",
    "By calling default_rng, a new instance of a Generator is obtained. The Generator provides access to a wide range of distributions. The default BitGenerator used by Generator is PCG64 (https://docs.w3cub.com/numpy~1.17/random/generator/), which has better statistical properties than the legacy MT19937 used in RandomState. (https://numpy.org/doc/stable/reference/random/index.html)"
   ]
  },
  {
   "cell_type": "code",
   "execution_count": 120,
   "metadata": {},
   "outputs": [
    {
     "data": {
      "text/plain": [
       "0.22733602246716966"
      ]
     },
     "execution_count": 120,
     "metadata": {},
     "output_type": "execute_result"
    }
   ],
   "source": [
    "from numpy.random import default_rng\n",
    "\n",
    "rg = default_rng(12345)\n",
    "rg.random()"
   ]
  },
  {
   "cell_type": "code",
   "execution_count": 121,
   "metadata": {},
   "outputs": [
    {
     "data": {
      "text/plain": [
       "0.37786929937474845"
      ]
     },
     "execution_count": 121,
     "metadata": {},
     "output_type": "execute_result"
    }
   ],
   "source": [
    "from numpy.random import Generator, MT19937\n",
    "rg = Generator(MT19937(12345))\n",
    "rg.random()"
   ]
  },
  {
   "cell_type": "markdown",
   "metadata": {},
   "source": [
    "<br>\n",
    "\n",
    "### 6. References\n",
    "***\n",
    "Bytes: https://pyprog.pro/random_sampling_functions/bytes.html\n",
    "\n",
    "Chi-square distribution: https://www.w3schools.com/python/numpy_random_chisquare.asp\n",
    "\n",
    "Chi-squared test: https://en.wikipedia.org/wiki/Chi-squared_test\n",
    "\n",
    "Comparing frequencies: https://sphweb.bumc.bu.edu/otlt/MPH-Modules/PH717-QuantCore/PH717_ComparingFrequencies/PH717_ComparingFrequencies2.html\n",
    "\n",
    "Continuous uniform distribution: https://en.wikipedia.org/wiki/Continuous_uniform_distribution\n",
    "\n",
    "Discrete uniform distribution: https://mathworld.wolfram.com/DiscreteUniformDistribution.html\n",
    "\n",
    "Half-closed interval: https://mathworld.wolfram.com/Half-ClosedInterval.html\n",
    "\n",
    "Interval: https://en.wikipedia.org/wiki/Interval_(mathematics)#Including_or_excluding_endpoints\n",
    "\n",
    "numpy.arange: https://numpy.org/doc/stable/reference/generated/numpy.arange.html\n",
    "\n",
    "numpy.mean: https://numpy.org/doc/stable/reference/generated/numpy.mean.html\n",
    "\n",
    "numpy.random.Generator.bytes: https://numpy.org/doc/stable/reference/random/generated/numpy.random.Generator.bytes.html#numpy.random.Generator.bytes\n",
    "\n",
    "numpy.random.Generator.choice: https://numpy.org/doc/stable/reference/random/generated/numpy.random.Generator.choice.html#numpy.random.Generator.choice \n",
    "\n",
    "numpy.random.Generator.integers: https://numpy.org/doc/stable/reference/random/generated/numpy.random.Generator.integers.html#numpy.random.Generator.integers\n",
    "\n",
    "numpy.random.Generator.random: https://numpy.org/doc/stable/reference/random/generated/numpy.random.Generator.random.html#numpy.random.Generator.random\n",
    "\n",
    "numpy.random.Generator.shuffle: https://numpy.org/doc/stable/reference/random/generated/numpy.random.Generator.shuffle.html#numpy.random.Generator.shuffle\n",
    "\n",
    "Random choice: https://pynative.com/python-random-choice/\n",
    "\n",
    "Random exponential: https://www.w3schools.com/python/numpy_random_exponential.asp\n",
    "\n",
    "Random permutation: https://www.w3schools.com/python/numpy_random_permutation.asp\n",
    "\n",
    "Replacement: https://stackoverflow.com/questions/40689152/what-does-replacement-mean-in-numpy-random-choice\n",
    "\n",
    "Shuffle vs Permute: https://stackoverflow.com/questions/15474159/shuffle-vs-permute-numpy\n",
    "\n",
    "What are degrees of freedom in statistics?: https://blog.minitab.com/blog/statistics-and-quality-data-analysis/what-are-degrees-of-freedom-in-statistics"
   ]
  }
 ],
 "metadata": {
  "kernelspec": {
   "display_name": "Python 3",
   "language": "python",
   "name": "python3"
  },
  "language_info": {
   "codemirror_mode": {
    "name": "ipython",
    "version": 3
   },
   "file_extension": ".py",
   "mimetype": "text/x-python",
   "name": "python",
   "nbconvert_exporter": "python",
   "pygments_lexer": "ipython3",
   "version": "3.8.3"
  }
 },
 "nbformat": 4,
 "nbformat_minor": 4
}
