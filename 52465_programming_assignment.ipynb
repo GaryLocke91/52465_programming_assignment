{
 "cells": [
  {
   "cell_type": "markdown",
   "metadata": {},
   "source": [
    "# The ```numpy.random``` package\n",
    "***"
   ]
  },
  {
   "cell_type": "markdown",
   "metadata": {},
   "source": [
    "### Table of contents\n",
    "\n",
    "#### 1. Purpose of the package\n",
    "\n",
    "#### 2. Simple random data functions\n",
    "   \n",
    "- 2.1 integers()\n",
    "- 2.2 random()\n",
    "- 2.3 choice()\n",
    "- 2.4 bytes()\n",
    "   \n",
    "#### 3. Permutations functions\n",
    "  \n",
    "- 3.1 shuffle()\n",
    "- 3.2 permutation()\n",
    "   \n",
    "#### 4. Distributions functions\n",
    "  \n",
    "- 4.1 chisquare()\n",
    "- 4.2 exponential()\n",
    "- 4.3 geometric()\n",
    "- 4.4 normal()\n",
    "- 4.5 rayleigh()\n",
    "- 4.6 standard_t()\n",
    "- 4.7 triangular()\n",
    "- 4.8 uniform()\n",
    "\n",
    "#### 5. Seeds\n",
    "\n",
    "#### 6. References\n"
   ]
  },
  {
   "cell_type": "markdown",
   "metadata": {},
   "source": [
    "### 1. Purpose of the package\n",
    "***\n",
    "NumPy is a high-performance multidimensional array library and is the core library for scientific computing in Python. A NumPy array is a grid of values of the same type, and is indexed by a tuple of non-negative integers. The standard Python library provides lists, which is the Python equivalent of a NumPy array, but is resizeable and can contain elements of different types. NumPy data structures perform better in terms of size, performance and functionality.<sup>1</sup> Although Python has an in-built ```random``` package, ```numpy.random``` is a subpackage of NumPy that offers a suite of extra functionality and methods based on pseudorandom number generation.<sup>2</sup> It contains some simple random data generation methods, permutation and distribution functions, and random generator functions.\n",
    "\n",
    "Here are some key points about NumPy's ```ndarray``` objects relevant to the ```numpy.random``` module:\n",
    "- The data in an ```ndarray``` must be homogeneous\n",
    "- Arrays have a ```ndim``` attribute for the number of axes or dimensions of the array\n",
    "- Arrays have a ```shape``` attribute which is a tuple that indicates the size of the array in each dimension\n",
    "- Arrays have a ```dtype``` attribute which describes the data type of the array\n",
    "- The ```size``` attribute is the total number of elements in the array\n",
    "\n",
    "![NumPy Array](arrays.png)\n",
    "\n",
    "A random number does not mean generating a different number each time, but rather something that cannot be logically predicted. If there is a computer programme that can generate a random number, it can be predicted, and therefore it is not truly random. Random numbers generated using an algorithm are referred to as \"pseudorandom numbers\".<sup>3</sup> Pseudorandomness is a sample of numbers that appear to be randomly generated, but were in fact generated using a deterministic process. They are generated in a sequence that is seeded with an initial number. Although the value of this seed is not important, what is important to note is that the same seeding of the process will result in the same sequence of random numbers.<sup>4</sup> An explanation of the use of seeds in generating pseudorandom numbers will be given in section 5.\n",
    "\n",
    "The first step in analysing this package is to import the NumPy library as well as other required libraries."
   ]
  },
  {
   "cell_type": "code",
   "execution_count": null,
   "metadata": {},
   "outputs": [],
   "source": [
    "# Import required libraries\n",
    "import numpy as np\n",
    "import pandas as pd\n",
    "import matplotlib.pyplot as plt\n",
    "import seaborn as sns\n",
    "import math as m"
   ]
  },
  {
   "cell_type": "markdown",
   "metadata": {},
   "source": [
    "The code below shows how a new Generator is constructed. ```numpy.random.default_nrg()``` is the recommended constructor, which takes one parameter to create a seed to initialise the BitGenerator. In this particular example, the seed is set to 123. If no seed is passed, then fresh, unpredictable entropy will be pulled from the OS.<sup>5</sup> This infers that the seed will be based on the current time. The seed will be different each time the programme is run and consequently the sequence of random numbers will also be different with each run. The default BitGenerator used by Generator is PCG64, which will be discussed in more detail in section 5."
   ]
  },
  {
   "cell_type": "code",
   "execution_count": null,
   "metadata": {},
   "outputs": [],
   "source": [
    "# Construct a new Generator\n",
    "rng = np.random.default_rng(123)\n",
    "print(rng)"
   ]
  },
  {
   "cell_type": "markdown",
   "metadata": {},
   "source": [
    "The following sections will explain the use of the \"Simple random data\" and \"Permutations\" functions, explain the use and purpose of eight \"Distributions\" functions, and explain the use of seeds in generating pseudorandom numbers."
   ]
  },
  {
   "cell_type": "markdown",
   "metadata": {},
   "source": [
    "<br>\n",
    "\n",
    "### 2. Simple random data functions\n",
    "***\n",
    "The simple random data functions are a set of functions that return different types of random numbers depending on the required outputs. There are four simple random data functions in the ```numpy.random``` package. These are:\n",
    "\n",
    "1. ```integers()```\n",
    "2. ```random()```\n",
    "3. ```choice()```\n",
    "4. ```bytes()```"
   ]
  },
  {
   "cell_type": "markdown",
   "metadata": {},
   "source": [
    "#### 2.1. integers(low[, high, size, dtype, endpoint])\n",
    "\n",
    "This function returns random integers from *low* (inclusive) to *high* (exclusive), or if ```endpoint=True```, *low* (inclusive) to *high* (inclusive). This replaces the ```RandomState.randint()``` and ```RandomState.random_integers()``` functions in the previous version of the API documentation.<sup>6</sup> The function below returns an array comprising 15 intergers between 2 and 12. By setting ```endpoint=True```, the default setting is overwritten and the number 12 is now inclusive in the output."
   ]
  },
  {
   "cell_type": "code",
   "execution_count": null,
   "metadata": {},
   "outputs": [],
   "source": [
    "# Construct a new Generator\n",
    "rng = np.random.default_rng()\n",
    "# Create an array of random integers\n",
    "rng.integers(2, 12, size=15, endpoint=True)"
   ]
  },
  {
   "cell_type": "markdown",
   "metadata": {},
   "source": [
    "If no value is given for *high*, this results in an array ranging from 0 to the *low* value, as shown below. In this instance, ```endpoint=False``` is the default, therefore the *low* value of five is excluded."
   ]
  },
  {
   "cell_type": "code",
   "execution_count": null,
   "metadata": {},
   "outputs": [],
   "source": [
    "# Construct a new Generator\n",
    "rng = np.random.default_rng()\n",
    "# Create an array of random integers\n",
    "rng.integers(5, size=15)"
   ]
  },
  {
   "cell_type": "markdown",
   "metadata": {},
   "source": [
    "A tuple of integers can also be passed to the *size* parameter. In the example below, an array of size 50 x 20 x 40 is returned. As ```endpoint=True```, the *low* value is included. The results are from the \"discrete uniform\" distribution, which is also known as the \"equally likely outcomes\" distribution.<sup>7</sup>"
   ]
  },
  {
   "cell_type": "code",
   "execution_count": null,
   "metadata": {},
   "outputs": [],
   "source": [
    "# Construct a new Generator\n",
    "rng = np.random.default_rng()\n",
    "# Create three arrays of integers\n",
    "ax = rng.integers(30, size=(50,20,40), endpoint=True)\n",
    "ay = rng.integers(40, size=(50,20,40), endpoint=True)\n",
    "az = rng.integers(50, size=(50,20,40), endpoint=True)\n",
    "# Print the first array\n",
    "print(ax)"
   ]
  },
  {
   "cell_type": "markdown",
   "metadata": {},
   "source": [
    "It is clear from the two plots below that the probability density is approximately equal for each integer in each array. One observation that can be made here is that that the peak of the curve is flatter as the *low* value increases."
   ]
  },
  {
   "cell_type": "code",
   "execution_count": null,
   "metadata": {},
   "outputs": [],
   "source": [
    "# Create a plot of each array, but exclude histogram\n",
    "sns.distplot(ax, label=\"low = 30\", hist=False)\n",
    "sns.distplot(ay, label=\"low = 40\", hist=False)\n",
    "sns.distplot(az, label=\"low = 50\", hist=False)\n",
    "plt.xlabel(\"X\"), plt.ylabel(\"Probability Density\"), plt.title(\"Discrete Uniform Distribution\")\n",
    "plt.grid()"
   ]
  },
  {
   "cell_type": "markdown",
   "metadata": {},
   "source": [
    "The mean of each array is approximately half of what the passed *low* value for each array is."
   ]
  },
  {
   "cell_type": "code",
   "execution_count": null,
   "metadata": {},
   "outputs": [],
   "source": [
    "# Get the mean of each array\n",
    "print(np.mean(ax))\n",
    "print(np.mean(ay))\n",
    "print(np.mean(az))"
   ]
  },
  {
   "cell_type": "markdown",
   "metadata": {},
   "source": [
    "The histogram below also illustrates how the returned random integers are from the discrete uniform distribution. Each value of the random variable is equally likely, and the values of the random variable are uniformly distributed.<sup>8</sup> The uniform distribution is discussed in more detail in section 4.8."
   ]
  },
  {
   "cell_type": "code",
   "execution_count": null,
   "metadata": {},
   "outputs": [],
   "source": [
    "# Plot a histogram of the ax array\n",
    "sns.distplot(ax)\n",
    "plt.xlabel(\"X\"), plt.ylabel(\"Probability Density\"), plt.title(\"Discrete Uniform Distribution (ax array)\")\n",
    "plt.grid()"
   ]
  },
  {
   "cell_type": "markdown",
   "metadata": {},
   "source": [
    "#### 2.2 random([size, dtype, out])\n",
    "\n",
    "This function returns random floats in the half-open interval [0.0, 1.0). A half-open (or half-closed) interval is an interval in which one endpoint is included, but not the other. It is denoted [a, b) or (a, b].<sup>9</sup> <sup>10</sup> In this instance, $0.0≤x<1.0$. The function below returns a 3 x 4 x 5 array of floats between 0.0 (inclusive) and 1.0 (exclusive)."
   ]
  },
  {
   "cell_type": "code",
   "execution_count": null,
   "metadata": {},
   "outputs": [],
   "source": [
    "# Construct a new Generator\n",
    "rng = np.random.default_rng()\n",
    "# Create an array of random floats\n",
    "rng.random((3, 4, 5))"
   ]
  },
  {
   "cell_type": "markdown",
   "metadata": {},
   "source": [
    "The function below returns an array of 500 floats between 0.0 and 1.0. Results are from the \"continuous uniform\" distribution over the stated interval, and therefore the mean of these numbers is approximpately 0.5.<sup>11</sup>"
   ]
  },
  {
   "cell_type": "code",
   "execution_count": null,
   "metadata": {},
   "outputs": [],
   "source": [
    "# Construct a new Generator\n",
    "rng = np.random.default_rng()\n",
    "# Create an array of random floats\n",
    "b = rng.random(1000)\n",
    "# Print the array\n",
    "print(b)"
   ]
  },
  {
   "cell_type": "markdown",
   "metadata": {},
   "source": [
    "The scatter plot below shows the random distribution of this array."
   ]
  },
  {
   "cell_type": "code",
   "execution_count": null,
   "metadata": {},
   "outputs": [],
   "source": [
    "# Create a scatter plot of the array\n",
    "plt.plot(b, \".\")\n",
    "plt.title(\"ax Array\"), plt.xlabel(\"Sample\"), plt.ylabel(\"Number\")\n",
    "plt.grid()"
   ]
  },
  {
   "cell_type": "markdown",
   "metadata": {},
   "source": [
    "The ```describe()``` function can be used to get the mean of the array, which is approximately 0.5, as well as other statistics.<sup>12</sup>"
   ]
  },
  {
   "cell_type": "code",
   "execution_count": null,
   "metadata": {},
   "outputs": [],
   "source": [
    "# Generate descriptive statistics\n",
    "df = pd.DataFrame(b)\n",
    "df.describe()"
   ]
  },
  {
   "cell_type": "code",
   "execution_count": null,
   "metadata": {},
   "outputs": [],
   "source": [
    "# Get the mean of the array\n",
    "np.mean(b)"
   ]
  },
  {
   "cell_type": "markdown",
   "metadata": {},
   "source": [
    "As per the plot below, the probability density function is portrayed almost as a rectangle, as the probability density is approximately 1.0 for each bin.<sup>13</sup>"
   ]
  },
  {
   "cell_type": "code",
   "execution_count": null,
   "metadata": {},
   "outputs": [],
   "source": [
    "# Create a plot of the array\n",
    "sns.distplot(b)\n",
    "plt.xlabel(\"X\")\n",
    "plt.ylabel(\"Probability Density\")\n",
    "plt.title(\"Continuous Uniform Distribution\")\n",
    "plt.grid()"
   ]
  },
  {
   "cell_type": "markdown",
   "metadata": {},
   "source": [
    "#### 2.3. choice(a[, size, replace, p, axis, shuffle])\n",
    "\n",
    "This function generates a random sample from a given 1-D array.<sup>14</sup> The function below returns an array comprising four intergers between 1 and 10 (exclusive). If an integer is given, a random integer is returned from ```numpy.arange(a)```."
   ]
  },
  {
   "cell_type": "code",
   "execution_count": null,
   "metadata": {},
   "outputs": [],
   "source": [
    "# Construct a new Generator\n",
    "rng = np.random.default_rng()\n",
    "# Create an array of integers between 1 and 10 (exclusive)\n",
    "rng.choice(10, 4)"
   ]
  },
  {
   "cell_type": "markdown",
   "metadata": {},
   "source": [
    "The example below returns a value between 0 (inclusive) and 10 (exclusive) as values are generated within the half open interval [start, stop).<sup>15</sup>"
   ]
  },
  {
   "cell_type": "code",
   "execution_count": null,
   "metadata": {},
   "outputs": [],
   "source": [
    "# Construct a new Generator\n",
    "rng = np.random.default_rng()\n",
    "# Return a value between 0 and 10 (exclusive)\n",
    "rng.choice(10)"
   ]
  },
  {
   "cell_type": "markdown",
   "metadata": {},
   "source": [
    "As demonstrated below, the function can be used as a simulator for a simple coin flip."
   ]
  },
  {
   "cell_type": "code",
   "execution_count": null,
   "metadata": {},
   "outputs": [],
   "source": [
    "# Construct a new Generator\n",
    "rng = np.random.default_rng()\n",
    "# Return a random string\n",
    "rng.choice([\"Heads\", \"Tails\"])"
   ]
  },
  {
   "cell_type": "markdown",
   "metadata": {},
   "source": [
    "The function can also be used to select a random item from a list as shown below.<sup>16</sup>"
   ]
  },
  {
   "cell_type": "code",
   "execution_count": null,
   "metadata": {},
   "outputs": [],
   "source": [
    "# Construct a new Generator\n",
    "rng = np.random.default_rng()\n",
    "# Create a list\n",
    "number_list = [111, 222, 333, 444, 555]\n",
    "# Output a random value from the list\n",
    "print(rng.choice(number_list))"
   ]
  },
  {
   "cell_type": "markdown",
   "metadata": {},
   "source": [
    "A tuple of integers can also be passed to the *size* parameter. In the example below, an array of size 3 x 2 x 3 is returned. The values are between 0 (inclusive) and 18 (exclusive). By setting ```replace=False```, no integer is repeated in the output. An error would occur if the input was less than 18 in this case, as there would not be enough unique integers.<sup>17</sup>"
   ]
  },
  {
   "cell_type": "code",
   "execution_count": null,
   "metadata": {},
   "outputs": [],
   "source": [
    "# Construct a new Generator\n",
    "rng = np.random.default_rng()\n",
    "# Create an array of unique values\n",
    "c = rng.choice(18, size=[3, 2, 3], replace=False)\n",
    "print(c)"
   ]
  },
  {
   "cell_type": "markdown",
   "metadata": {},
   "source": [
    "#### 2.4. bytes(length)\n",
    "\n",
    "This function returns random bytes as a string.<sup>18</sup> The function below returns five bytes."
   ]
  },
  {
   "cell_type": "code",
   "execution_count": null,
   "metadata": {},
   "outputs": [],
   "source": [
    "# Construct a new Generator\n",
    "rng = np.random.default_rng()\n",
    "# Return five random bytes\n",
    "rng.bytes(5)"
   ]
  },
  {
   "cell_type": "markdown",
   "metadata": {},
   "source": [
    "The example below outputs 10 rows of bytes increasing in length by one byte with each iteration.<sup>19</sup> A byte object is displayed as a sequence of bytes between quotes and preceded by \"b\"."
   ]
  },
  {
   "cell_type": "code",
   "execution_count": null,
   "metadata": {},
   "outputs": [],
   "source": [
    "# Construct a new Generator\n",
    "rng = np.random.default_rng()\n",
    "# Output a string of bytes, incrementing by 1 each time\n",
    "for length in range(10):\n",
    "    print(length, \": \", rng.bytes(length))"
   ]
  },
  {
   "cell_type": "markdown",
   "metadata": {},
   "source": [
    "<br>\n",
    "\n",
    "### 3. Permutations functions\n",
    "***\n",
    "A permutation is an arrangement or ordering of a number of different objects. There are two permutation functions in the ```numpy.random``` package used for rearranging the elements of an array. These are:\n",
    "\n",
    "1. ```shuffle()```\n",
    "2. ```permutation()```"
   ]
  },
  {
   "cell_type": "markdown",
   "metadata": {},
   "source": [
    "#### 3.1. shuffle(x[, axis])\n",
    "\n",
    "This function modifies a sequence in-place by shuffling or re-arranging its contents.<sup>20</sup> The function below takes a list of sequential integers as input and reorganises the items.  "
   ]
  },
  {
   "cell_type": "code",
   "execution_count": null,
   "metadata": {},
   "outputs": [],
   "source": [
    "# Construct a new Generator\n",
    "rng = np.random.default_rng()\n",
    "# Create a list of integers\n",
    "shuffle_lst = [1, 2, 3, 4, 5]\n",
    "# Shuffle the values in the list\n",
    "rng.shuffle(shuffle_lst)\n",
    "# Print the shuffled list\n",
    "print(shuffle_lst)"
   ]
  },
  {
   "cell_type": "markdown",
   "metadata": {},
   "source": [
    "The function below returns an array of size 3 x 3 x 2 with values between 0.0 and 1.0. The subsequent code shuffles the order of the first axis only, while the order of the others remain unchanged."
   ]
  },
  {
   "cell_type": "code",
   "execution_count": null,
   "metadata": {},
   "outputs": [],
   "source": [
    "# Construct a new Generator\n",
    "rng = np.random.default_rng()\n",
    "# Create an array of random floats\n",
    "shuffle_array = rng.random((3, 3, 2))\n",
    "# Print array\n",
    "print(shuffle_array)"
   ]
  },
  {
   "cell_type": "code",
   "execution_count": null,
   "metadata": {},
   "outputs": [],
   "source": [
    "# Shuffle the array\n",
    "rng.shuffle(shuffle_array)\n",
    "# Print the shuffled array\n",
    "print(shuffle_array)"
   ]
  },
  {
   "cell_type": "markdown",
   "metadata": {},
   "source": [
    "As demonstrated below, strings can also be shuffled."
   ]
  },
  {
   "cell_type": "code",
   "execution_count": null,
   "metadata": {},
   "outputs": [],
   "source": [
    "# Construct a new Generator\n",
    "rng = np.random.default_rng()\n",
    "# Create an array of random strings\n",
    "str_array = np.array([\"Ireland\", \"England\", \"Scotland\", \"Wales\", \"Northern Ireland\"])\n",
    "# Shuffle the array\n",
    "rng.shuffle(str_array)\n",
    "# Print the shuffled array\n",
    "print(str_array)"
   ]
  },
  {
   "cell_type": "markdown",
   "metadata": {},
   "source": [
    "#### 3.2. permutation(x[, axis])\n",
    "\n",
    "This function randomly permutes a sequence, or returns a permuted range. The difference between this and the ```shuffle()``` function is that ```permutation()``` returns a re-arranged array while leaving the original array unchanged.<sup>21</sup>"
   ]
  },
  {
   "cell_type": "code",
   "execution_count": null,
   "metadata": {},
   "outputs": [],
   "source": [
    "# Construct a new Generator\n",
    "rng = np.random.default_rng()\n",
    "# Create an array\n",
    "perm_array = [1, 2, 3, 4, 5]\n",
    "# Print the permuted array\n",
    "print(\"Permuted array: \", rng.permutation(perm_array))\n",
    "# Print the original array\n",
    "print(\"Original array: \", perm_array)"
   ]
  },
  {
   "cell_type": "markdown",
   "metadata": {},
   "source": [
    "If passed an integer, the function will return a shuffled range as shown below.<sup>22</sup> An error would occur if ```shuffle()``` was used instead, as it requires a list or array as input."
   ]
  },
  {
   "cell_type": "code",
   "execution_count": null,
   "metadata": {},
   "outputs": [],
   "source": [
    "# Output a shuffled array of values in the range 0-9\n",
    "rng.permutation(10)"
   ]
  },
  {
   "cell_type": "markdown",
   "metadata": {},
   "source": [
    "<br>\n",
    "\n",
    "### 4. Distributions functions\n",
    "***\n",
    "![Distributional Choices](distributional_choices.png)\n",
    "\n",
    "As illustrated in the image above, there are various shapes, models and classifications of probability distributions classified into two distinct categories: discrete and continuous. If a variable can take on any value between two specified values, it is continuous; otherwise, it is discrete.<sup>54</sup> There are 35 distribution functions in the ```numpy.random``` package. Eight of these are listed below and will be discussed in this section. With the exception of ```geometric()```, they are continuous distributions. A uniform distribution can be continuous or discrete.\n",
    "\n",
    "1. ```chisquare()``` \n",
    "2. ```exponential()```\n",
    "3. ```geometric()``` \n",
    "4. ```normal()``` \n",
    "5. ```rayleigh()``` \n",
    "6. ```standard_t()``` \n",
    "7. ```triangular()``` \n",
    "8. ```uniform()```\n",
    "\n",
    "Each of the distribution functions generate different random numbers according to different probabilities over different intervals and can be used to simulate and understand data. Distribution plots are an ideal way of visualising these distributions. There are specific applications and uses for each type of distribution, but they can nearly all be related to each other or transformed into each other.\n",
    "\n",
    "All of these distribution functions have a *size* parameter, which defines how many numbers to generate. This can be specified by either an integer or a tuple. Passing a tuple will result in an array filled with random numbers of a defined shape.\n",
    "\n",
    "The “empirical cumulative distribution function” (ECDF) is used to visualise and compare each distribution. In an ECDF, the x-axis corresponds to the range of values for variables and the y-axis shows the proportion of data points that are less than are equal to corresponding x-axis value.<sup>23</sup> The ECDF is useful as it approximates the true CDF well if the sample size is large, and knowing the distribution is helpful for statistical inference. The resulting plot can be visually compared to known CDFs to check if the data originated from one of those frequently used distributions. It can also illustrate “how fast” the CDF increases to 1.<sup>24</sup> It is useful to plot the ECDF first, as it shows all the data and gives a complete picture of how the data are distributed. A function is defined below to calculate the ECDF and will be applied throughout this section.<sup>23</sup>"
   ]
  },
  {
   "cell_type": "code",
   "execution_count": null,
   "metadata": {},
   "outputs": [],
   "source": [
    "# Define a function to calculate the ECDF\n",
    "def ecdf(df, col):\n",
    "    # Create a sorted copy of the array\n",
    "    x = np.sort(df)\n",
    "    # Count the elements along the x-axis and calculate the proportion of data points less than each data point\n",
    "    n = x.size\n",
    "    y = np.arange(1, n+1) / n\n",
    "    # Create a plot of the array\n",
    "    plt.scatter(x=x, y=y, s=5, color=col)"
   ]
  },
  {
   "cell_type": "markdown",
   "metadata": {},
   "source": [
    "#### 4.1. chisquare(df[, size])\n",
    "\n",
    "This function draws samples from a chi-square distribution, and helps in understanding the relationship between two categorical variables. It helps to compare what is observed with what is expected, and is used as a basis to verify a hypothesis.<sup>25</sup> It has two parameters: *df* (degree of freedom) and *size* (the shape of the returned array).<sup>26</sup> The degree of freedom must be greater than zero and is broadly defined as the number of \"observations\" in the data that are free to vary when estimating statistical parameters.<sup>27</sup>\n",
    "\n",
    "The test can be expressed as:\n",
    "\n",
    "$x^{2} = \\sum\\frac{(O-E)^{2}}{E}$\n",
    "\n",
    "where *O* is the number of observed events and *E* is the number of expected events under the null hypothesis.\n",
    "\n",
    "The ```chisquare()``` function below creates three 30 x 60 arrays with different degrees of freedom."
   ]
  },
  {
   "cell_type": "code",
   "execution_count": null,
   "metadata": {},
   "outputs": [],
   "source": [
    "# Construct a new Generator\n",
    "rng = np.random.default_rng()\n",
    "# Create three arrays with different degrees of freedom\n",
    "dx = rng.chisquare(df=20, size=(30,60))\n",
    "dy = rng.chisquare(df=60, size=(30,60))\n",
    "dz = rng.chisquare(df=100, size=(30,60))\n",
    "# Print the first array\n",
    "print(dx)"
   ]
  },
  {
   "cell_type": "markdown",
   "metadata": {},
   "source": [
    "The ECDF of the distribution shows how each distribution concentrates around the degree of freedom along the x-axis. This is expected, as the mean of this particular type of distribution is the same as its degree of freedom. The points in the array with the lowest degree of freedom (10) look much more condensed than those in the array with the highest degree of freedom (100)."
   ]
  },
  {
   "cell_type": "code",
   "execution_count": null,
   "metadata": {},
   "outputs": [],
   "source": [
    "# Find the mean value of each array\n",
    "print(\"Mean of dx array: \", np.mean(dx))\n",
    "print(\"Mean of dy array: \", np.mean(dy))\n",
    "print(\"Mean of dz array: \", np.mean(dz))"
   ]
  },
  {
   "cell_type": "markdown",
   "metadata": {},
   "source": [
    "The three plots below illustrate the ECDF of each array individually, with the mean indicated by a red line."
   ]
  },
  {
   "cell_type": "code",
   "execution_count": null,
   "metadata": {},
   "outputs": [],
   "source": [
    "# Call the ECDF function\n",
    "ecdf(dx, \"#1f77b4\")\n",
    "plt.xlabel(\"X\"), plt.ylabel(\"Cumulative Probability\"), plt.title(\"ECDF of Chi-Square Distribution (dx array)\")\n",
    "# Draw a vertical line to indicate degree of freedom (mean)\n",
    "plt.axvline(20, color=\"red\")\n",
    "plt.grid()"
   ]
  },
  {
   "cell_type": "code",
   "execution_count": null,
   "metadata": {},
   "outputs": [],
   "source": [
    "# Call the ECDF function\n",
    "ecdf(dy, \"#ff7f0e\")\n",
    "plt.xlabel(\"X\"), plt.ylabel(\"Cumulative Probability\"), plt.title(\"ECDF of Chi-Square Distribution (dy array)\")\n",
    "# Draw a vertical line to indicate degree of freedom (mean)\n",
    "plt.axvline(60, color=\"red\")\n",
    "plt.grid()"
   ]
  },
  {
   "cell_type": "code",
   "execution_count": null,
   "metadata": {},
   "outputs": [],
   "source": [
    "# Call the ECDF function\n",
    "ecdf(dz, \"#2ca02c\")\n",
    "plt.xlabel(\"X\"), plt.ylabel(\"Cumulative Probability\"), plt.title(\"ECDF of Chi-Square Distribution (dz array)\")\n",
    "# Draw a vertical line to indicate degree of freedom (mean)\n",
    "plt.axvline(100, color=\"red\")\n",
    "plt.grid()"
   ]
  },
  {
   "cell_type": "markdown",
   "metadata": {},
   "source": [
    "The plot below illustrates the ECDF of each array combined to help visualise how the degree of freedom affects the distribution of the data."
   ]
  },
  {
   "cell_type": "code",
   "execution_count": null,
   "metadata": {},
   "outputs": [],
   "source": [
    "# Call the ECDF function for each array\n",
    "ecdf(dx, \"#1f77b4\"), ecdf(dy, \"#ff7f0e\"), ecdf(dz, \"#2ca02c\")\n",
    "plt.xlabel(\"X\"), plt.ylabel(\"Cumulative Probability\"), plt.title(\"ECDF of Chi-Square Distribution\")\n",
    "plt.grid()"
   ]
  },
  {
   "cell_type": "markdown",
   "metadata": {},
   "source": [
    "The kernel density plot below shows how the probability density peaks at approximately the *df* value on the x-axis of each distribution.<sup>28</sup> The distribution is also wider along the x-axis and shorter along the y-axis as the degree of freedom increases. Chi-Square distributions are positively skewed, with the degree of skew decreasing as the degree of freedom increases.<sup>29</sup> It is clear from the \"dz\" array below that as the degree of freedom increases, the Chi-Square distribution begins to look like a normal distribution (section 4.4)."
   ]
  },
  {
   "cell_type": "code",
   "execution_count": null,
   "metadata": {},
   "outputs": [],
   "source": [
    "# Plot the three arrays with different degrees of freedom\n",
    "sns.distplot(dx, label=\"df = 20\", hist=False)\n",
    "sns.distplot(dy, label=\"df = 60\", hist=False)\n",
    "sns.distplot(dz, label=\"df = 100\", hist=False)\n",
    "plt.xlabel(\"X\"), plt.ylabel(\"Probability Density\"), plt.title(\"Chi-Square Distribution\")\n",
    "plt.grid()"
   ]
  },
  {
   "cell_type": "markdown",
   "metadata": {},
   "source": [
    "As shown in the ECDF plots, the histograms below shows how the data concentrates around the degree of freedom (i.e. mean) along the x-axis."
   ]
  },
  {
   "cell_type": "code",
   "execution_count": null,
   "metadata": {},
   "outputs": [],
   "source": [
    "# Plot a histogram of the array\n",
    "sns.distplot(dx, kde=False, color=\"#1f77b4\")\n",
    "plt.axvline(20, color=\"red\")\n",
    "plt.xlabel(\"X\"), plt.ylabel(\"Frequency\"), plt.title(\"Chi-Square Distribution (dx array)\")\n",
    "plt.grid()"
   ]
  },
  {
   "cell_type": "code",
   "execution_count": null,
   "metadata": {},
   "outputs": [],
   "source": [
    "# Plot a histogram of the array\n",
    "sns.distplot(dy, kde=False, color=\"#ff7f0e\")\n",
    "plt.axvline(60, color=\"red\")\n",
    "plt.xlabel(\"X\"), plt.ylabel(\"Frequency\"), plt.title(\"Chi-Square Distribution (dy array)\")\n",
    "plt.grid()"
   ]
  },
  {
   "cell_type": "code",
   "execution_count": null,
   "metadata": {},
   "outputs": [],
   "source": [
    "# Plot a histogram of the array\n",
    "sns.distplot(dz, kde=False, color=\"#2ca02c\")\n",
    "plt.axvline(100, color=\"red\")\n",
    "plt.xlabel(\"X\"), plt.ylabel(\"Frequency\"), plt.title(\"Chi-Square Distribution (dz array)\")\n",
    "plt.grid()"
   ]
  },
  {
   "cell_type": "markdown",
   "metadata": {},
   "source": [
    "#### 4.2. exponential([scale, size])\n",
    "\n",
    "This function draws samples from an exponential distribution, which is used for describing the time until the next event e.g. failure/success etc.<sup>30</sup> It is closely related to the poisson distribution, which helps answer questions such as the number of events that occur in an interval of time. On the other hand, an exponential distrubution answers the time taken between two events occuring. It has two parameters: *scale* and *size*. The *scale* parameter must be non-negative.\n",
    "\n",
    "The probability density function can be expressed as:\n",
    "\n",
    "$f(x; \\frac{1}{\\beta}) = \\frac{1}{\\beta} exp(-\\frac{x}{\\beta})$\n",
    "\n",
    "for x > 0 and 0 elsewhere. $\\beta$ is the scale parameter, which is the inverse of the rate parameter $\\lambda = 1/\\beta$.<sup>31</sup>\n",
    "\n",
    "The ```exponential()``` function below creates three 10 x 20 arrays with different scales."
   ]
  },
  {
   "cell_type": "code",
   "execution_count": null,
   "metadata": {},
   "outputs": [],
   "source": [
    "# Create three arrays with different scales\n",
    "ex = rng.exponential(scale=1, size=(10, 20))\n",
    "ey = rng.exponential(scale=2, size=(10, 20))\n",
    "ez = rng.exponential(scale=3, size=(10, 20))\n",
    "# Print the first array\n",
    "print(ex)"
   ]
  },
  {
   "cell_type": "markdown",
   "metadata": {},
   "source": [
    "The ECDF of the distributions show how most of the data is close to 0 on the x-axis. Arrays with a larger scale value results in more higher values along the x-axis. The three plots below illustrate the ECDF of each array individually, with the mean indicated by a red line."
   ]
  },
  {
   "cell_type": "code",
   "execution_count": null,
   "metadata": {},
   "outputs": [],
   "source": [
    "# Find the mean value of each array\n",
    "print(\"Mean of ex array: \", np.mean(ex))\n",
    "print(\"Mean of ey array: \", np.mean(ey))\n",
    "print(\"Mean of ez array: \", np.mean(ez))"
   ]
  },
  {
   "cell_type": "code",
   "execution_count": null,
   "metadata": {},
   "outputs": [],
   "source": [
    "# Call the ECDF function\n",
    "ecdf(ex, \"#1f77b4\")\n",
    "plt.axvline(np.mean(ex), color=\"red\")\n",
    "plt.xlabel(\"X\"), plt.ylabel(\"Cumulative Probability\"), plt.title(\"ECDF of Exponential Distribution (ex array)\")\n",
    "plt.grid()"
   ]
  },
  {
   "cell_type": "code",
   "execution_count": null,
   "metadata": {},
   "outputs": [],
   "source": [
    "# Call the ECDF function\n",
    "ecdf(ey, \"#ff7f0e\")\n",
    "plt.axvline(np.mean(ey), color=\"red\")\n",
    "plt.xlabel(\"X\"), plt.ylabel(\"Cumulative Probability\"), plt.title(\"ECDF of Exponential Distribution (ey array)\")\n",
    "plt.grid()"
   ]
  },
  {
   "cell_type": "code",
   "execution_count": null,
   "metadata": {},
   "outputs": [],
   "source": [
    "# Call the ECDF function\n",
    "ecdf(ez, \"#2ca02c\")\n",
    "plt.axvline(np.mean(ez), color=\"red\")\n",
    "plt.xlabel(\"X\"), plt.ylabel(\"Cumulative Probability\"), plt.title(\"ECDF of Exponential Distribution (ez array)\")\n",
    "plt.grid()"
   ]
  },
  {
   "cell_type": "markdown",
   "metadata": {},
   "source": [
    "The plot below illustrates the ECDF of each array combined to help visualise how different scales affect the distribution of the data. It is clear that when generating a random sample from an exponential distribution, most of the numbers in the sample will be close to zero, and larger numbers are less likely."
   ]
  },
  {
   "cell_type": "code",
   "execution_count": null,
   "metadata": {},
   "outputs": [],
   "source": [
    "# Call the ECDF function for each array\n",
    "ecdf(ex, \"#1f77b4\"), ecdf(ey, \"#ff7f0e\"), ecdf(ez, \"#2ca02c\")\n",
    "plt.xlabel(\"X\"), plt.ylabel(\"Cumulative Probability\"), plt.title(\"ECDF of Exponential Distribution\")\n",
    "plt.grid()"
   ]
  },
  {
   "cell_type": "markdown",
   "metadata": {},
   "source": [
    "The kernel density plot below shows how the probability density is much higher at a smaller scale and tapers off quite quickly for higher values of x. The peaks of the other two arrays are much lower. An exponential function can describe growth or decay. The function\n",
    "\n",
    "$g(x) = (\\frac{1}{2})^x$\n",
    "\n",
    "is an example of exponential decay. The *scale* parameter determines how quickly the frequency of larger values of x falls towards zero.<sup>32</sup> This is evident in the kernel density plot below."
   ]
  },
  {
   "cell_type": "code",
   "execution_count": null,
   "metadata": {},
   "outputs": [],
   "source": [
    "# Plot the three arrays with different scales\n",
    "sns.distplot(ex, label=\"scale = 1\", hist=False)\n",
    "sns.distplot(ey, label=\"scale = 2\", hist=False)\n",
    "sns.distplot(ez, label=\"scale = 3\", hist=False)\n",
    "plt.xlabel(\"X\"), plt.ylabel(\"Probability Density\"), plt.title(\"Exponential Distribution\")\n",
    "plt.grid()"
   ]
  },
  {
   "cell_type": "markdown",
   "metadata": {},
   "source": [
    "As shown in the ECDF plots, the histograms below shows how most of the data is skewed left in each array."
   ]
  },
  {
   "cell_type": "code",
   "execution_count": null,
   "metadata": {},
   "outputs": [],
   "source": [
    "# Plot a histogram of the array\n",
    "sns.distplot(ex, kde=False, color=\"#1f77b4\")\n",
    "plt.axvline(np.mean(ex), color=\"red\")\n",
    "plt.xlabel(\"X\"), plt.ylabel(\"Probability Density\"), plt.title(\"Exponential Distribution (ex array)\")\n",
    "plt.grid()"
   ]
  },
  {
   "cell_type": "code",
   "execution_count": null,
   "metadata": {},
   "outputs": [],
   "source": [
    "# Plot a histogram of the array\n",
    "sns.distplot(ey, kde=False, color=\"#ff7f0e\")\n",
    "plt.axvline(np.mean(ey), color=\"red\")\n",
    "plt.xlabel(\"X\"), plt.ylabel(\"Probability Density\"), plt.title(\"Exponential Distribution (ey array)\")\n",
    "plt.grid()"
   ]
  },
  {
   "cell_type": "code",
   "execution_count": null,
   "metadata": {},
   "outputs": [],
   "source": [
    "# Plot a histogram of the array\n",
    "sns.distplot(ez, kde=False, color=\"#2ca02c\")\n",
    "plt.axvline(np.mean(ez), color=\"red\")\n",
    "plt.xlabel(\"X\"), plt.ylabel(\"Probability Density\"), plt.title(\"Exponential Distribution (ez array)\")\n",
    "plt.grid()"
   ]
  },
  {
   "cell_type": "markdown",
   "metadata": {},
   "source": [
    "As this distribution is often used to model waiting times between events, it can be used to simulate the expected lifetime in years of a computer part that, for example, lasts 10 years on average. The adapted code below illustrates this.<sup>58</sup>"
   ]
  },
  {
   "cell_type": "code",
   "execution_count": null,
   "metadata": {},
   "outputs": [],
   "source": [
    "# 10 refers to the lifetime of part in years and 1000 refers to the number of parts to test\n",
    "ew = rng.exponential(10, 1000)\n",
    "count, bins, ignored = plt.hist(ew, 20, density=True, label=\"Mean = 10\")\n",
    "\n",
    "# Calculate theoretical lifetime probability\n",
    "exp_pdf = lambda s, x: (1 / s ) * np.exp( - (x / s) )\n",
    "plt.plot(bins, exp_pdf(10, bins), color=\"r\", label=\"PDF\")\n",
    "plt.xlim(0, 50)\n",
    "\n",
    "plt.title(\"Computer Part Lifetime\"), plt.xlabel(\"Lifetime (years)\"), plt.ylabel(\"Frequency\")\n",
    "plt.legend()\n",
    "plt.grid()\n",
    "plt.plot([10, 10], [0, 0.1], \"k-\")\n",
    "plt.text(11, 0.045, \"10 years\")"
   ]
  },
  {
   "cell_type": "markdown",
   "metadata": {},
   "source": [
    "#### 4.3. geometric(p[, size])\n",
    "\n",
    "This function draws samples from the geometric distribution. A Bernoulli trial is a random experiment with exactly two possible outcomes, \"success\" and \"failure\" (e.g. flipping a coin), in which the probability of success is the same every time the experiment is conducted.<sup>33</sup> The geometric distribution models the number of trials that must be run in order to achieve success. It takes two parameters: *p* and *size*.\n",
    "\n",
    "The probability density function can be expressed as:\n",
    "\n",
    "$f(k) = (1 - p)^{k-1}p$\n",
    "\n",
    "where *k* is a positive integer and *p* is the probability of success of an individual trial where $0<p≤1$.<sup>34</sup>\n",
    "\n",
    "The ```geometric()``` function below creates three arrays of the same size with different probabilities of success."
   ]
  },
  {
   "cell_type": "code",
   "execution_count": null,
   "metadata": {},
   "outputs": [],
   "source": [
    "# Create three arrays with different probabilities of success\n",
    "fx = rng.geometric(p=0.3, size=1000)\n",
    "fy = rng.geometric(p=0.5, size=1000)\n",
    "fz = rng.geometric(p=0.7, size=1000)\n",
    "# Print the first array\n",
    "print(fx)"
   ]
  },
  {
   "cell_type": "markdown",
   "metadata": {},
   "source": [
    "Similar to the ```exponential()``` funciton, the ECDF of the distributions show how most of the data is close to 0 on the x-axis. It is a discrete analog of the exponential distribution.<sup>35</sup> Arrays with a larger probability of success results in more higher values along the x-axis. The three plots below illustrate the ECDF of each array individually, with the mean indicated by a red line."
   ]
  },
  {
   "cell_type": "code",
   "execution_count": null,
   "metadata": {},
   "outputs": [],
   "source": [
    "# Find the mean value of each array\n",
    "print(\"Mean of fx array: \", np.mean(fx))\n",
    "print(\"Mean of fy array: \", np.mean(fy))\n",
    "print(\"Mean of fz array: \", np.mean(fz))"
   ]
  },
  {
   "cell_type": "code",
   "execution_count": null,
   "metadata": {},
   "outputs": [],
   "source": [
    "# Call the ECDF function\n",
    "ecdf(fx, \"#1f77b4\")\n",
    "plt.axvline(np.mean(fx), color=\"red\")\n",
    "plt.xlabel(\"X\"), plt.ylabel(\"Cumulative Probability\"), plt.title(\"ECDF of Geometric Distribution (fx array)\")\n",
    "plt.grid()"
   ]
  },
  {
   "cell_type": "code",
   "execution_count": null,
   "metadata": {},
   "outputs": [],
   "source": [
    "# Call the ECDF function\n",
    "ecdf(fy, \"#ff7f0e\")\n",
    "plt.axvline(np.mean(fy), color=\"red\")\n",
    "plt.xlabel(\"X\"), plt.ylabel(\"Cumulative Probability\"), plt.title(\"ECDF of Geometric Distribution (fy array)\")\n",
    "plt.grid()"
   ]
  },
  {
   "cell_type": "code",
   "execution_count": null,
   "metadata": {},
   "outputs": [],
   "source": [
    "# Call the ECDF function\n",
    "ecdf(fz, \"#2ca02c\")\n",
    "plt.axvline(np.mean(fz), color=\"red\")\n",
    "plt.xlabel(\"X\"), plt.ylabel(\"Cumulative Probability\"), plt.title(\"ECDF of Geometric Distribution (fz array)\")\n",
    "plt.grid()"
   ]
  },
  {
   "cell_type": "markdown",
   "metadata": {},
   "source": [
    "The plot below illustrates the ECDF of each array combined to help visualise how different probabilities of success affect the distribution of the data."
   ]
  },
  {
   "cell_type": "code",
   "execution_count": null,
   "metadata": {},
   "outputs": [],
   "source": [
    "# Call the ECDF function for each array\n",
    "ecdf(fx, \"#1f77b4\"), ecdf(fy, \"#ff7f0e\"), ecdf(fz, \"#2ca02c\")\n",
    "plt.xlabel(\"X\"), plt.ylabel(\"Cumulative Probability\"), plt.title(\"ECDF of Exponential Distribution\")\n",
    "plt.grid()"
   ]
  },
  {
   "cell_type": "markdown",
   "metadata": {},
   "source": [
    "The kernel density plot below shows how the probability density is much higher at a higher *p* value and tapers off quite quickly for higher values of x."
   ]
  },
  {
   "cell_type": "code",
   "execution_count": null,
   "metadata": {},
   "outputs": [],
   "source": [
    "# Plot the three arrays with different probabilities of success\n",
    "sns.distplot(fx, label=\"p = 0.3\", hist=False)\n",
    "sns.distplot(fy, label=\"p = 0.5\", hist=False)\n",
    "sns.distplot(fz, label=\"p = 0.7\", hist=False)\n",
    "plt.xlabel(\"X\"), plt.ylabel(\"Probability Density\"), plt.title(\"Geometric Distribution\")\n",
    "plt.grid()"
   ]
  },
  {
   "cell_type": "markdown",
   "metadata": {},
   "source": [
    "As shown in the ECDF plots, the histograms below show how most of the data is skewed left in each array. As this is a discrete distribution, there are notable gaps in the histograms. This is because a histogram is typically meant to illustrate the frequency distribution of a continuous numeric variable.<sup>51</sup>"
   ]
  },
  {
   "cell_type": "code",
   "execution_count": null,
   "metadata": {},
   "outputs": [],
   "source": [
    "# Plot a histogram of the array\n",
    "sns.distplot(fx, kde=False, color=\"#1f77b4\")\n",
    "plt.axvline(np.mean(fx), color=\"red\")\n",
    "plt.xlabel(\"X\"), plt.ylabel(\"Probability Density\"), plt.title(\"Geometric Distribution (fx array)\")\n",
    "plt.grid()"
   ]
  },
  {
   "cell_type": "code",
   "execution_count": null,
   "metadata": {},
   "outputs": [],
   "source": [
    "# Plot a histogram of the array\n",
    "sns.distplot(fy, kde=False, color=\"#ff7f0e\")\n",
    "plt.axvline(np.mean(fy), color=\"red\")\n",
    "plt.xlabel(\"X\"), plt.ylabel(\"Probability Density\"), plt.title(\"Geometric Distribution (fy array)\")\n",
    "plt.grid()"
   ]
  },
  {
   "cell_type": "code",
   "execution_count": null,
   "metadata": {},
   "outputs": [],
   "source": [
    "# Plot a histogram of the array\n",
    "sns.distplot(fz, kde=False, color=\"#2ca02c\")\n",
    "plt.axvline(np.mean(fx), color=\"red\")\n",
    "plt.xlabel(\"X\"), plt.ylabel(\"Probability Density\"), plt.title(\"Geometric Distribution (fz array)\")\n",
    "plt.grid()"
   ]
  },
  {
   "cell_type": "markdown",
   "metadata": {},
   "source": [
    "As a geometric function is one that represents the number of failures before success, a real-world example would be asking people outside a polling station who they voded for until a person is found to have voted for the chosen candidate.<sup>61</sup> The geometric distribution represents the number of people included in the poll. The example below creates a distribution whereby there are 5 candidates and 1000 people polled. As there are 5 candidates, the probability is 0.2."
   ]
  },
  {
   "cell_type": "code",
   "execution_count": null,
   "metadata": {},
   "outputs": [],
   "source": [
    "# Create an array with a probability of success of 0.2\n",
    "fw = rng.geometric(p=0.2, size=1000)\n",
    "# Plot a histogram of the array\n",
    "sns.distplot(fw, kde=False, color=\"#d62728\")\n",
    "plt.xlabel(\"X\"), plt.ylabel(\"Probability Density\"), plt.title(\"Geometric Distribution (fw array)\")\n",
    "plt.grid()"
   ]
  },
  {
   "cell_type": "markdown",
   "metadata": {},
   "source": [
    "#### 4.4. normal([loc, scale, size])\n",
    "\n",
    "This function draws samples from a normal (Gaussian) distribution. It is one of the most important distributions and fits the probability distribution of many events, e.g. IQ scores, heartbeat etc. It has three parameters. *loc* (mean) is where the peak of the bell exists, *scale* (standard deviation) is how flat the graph distribution should be, and *size* is the shape of the returned array.<sup>36</sup>\n",
    "\n",
    "The probability density function can be expressed as:\n",
    "\n",
    "$f(x) = \\frac{e^-(x-\\mu)^2/(2\\sigma^2)}{\\sigma\\sqrt2\\pi}$\n",
    "\n",
    "where $\\mu$ is the location parameter and $\\sigma$ is the scale parameter. The case where $\\mu = 0$ and $\\sigma = 1$ is called the standard normal distribution.<sup>37</sup>\n",
    "\n",
    "As illustrated in the previous distributions, data can be distributed in different ways. However, there are cases where data tends to be around a central value with no bias left or right. In a normal distribution, 50% of the values are less than the mean and 50% are greater than the mean.<sup>38</sup>\n",
    "\n",
    "A normally distributed data set will produce a bell curve as shown below. The distribution is often referred to as the bell curve due to this characteristic shape. One standard deviation from the mean accounts for 68.2% of occurrences, while two covers 95.4% and so on.<sup>55</sup>\n",
    "\n",
    "![Normal Distribution](normal_distribution.png)\n",
    "\n",
    "\n",
    "The ```normal()``` function below creates three arrays of the same size with different mean values."
   ]
  },
  {
   "cell_type": "code",
   "execution_count": null,
   "metadata": {},
   "outputs": [],
   "source": [
    "# Construct a new Generator\n",
    "rng = np.random.default_rng()\n",
    "# Create three arrays with different mean values\n",
    "gx = rng.normal(loc=0, scale=2, size=(10, 30))\n",
    "gy = rng.normal(loc=5, scale=2, size=(10, 30))\n",
    "gz = rng.normal(loc=10, scale=2, size=(10, 30))\n",
    "# Print the first array\n",
    "print(gx)"
   ]
  },
  {
   "cell_type": "code",
   "execution_count": null,
   "metadata": {},
   "outputs": [],
   "source": [
    "# Find the mean value of each array\n",
    "print(\"Mean of gx array: \", np.mean(gx))\n",
    "print(\"Mean of gy array: \", np.mean(gy))\n",
    "print(\"Mean of gz array: \", np.mean(gz))"
   ]
  },
  {
   "cell_type": "markdown",
   "metadata": {},
   "source": [
    "The ECDF of the distributions show how evenly distributed the data is. The three plots below illustrate the ECDF of each array individually, with the mean indicated by a red line."
   ]
  },
  {
   "cell_type": "code",
   "execution_count": null,
   "metadata": {},
   "outputs": [],
   "source": [
    "# Call the ECDF function\n",
    "ecdf(gx, \"#1f77b4\")\n",
    "# Draw a vertical line to indicate the mean\n",
    "plt.axvline(0, color=\"red\")\n",
    "plt.xlabel(\"X\"), plt.ylabel(\"Cumulative Probability\"), plt.title(\"ECDF of Normal Distribution (gx array)\")\n",
    "plt.grid()"
   ]
  },
  {
   "cell_type": "code",
   "execution_count": null,
   "metadata": {},
   "outputs": [],
   "source": [
    "# Call the ECDF function\n",
    "ecdf(gy, \"#ff7f0e\")\n",
    "# Draw a vertical line to indicate the mean\n",
    "plt.axvline(5, color=\"red\")\n",
    "plt.xlabel(\"X\"), plt.ylabel(\"Cumulative Probability\"), plt.title(\"ECDF of Normal Distribution (gy array)\")\n",
    "plt.grid()"
   ]
  },
  {
   "cell_type": "code",
   "execution_count": null,
   "metadata": {},
   "outputs": [],
   "source": [
    "# Call the ECDF function\n",
    "ecdf(gz, \"#2ca02c\")\n",
    "# Draw a vertical line to indicate the mean\n",
    "plt.axvline(10, color=\"red\")\n",
    "plt.xlabel(\"X\"), plt.ylabel(\"Cumulative Probability\"), plt.title(\"ECDF of Normal Distribution (gz array)\")\n",
    "plt.grid()"
   ]
  },
  {
   "cell_type": "markdown",
   "metadata": {},
   "source": [
    "The plot below illustrates the ECDF of each array combined."
   ]
  },
  {
   "cell_type": "code",
   "execution_count": null,
   "metadata": {},
   "outputs": [],
   "source": [
    "# Call the ECDF function for each array\n",
    "ecdf(gx, \"#1f77b4\"), ecdf(gy, \"#ff7f0e\"), ecdf(gz, \"#2ca02c\")\n",
    "plt.xlabel(\"X\"), plt.ylabel(\"Cumulative Probability\"), plt.title(\"ECDF of Normal Distribution\")\n",
    "plt.grid()"
   ]
  },
  {
   "cell_type": "markdown",
   "metadata": {},
   "source": [
    "The kernel density plot below shows how symmetrical each of the arrays are."
   ]
  },
  {
   "cell_type": "code",
   "execution_count": null,
   "metadata": {},
   "outputs": [],
   "source": [
    "# Plot the three arrays with different mean values\n",
    "sns.distplot(gx, label=\"loc = 0\", hist=False)\n",
    "sns.distplot(gy, label=\"loc = 5\", hist=False)\n",
    "sns.distplot(gz, label=\"loc = 10\", hist=False)\n",
    "plt.xlabel(\"X\"), plt.ylabel(\"Probability Density\"), plt.title(\"Normal Distribution\")\n",
    "plt.grid()"
   ]
  },
  {
   "cell_type": "markdown",
   "metadata": {},
   "source": [
    "As shown in the ECDF plots, the histograms below show how the data near the mean are more frequent in occurrence than data far from the mean, which produces a symmetric, unimodal distribution."
   ]
  },
  {
   "cell_type": "code",
   "execution_count": null,
   "metadata": {},
   "outputs": [],
   "source": [
    "# Plot a histogram of the array\n",
    "sns.distplot(gx, kde=False, color=\"#1f77b4\")\n",
    "# Draw a vertical line to indicate the mean\n",
    "plt.axvline(0, color=\"red\")\n",
    "plt.xlabel(\"X\"), plt.ylabel(\"Probability Density\"), plt.title(\"Normal Distribution (gx array)\")\n",
    "plt.grid()"
   ]
  },
  {
   "cell_type": "code",
   "execution_count": null,
   "metadata": {},
   "outputs": [],
   "source": [
    "# Plot a histogram of the array\n",
    "sns.distplot(gy, kde=False, color=\"#ff7f0e\")\n",
    "# Draw a vertical line to indicate the mean\n",
    "plt.axvline(5, color=\"red\")\n",
    "plt.xlabel(\"X\"), plt.ylabel(\"Probability Density\"), plt.title(\"Normal Distribution (gy array)\")\n",
    "plt.grid()"
   ]
  },
  {
   "cell_type": "code",
   "execution_count": null,
   "metadata": {},
   "outputs": [],
   "source": [
    "# Plot a histogram of the array\n",
    "sns.distplot(gz, kde=False, color=\"#2ca02c\")\n",
    "# Draw a vertical line to indicate the mean\n",
    "plt.axvline(10, color=\"red\")\n",
    "plt.xlabel(\"X\"), plt.ylabel(\"Probability Density\"), plt.title(\"Normal Distribution (gz array)\")\n",
    "plt.grid()"
   ]
  },
  {
   "cell_type": "markdown",
   "metadata": {},
   "source": [
    "The function below creates three arrays of the same size and mean, but with different *scale* (standard deviation) values. As illustrated in the kernel density plot, the distribution becomes flatter when increasing the *scale* value."
   ]
  },
  {
   "cell_type": "code",
   "execution_count": null,
   "metadata": {},
   "outputs": [],
   "source": [
    "# Construct a new Generator\n",
    "rng = np.random.default_rng()\n",
    "# Create three arrays with different scales\n",
    "gx_a = rng.normal(loc=0, scale=2, size=(10, 30))\n",
    "gy_b = rng.normal(loc=0, scale=4, size=(10, 30))\n",
    "gz_c = rng.normal(loc=0, scale=6, size=(10, 30))\n",
    "# Print the first array\n",
    "print(gx_a)"
   ]
  },
  {
   "cell_type": "code",
   "execution_count": null,
   "metadata": {},
   "outputs": [],
   "source": [
    "# Plot the three arrays with different scales\n",
    "sns.distplot(gx_a, label=\"scale = 2\", hist=False)\n",
    "sns.distplot(gy_b, label=\"scale = 4\", hist=False)\n",
    "sns.distplot(gz_c, label=\"scale = 6\", hist=False)\n",
    "plt.xlabel(\"X\"), plt.ylabel(\"Probability Density\"), plt.title(\"Normal Distribution\")\n",
    "plt.grid()"
   ]
  },
  {
   "cell_type": "markdown",
   "metadata": {},
   "source": [
    "To demonstrate a real-world application, the data below comes from the public ANSUR2 data set. This data set comprises data from the US Army Anthropometry survey, which took measurments of its male military population.<sup>62</sup> It illustrates the bell curve characteristic of the normal distribution."
   ]
  },
  {
   "cell_type": "code",
   "execution_count": null,
   "metadata": {},
   "outputs": [],
   "source": [
    "# Read the data set\n",
    "df = pd.read_csv(\"ANSURIIMALEPublic.csv\", encoding=\"ISO-8859-1\")\n",
    "# Access the relevant column in the data set\n",
    "heights = df.loc[:,\"Heightin\"] \n",
    "# Plot histogram\n",
    "plt.hist(heights, color=\"#d62728\")\n",
    "plt.title(\"Height (inches) of Male US Military Personnel from ANSUR 2 dataset (2012)\")\n",
    "plt.xlabel(\"Height (inches)\"), plt.ylabel(\"Personnel\")\n",
    "plt.grid()"
   ]
  },
  {
   "cell_type": "markdown",
   "metadata": {},
   "source": [
    "#### 4.5. rayleigh([scale, size])\n",
    "\n",
    "This function draws samples from a rayleigh distribution. The rayleigh distribution is used in signal processing. It can also be used in engineering to measure the lifetime of an object, where the lifetime depends on the age of the object.<sup>39</sup> It has two parameters, *scale* and *size*.<sup>40</sup>\n",
    "\n",
    "The probability density function can be expressed as:\n",
    "\n",
    "$f(x;\\sigma) = \\frac{x}{\\sigma^2}e^{-x^2/(2\\sigma^2)}$\n",
    "\n",
    "where $\\sigma$ is the scale parameter of the distribution.<sup>41</sup>\n",
    "\n",
    "The ```rayleigh()``` function below creates three arrays of the same size with different scales."
   ]
  },
  {
   "cell_type": "code",
   "execution_count": null,
   "metadata": {},
   "outputs": [],
   "source": [
    "# Create three arrays with different scales\n",
    "hx = rng.rayleigh(scale=2, size=(10, 30))\n",
    "hy = rng.rayleigh(scale=4, size=(10, 30))\n",
    "hz = rng.rayleigh(scale=6, size=(10, 30))\n",
    "# Print the first array\n",
    "print(hx)"
   ]
  },
  {
   "cell_type": "code",
   "execution_count": null,
   "metadata": {},
   "outputs": [],
   "source": [
    "print(\"Mean of hx array: \", np.mean(hx))\n",
    "print(\"Mean of hy array: \", np.mean(hy))\n",
    "print(\"Mean of hz array: \", np.mean(hz))"
   ]
  },
  {
   "cell_type": "markdown",
   "metadata": {},
   "source": [
    "The three plots below illustrate the ECDF of each array individually, with the mean indicated by a red line."
   ]
  },
  {
   "cell_type": "code",
   "execution_count": null,
   "metadata": {},
   "outputs": [],
   "source": [
    "# Call the ECDF function\n",
    "ecdf(hx, \"#1f77b4\")\n",
    "# Draw a vertical line to indicate the mean\n",
    "plt.axvline(np.mean(hx), color=\"red\")\n",
    "plt.xlabel(\"X\"), plt.ylabel(\"Cumulative Probability\"), plt.title(\"ECDF of Rayleigh Distribution (hx array)\")\n",
    "plt.grid()"
   ]
  },
  {
   "cell_type": "code",
   "execution_count": null,
   "metadata": {},
   "outputs": [],
   "source": [
    "# Call the ECDF function\n",
    "ecdf(hy, \"#ff7f0e\")\n",
    "# Draw a vertical line to indicate the mean\n",
    "plt.axvline(np.mean(hy), color=\"red\")\n",
    "plt.xlabel(\"X\"), plt.ylabel(\"Cumulative Probability\"), plt.title(\"ECDF of Rayleigh Distribution (hy array)\")\n",
    "plt.grid()"
   ]
  },
  {
   "cell_type": "code",
   "execution_count": null,
   "metadata": {},
   "outputs": [],
   "source": [
    "# Call the ECDF function\n",
    "ecdf(hz, \"#2ca02c\")\n",
    "# Draw a vertical line to indicate the mean\n",
    "plt.axvline(np.mean(hz), color=\"red\")\n",
    "plt.xlabel(\"X\"), plt.ylabel(\"Cumulative Probability\"), plt.title(\"ECDF of Rayleigh Distribution (hz array)\")\n",
    "plt.grid()"
   ]
  },
  {
   "cell_type": "markdown",
   "metadata": {},
   "source": [
    "The plot below illustrates the ECDF of each array combined to help visualise how different scales affect the distribution of the data."
   ]
  },
  {
   "cell_type": "code",
   "execution_count": null,
   "metadata": {},
   "outputs": [],
   "source": [
    "# Call the ECDF function for each array\n",
    "ecdf(hx, \"#1f77b4\"), ecdf(hy, \"#ff7f0e\"), ecdf(hz, \"#2ca02c\")\n",
    "plt.xlabel(\"X\"), plt.ylabel(\"Cumulative Probability\"), plt.title(\"ECDF of Rayleigh Distribution\")\n",
    "plt.grid()"
   ]
  },
  {
   "cell_type": "markdown",
   "metadata": {},
   "source": [
    "The kernel density plot below shows how as the *scale* parameter increases, the distribution gets wider and shifts to the right. As a result, the maximum height decreases to preserve the area under the curve being equal to 1."
   ]
  },
  {
   "cell_type": "code",
   "execution_count": null,
   "metadata": {},
   "outputs": [],
   "source": [
    "# Plot the three arrays with different scales\n",
    "sns.distplot(hx, label=\"scale = 2\", hist=False)\n",
    "sns.distplot(hy, label=\"scale = 4\", hist=False)\n",
    "sns.distplot(hz, label=\"scale = 6\", hist=False)\n",
    "plt.xlabel(\"X\"), plt.ylabel(\"Probability Density\"), plt.title(\"Rayleigh Distribution\")\n",
    "plt.grid()"
   ]
  },
  {
   "cell_type": "markdown",
   "metadata": {},
   "source": [
    "As shown in the ECDF plots, the histograms below show how the data near the mean are more frequent in occurrence than data far from the mean. However, it is apparent that the distribution in each array is skewed slightly to the left of the mean."
   ]
  },
  {
   "cell_type": "code",
   "execution_count": null,
   "metadata": {},
   "outputs": [],
   "source": [
    "# Plot a histogram of the array\n",
    "sns.distplot(hx, kde=False, color=\"#1f77b4\")\n",
    "# Draw a vertical line to indicate the mean\n",
    "plt.axvline(np.mean(hx), color=\"red\")\n",
    "plt.xlabel(\"X\"), plt.ylabel(\"Probability Density\"), plt.title(\"Rayleigh Distribution (hx array)\")\n",
    "plt.grid()"
   ]
  },
  {
   "cell_type": "code",
   "execution_count": null,
   "metadata": {},
   "outputs": [],
   "source": [
    "# Plot a histogram of the array\n",
    "sns.distplot(hy, kde=False, color=\"#ff7f0e\")\n",
    "# Draw a vertical line to indicate the mean\n",
    "plt.axvline(np.mean(hy), color=\"red\")\n",
    "plt.xlabel(\"X\"), plt.ylabel(\"Probability Density\"), plt.title(\"Rayleigh Distribution (hy array)\")\n",
    "plt.grid()"
   ]
  },
  {
   "cell_type": "code",
   "execution_count": null,
   "metadata": {},
   "outputs": [],
   "source": [
    "# Plot a histogram of the array\n",
    "sns.distplot(hz, kde=False, color=\"#2ca02c\")\n",
    "# Draw a vertical line to indicate the mean\n",
    "plt.axvline(np.mean(hz), color=\"red\")\n",
    "plt.xlabel(\"X\"), plt.ylabel(\"Probability Density\"), plt.title(\"Rayleigh Distribution (hz array)\")\n",
    "plt.grid()"
   ]
  },
  {
   "cell_type": "markdown",
   "metadata": {},
   "source": [
    "Jowder (2006) models wind speed using the rayleigh distribution.<sup>59</sup> The example below assumes a wind speed of 7 m/s."
   ]
  },
  {
   "cell_type": "code",
   "execution_count": null,
   "metadata": {},
   "outputs": [],
   "source": [
    "# Store the wind speed in a variable\n",
    "wind_speed = 7\n",
    "# Calculate the scale\n",
    "scale = wind_speed / (m.sqrt((m.pi) / 2))\n",
    "# Calculate the wind speed distribution\n",
    "hw = rng.rayleigh(scale, 1000)\n",
    "count, bins, ignored = plt.hist(hw, 20, alpha=0.5, density=True, label=\"$\\mu=6 ms^{-1}$\")\n",
    "# Generate theoretical PDF\n",
    "pdf = lambda s, x: (x / s ** 2) * (np.exp( (-x **2) / (2 * s **2)))\n",
    "\n",
    "plt.plot(bins, pdf(scale, bins), label=\"PDF\")\n",
    "plt.title(\"Rayleigh Distribution of Wind Speed\")\n",
    "plt.xlabel(\"$speed (ms^{-1})$\")\n",
    "plt.ylabel(\"Frequency\")\n",
    "plt.legend()\n",
    "plt.grid()\n",
    "plt.plot([10, 10], [0, 0.12], \"k-\")\n",
    "plt.text(10.5, 0.08, \"$speed=10ms^{-1}$\")"
   ]
  },
  {
   "cell_type": "markdown",
   "metadata": {},
   "source": [
    "#### 4.6. standard_t(df[, size])\n",
    "\n",
    "This function draws samples from a standard Student's t distribution with *df* degrees of freedom. It shares similar characteristics with the normal distribution, with its bell shape. However, it has a greater chance for extreme values, giving lower probability to the centre and a higher probability to the tails than the standard normal distribution.<sup>42</sup> <sup>43</sup>\n",
    "\n",
    "The probability density function can be expressed as:\n",
    "\n",
    "$f(t) = \\frac{\\Gamma(\\frac{\\nu+1}{2})} {\\sqrt{\\nu\\pi}\\,\\Gamma(\\frac{\\nu}{2})} \\left(1+\\frac{t^2}{\\nu} \\right)^{\\!-\\frac{\\nu+1}{2}}\\!$\n",
    "\n",
    "where $\\nu$ is the number of degrees of freedom and $\\Gamma$ is the gamma function.<sup>44</sup>\n",
    "\n",
    "The ```standard_t()``` function below creates three arrays of the same size with different degrees of freedom."
   ]
  },
  {
   "cell_type": "code",
   "execution_count": null,
   "metadata": {},
   "outputs": [],
   "source": [
    "# Create three arrays with different degrees of freedom\n",
    "ix = rng.standard_t(2, 100)\n",
    "iy = rng.standard_t(40, 100)\n",
    "iz = rng.standard_t(100, 100)\n",
    "# Print the first array\n",
    "print(ix)"
   ]
  },
  {
   "cell_type": "markdown",
   "metadata": {},
   "source": [
    "As shown below, the mean of all three arrays is approximately zero."
   ]
  },
  {
   "cell_type": "code",
   "execution_count": null,
   "metadata": {},
   "outputs": [],
   "source": [
    "print(\"Mean of ix array: \", np.mean(ix))\n",
    "print(\"Mean of iy array: \", np.mean(iy))\n",
    "print(\"Mean of iz array: \", np.mean(iz))"
   ]
  },
  {
   "cell_type": "markdown",
   "metadata": {},
   "source": [
    "The three plots below illustrate the ECDF of each array individually, with the mean indicated by a red line."
   ]
  },
  {
   "cell_type": "code",
   "execution_count": null,
   "metadata": {},
   "outputs": [],
   "source": [
    "# Call the ECDF function\n",
    "ecdf(ix, \"#1f77b4\")\n",
    "# Draw a vertical line to indicate the mean\n",
    "plt.axvline(np.mean(ix), color=\"red\")\n",
    "plt.xlabel(\"X\"), plt.ylabel(\"Cumulative Probability\"), plt.title(\"ECDF of Student\\'s T Distribution (ix array)\")\n",
    "plt.grid()"
   ]
  },
  {
   "cell_type": "code",
   "execution_count": null,
   "metadata": {},
   "outputs": [],
   "source": [
    "# Call the ECDF function\n",
    "ecdf(iy, \"#ff7f0e\")\n",
    "# Draw a vertical line to indicate the mean\n",
    "plt.axvline(np.mean(iy), color=\"red\")\n",
    "plt.xlabel(\"X\"), plt.ylabel(\"Cumulative Probability\"), plt.title(\"ECDF of Student\\'s T Distribution (iy array)\")\n",
    "plt.grid()"
   ]
  },
  {
   "cell_type": "code",
   "execution_count": null,
   "metadata": {},
   "outputs": [],
   "source": [
    "# Call the ECDF function\n",
    "ecdf(iz, \"#2ca02c\")\n",
    "# Draw a vertical line to indicate the mean\n",
    "plt.axvline(np.mean(iz), color=\"red\")\n",
    "plt.xlabel(\"X\"), plt.ylabel(\"Cumulative Probability\"), plt.title(\"ECDF of Student\\'s T Distribution (iz array)\")\n",
    "plt.grid()"
   ]
  },
  {
   "cell_type": "markdown",
   "metadata": {},
   "source": [
    "The plot below illustrates the ECDF of each array combined to help visualise how different degrees of freedom affect the distribution of the data."
   ]
  },
  {
   "cell_type": "code",
   "execution_count": null,
   "metadata": {},
   "outputs": [],
   "source": [
    "# Call the ECDF function for each array\n",
    "ecdf(ix, \"#1f77b4\"), ecdf(iy, \"#ff7f0e\"), ecdf(iz, \"#2ca02c\")\n",
    "plt.xlabel('X'), plt.ylabel(\"Cumulative Probability\"), plt.title(\"ECDF of Student\\'s T Distribution Distribution\")\n",
    "plt.grid()"
   ]
  },
  {
   "cell_type": "markdown",
   "metadata": {},
   "source": [
    "The kernel density plot below shows how similar the distribution is to a standard normal distribution."
   ]
  },
  {
   "cell_type": "code",
   "execution_count": null,
   "metadata": {},
   "outputs": [],
   "source": [
    "# Plot the three arrays with different degrees of freedom\n",
    "sns.distplot(ix, label=\"df = 10\", hist=False)\n",
    "sns.distplot(iy, label=\"df = 50\", hist=False)\n",
    "sns.distplot(iz, label=\"df = 100\", hist=False)\n",
    "plt.xlabel(\"X\"), plt.ylabel(\"Probability Density\"), plt.title(\"Student's T Distribution\")\n",
    "plt.grid()"
   ]
  },
  {
   "cell_type": "markdown",
   "metadata": {},
   "source": [
    "The histograms below illustrate how as the *df* gets larger, the distribution starts to resemble a standard normal distribution."
   ]
  },
  {
   "cell_type": "code",
   "execution_count": null,
   "metadata": {},
   "outputs": [],
   "source": [
    "# Plot a histogram of the array\n",
    "sns.distplot(ix, kde=False, color=\"#1f77b4\")\n",
    "# Draw a vertical line to indicate the mean\n",
    "plt.axvline(np.mean(ix), color=\"red\")\n",
    "plt.xlabel(\"X\"), plt.ylabel(\"Probability Density\"), plt.title(\"Student's T Distribution (ix array)\")\n",
    "plt.grid()"
   ]
  },
  {
   "cell_type": "code",
   "execution_count": null,
   "metadata": {},
   "outputs": [],
   "source": [
    "# Plot a histogram of the array\n",
    "sns.distplot(iy, kde=False, color=\"#ff7f0e\")\n",
    "# Draw a vertical line to indicate the mean\n",
    "plt.axvline(np.mean(iy), color=\"red\")\n",
    "plt.xlabel(\"X\"), plt.ylabel(\"Probability Density\"), plt.title(\"Student's T Distribution (iy array)\")\n",
    "plt.grid()"
   ]
  },
  {
   "cell_type": "code",
   "execution_count": null,
   "metadata": {},
   "outputs": [],
   "source": [
    "# Plot a histogram of the array\n",
    "sns.distplot(iz, kde=False, color=\"#2ca02c\")\n",
    "# Draw a vertical line to indicate the mean\n",
    "plt.axvline(np.mean(iz), color=\"red\")\n",
    "plt.xlabel(\"X\"), plt.ylabel(\"Probability Density\"), plt.title(\"Student's T Distribution (iz array)\")\n",
    "plt.grid()"
   ]
  },
  {
   "cell_type": "markdown",
   "metadata": {},
   "source": [
    "#### 4.7. triangular(left, mode, right[, size])\n",
    "\n",
    "This function draws samples from the triangular distribution over the interval ```[left, right]```. The function returns a random floating number between the two specified numbers, but a third parameter (the mode) can also be specified. Unlike other distributions, these parameters directly define the shape of the probability density function.<sup>45</sup> Business applications such as simulation and project management sometimes use a triangular distribution to create models when limited sample data exists.<sup>46</sup>\n",
    "\n",
    "The ```triangular()``` function below creates three arrays of the same size with different mode values."
   ]
  },
  {
   "cell_type": "code",
   "execution_count": null,
   "metadata": {},
   "outputs": [],
   "source": [
    "# Create three arrays with different mode values\n",
    "jx = rng.triangular(10, 10, 50, 1000)\n",
    "jy = rng.triangular(10, 30, 50, 1000)\n",
    "jz = rng.triangular(10, 50, 50, 1000)\n",
    "# Print the first array\n",
    "print(jx)"
   ]
  },
  {
   "cell_type": "code",
   "execution_count": null,
   "metadata": {},
   "outputs": [],
   "source": [
    "# Find the mean value of each array\n",
    "print(\"Mean of jx array: \", np.mean(jx))\n",
    "print(\"Mean of jy array: \", np.mean(jy))\n",
    "print(\"Mean of jz array: \", np.mean(jz))"
   ]
  },
  {
   "cell_type": "markdown",
   "metadata": {},
   "source": [
    "The three plots below illustrate the ECDF of each array individually, with the mean indicated by a red line. Again, the ECDF is very similar to that of the student's t distribution."
   ]
  },
  {
   "cell_type": "code",
   "execution_count": null,
   "metadata": {},
   "outputs": [],
   "source": [
    "# Call the ECDF function\n",
    "ecdf(jx, \"#1f77b4\")\n",
    "# Draw a vertical line to indicate the mean\n",
    "plt.axvline(np.mean(jx), color=\"red\")\n",
    "plt.xlabel(\"X\"), plt.ylabel(\"Cumulative Probability\"), plt.title(\"ECDF of Triangular Distribution (jx array)\")\n",
    "plt.grid()"
   ]
  },
  {
   "cell_type": "code",
   "execution_count": null,
   "metadata": {},
   "outputs": [],
   "source": [
    "# Call the ECDF function\n",
    "ecdf(jy, \"#ff7f0e\")\n",
    "# Draw a vertical line to indicate the mean\n",
    "plt.axvline(np.mean(jy), color=\"red\")\n",
    "plt.xlabel(\"X\"), plt.ylabel(\"Cumulative Probability\"), plt.title(\"ECDF of Triangular Distribution (jy array)\")\n",
    "plt.grid()"
   ]
  },
  {
   "cell_type": "code",
   "execution_count": null,
   "metadata": {},
   "outputs": [],
   "source": [
    "# Call the ECDF function\n",
    "ecdf(jz, \"#2ca02c\")\n",
    "# Draw a vertical line to indicate the mean\n",
    "plt.axvline(np.mean(jy), color=\"red\")\n",
    "plt.xlabel(\"X\"), plt.ylabel(\"Cumulative Probability\"), plt.title(\"ECDF of Triangular Distribution (jz array)\")\n",
    "plt.grid()"
   ]
  },
  {
   "cell_type": "markdown",
   "metadata": {},
   "source": [
    "The plot below illustrates the ECDF of each array combined to help visualise how different mode values affect the distribution of the data."
   ]
  },
  {
   "cell_type": "code",
   "execution_count": null,
   "metadata": {},
   "outputs": [],
   "source": [
    "# Call the ECDF function for each array\n",
    "ecdf(jx, \"#1f77b4\"), ecdf(jy, \"#ff7f0e\"), ecdf(jz, \"#2ca02c\")\n",
    "plt.xlabel('X'), plt.ylabel(\"Cumulative Probability\"), plt.title(\"ECDF of Triangular Distribution\")\n",
    "plt.grid()"
   ]
  },
  {
   "cell_type": "markdown",
   "metadata": {},
   "source": [
    "The kernel density plot below shows how as the mode increases, the distribution skews further to the right."
   ]
  },
  {
   "cell_type": "code",
   "execution_count": null,
   "metadata": {},
   "outputs": [],
   "source": [
    "# Plot the three arrays with different intervals\n",
    "sns.distplot(jx, hist=False)\n",
    "sns.distplot(jy, hist=False)\n",
    "sns.distplot(jz, hist=False)\n",
    "plt.xlabel(\"X\"), plt.ylabel(\"Probability Density\"), plt.title(\"Triangular Distribution\")\n",
    "plt.grid()"
   ]
  },
  {
   "cell_type": "markdown",
   "metadata": {},
   "source": [
    "The histograms below illustrate how the distributions have a triangular shape."
   ]
  },
  {
   "cell_type": "code",
   "execution_count": null,
   "metadata": {},
   "outputs": [],
   "source": [
    "# Plot a histogram of the array\n",
    "sns.distplot(jx, kde=False, color=\"#1f77b4\")\n",
    "# Draw a vertical line to indicate the mean\n",
    "plt.axvline(np.mean(jx), color=\"red\")\n",
    "plt.xlabel(\"X\"), plt.ylabel(\"Probability Density\"), plt.title(\"Triangular Distribution (jx array)\")\n",
    "plt.grid()"
   ]
  },
  {
   "cell_type": "code",
   "execution_count": null,
   "metadata": {},
   "outputs": [],
   "source": [
    "# Plot a histogram of the array\n",
    "sns.distplot(jy, kde=False, color=\"#ff7f0e\")\n",
    "# Draw a vertical line to indicate the mean\n",
    "plt.axvline(np.mean(jy), color=\"red\")\n",
    "plt.xlabel(\"X\"), plt.ylabel(\"Probability Density\"), plt.title(\"Triangular Distribution (jy array)\")\n",
    "plt.grid()"
   ]
  },
  {
   "cell_type": "code",
   "execution_count": null,
   "metadata": {},
   "outputs": [],
   "source": [
    "# Plot a histogram of the array\n",
    "sns.distplot(jz, kde=False, color=\"#2ca02c\")\n",
    "# Draw a vertical line to indicate the mean\n",
    "plt.axvline(np.mean(jz), color=\"red\")\n",
    "plt.xlabel(\"X\"), plt.ylabel(\"Probability Density\"), plt.title(\"Triangular Distribution (jz array)\")\n",
    "plt.grid()"
   ]
  },
  {
   "cell_type": "markdown",
   "metadata": {},
   "source": [
    "As illustrated in the histogram below, by creating a much larger array, the triangular shape of the distribution is more apparent."
   ]
  },
  {
   "cell_type": "code",
   "execution_count": null,
   "metadata": {},
   "outputs": [],
   "source": [
    "# Create an array\n",
    "jw = rng.triangular(1000, 1000, 5000, 100000)\n",
    "# Plot a histogram of the array\n",
    "sns.distplot(jw, kde=False, color=\"#d62728\")\n",
    "# Draw a vertical line to indicate the mean\n",
    "plt.axvline(np.mean(jw), color=\"red\")\n",
    "plt.xlabel(\"X\"), plt.ylabel(\"Probability Density\"), plt.title(\"Triangular Distribution (jz array)\")\n",
    "plt.grid()"
   ]
  },
  {
   "cell_type": "markdown",
   "metadata": {},
   "source": [
    "#### 4.8. uniform([low, high, size])\n",
    "\n",
    "This function draws samples from a uniform distribution. It returns a random floating number between two specified numbers (both inclusive).<sup>47</sup> A real-world example of this would be the first ball drawn in the lottery or the first card drawn from a deck of cards."
   ]
  },
  {
   "cell_type": "code",
   "execution_count": null,
   "metadata": {},
   "outputs": [],
   "source": [
    "# Create three arrays with different intervals\n",
    "kx = rng.uniform(40, 30, 10000)\n",
    "ky = rng.uniform(60, 30, 10000)\n",
    "kz = rng.uniform(80, 30, 10000)\n",
    "# Print the first array\n",
    "print(kx)"
   ]
  },
  {
   "cell_type": "code",
   "execution_count": null,
   "metadata": {},
   "outputs": [],
   "source": [
    "# Find the mean value of each array\n",
    "print(np.mean(kx))\n",
    "print(np.mean(ky))\n",
    "print(np.mean(kz))"
   ]
  },
  {
   "cell_type": "markdown",
   "metadata": {},
   "source": [
    "The three plots below illustrate the ECDF of each array individually, with the mean indicated by a red line. In contrast to the triangular distribution, which has a curved line, the uniform distribution is straight. This infers that any value within the given interval is equally likely to be drawn. Another observation is that the mean and median are approximately the same."
   ]
  },
  {
   "cell_type": "code",
   "execution_count": null,
   "metadata": {},
   "outputs": [],
   "source": [
    "# Find the median value of each array\n",
    "print(np.median(kx))\n",
    "print(np.median(ky))\n",
    "print(np.median(kz))"
   ]
  },
  {
   "cell_type": "code",
   "execution_count": null,
   "metadata": {},
   "outputs": [],
   "source": [
    "# Call the ECDF function\n",
    "ecdf(kx, \"#1f77b4\")\n",
    "# Draw a vertical line to indicate the mean\n",
    "plt.axvline(np.mean(kx), color=\"red\")\n",
    "plt.xlabel(\"X\"), plt.ylabel(\"Cumulative Probability\"), plt.title(\"ECDF of Uniform Distribution (kx array)\")\n",
    "plt.grid()"
   ]
  },
  {
   "cell_type": "code",
   "execution_count": null,
   "metadata": {},
   "outputs": [],
   "source": [
    "# Call the ECDF function\n",
    "ecdf(ky, \"#ff7f0e\")\n",
    "# Draw a vertical line to indicate the mean\n",
    "plt.axvline(np.mean(ky), color=\"red\")\n",
    "plt.xlabel(\"X\"), plt.ylabel(\"Cumulative Probability\"), plt.title(\"ECDF of Uniform Distribution (ky array)\")\n",
    "plt.grid()"
   ]
  },
  {
   "cell_type": "code",
   "execution_count": null,
   "metadata": {},
   "outputs": [],
   "source": [
    "# Call the ECDF function\n",
    "ecdf(kz, \"#2ca02c\")\n",
    "# Draw a vertical line to indicate the mean\n",
    "plt.axvline(np.mean(kz), color=\"red\")\n",
    "plt.xlabel(\"X\"), plt.ylabel(\"Cumulative Probability\"), plt.title(\"ECDF of Uniform Distribution (kz array)\")\n",
    "plt.grid()"
   ]
  },
  {
   "cell_type": "markdown",
   "metadata": {},
   "source": [
    "The plot below illustrates the ECDF of each array combined to help visualise how a different *low* value affects the distribution of the data."
   ]
  },
  {
   "cell_type": "code",
   "execution_count": null,
   "metadata": {},
   "outputs": [],
   "source": [
    "# Call the ECDF function for each array\n",
    "ecdf(kx, \"#1f77b4\"), ecdf(ky, \"#ff7f0e\"), ecdf(kz, \"#2ca02c\")\n",
    "plt.xlabel(\"X\"), plt.ylabel(\"Cumulative Probability\"), plt.title(\"ECDF of Uniform Distribution\")\n",
    "plt.grid()"
   ]
  },
  {
   "cell_type": "markdown",
   "metadata": {},
   "source": [
    "The kernel density plot below shows how the probability density is almost equal across the distributions, particular those with a larger *low* value."
   ]
  },
  {
   "cell_type": "code",
   "execution_count": null,
   "metadata": {},
   "outputs": [],
   "source": [
    "# Plot the three arrays with different intervals\n",
    "sns.distplot(kx, hist=False)\n",
    "sns.distplot(ky, hist=False)\n",
    "sns.distplot(kz, hist=False)\n",
    "plt.xlabel(\"X\"), plt.ylabel(\"Probability Density\"), plt.title(\"Uniform Distribution\")\n",
    "plt.grid()"
   ]
  },
  {
   "cell_type": "markdown",
   "metadata": {},
   "source": [
    "It is apparent from the histograms below that the numbers generated by the function tend to be approximately equally distributed, meaning that theyre is no part of the interval with more random numbers than other parts. "
   ]
  },
  {
   "cell_type": "code",
   "execution_count": null,
   "metadata": {},
   "outputs": [],
   "source": [
    "# Plot a histogram of the array\n",
    "sns.distplot(kx, kde=False, color=\"#1f77b4\")\n",
    "# Draw a vertical line to indicate the mean\n",
    "plt.axvline(np.mean(kx), color=\"red\")\n",
    "plt.xlabel(\"X\"), plt.ylabel(\"Probability Density\"), plt.title(\"Uniform Distribution (kx array)\")\n",
    "plt.grid()"
   ]
  },
  {
   "cell_type": "code",
   "execution_count": null,
   "metadata": {},
   "outputs": [],
   "source": [
    "# Plot a histogram of the array\n",
    "sns.distplot(ky, kde=False, color=\"#ff7f0e\")\n",
    "# Draw a vertical line to indicate the mean\n",
    "plt.axvline(np.mean(ky), color=\"red\")\n",
    "plt.xlabel(\"X\"), plt.ylabel(\"Probability Density\"), plt.title(\"Uniform Distribution (ky array)\")\n",
    "plt.grid()"
   ]
  },
  {
   "cell_type": "code",
   "execution_count": null,
   "metadata": {},
   "outputs": [],
   "source": [
    "# Plot a histogram of the array\n",
    "sns.distplot(kz, kde=False, color=\"#2ca02c\")\n",
    "# Draw a vertical line to indicate the mean\n",
    "plt.axvline(np.mean(kz), color=\"red\")\n",
    "plt.xlabel(\"X\"), plt.ylabel(\"Probability Density\"), plt.title(\"Uniform Distribution (kz array)\")\n",
    "plt.grid()"
   ]
  },
  {
   "cell_type": "markdown",
   "metadata": {},
   "source": [
    "It is evident from the histograms above that some intervals get slightly more random numbers than others. However, as the size grows, the distribution of the random numbers becomes more equal among intervals. The histogram below shows how a larger distribution looks more even."
   ]
  },
  {
   "cell_type": "code",
   "execution_count": null,
   "metadata": {},
   "outputs": [],
   "source": [
    "# Create an array\n",
    "kw = rng.uniform(40, 30, 1000000)\n",
    "# Plot a histogram of the array\n",
    "sns.distplot(kw, kde=False, color=\"#d62728\")\n",
    "# Draw a vertical line to indicate the mean\n",
    "plt.axvline(np.mean(kw), color=\"red\")\n",
    "plt.xlabel(\"X\"), plt.ylabel(\"Probability Density\"), plt.title(\"Uniform Distribution (kx array)\")\n",
    "plt.grid()"
   ]
  },
  {
   "cell_type": "markdown",
   "metadata": {},
   "source": [
    "A real-world example of a uniform distribution would be rolling a dice, as each face has an equal chance of showing. The plot below illustrates how each face has the same probability."
   ]
  },
  {
   "cell_type": "code",
   "execution_count": null,
   "metadata": {},
   "outputs": [],
   "source": [
    "prob = np.full((6), 1/6)\n",
    "face = [1, 2, 3, 4, 5, 6]\n",
    "plt.bar(face, prob, color=\"#9467bd\")\n",
    "plt.ylabel(\"Probability\"), plt.xlabel(\"Face\"), plt.title(\"6-sided Dice Uniform Distribution\")\n",
    "plt.grid()"
   ]
  },
  {
   "cell_type": "markdown",
   "metadata": {},
   "source": [
    "<br>\n",
    "\n",
    "### 5. Seeds\n",
    "***\n",
    "Random number generators are divided into two general categories: 1) True Random Number Generators (TRNGs) and 2) Pseudo Random Number Generators (PRNGs). TRNGs are typically based on real-world phonomena such as thermal noise and radioactive decay, and are commonly used in cryptography. Although they produce non-deterministic number sequences, there are some disadvantages such as slowness and high cost. On the other hand, PRNGs produce deterministic number sequences based on a seed.<sup>53</sup>\n",
    "\n",
    "A random seed is a number used to initialise a pseudorandom number generator. The number sequence of this generator is completely determined by the seed, and therefore if the generator is reinitialised with the same seed, it will produce the same sequence of numbers.<sup>48</sup> It can be considered a sequence of decisions made from a starting state following a particular strategy. According to Pasqualini and Parton (2020), a good pseudorandom number generator corresponds to a good strategy in a decision-making process.<sup>52</sup> $\\pi$ is a commonly used seed, as it has a decimal expansion that never repeats a pattern.\n",
    "\n",
    "According to Wolfram MathWorld<sup>60</sup>, a random number is\n",
    ">*a number chosen as if by chance from some specified distribution such that selection of a large set of these numbers reproduces the underlying distribution. Almost always, such numbers are also required to be independent, so that there are no correlations between successive numbers. Computer-generated random numbers are sometimes called pseudorandom numbers, while the term \"random\" is reserved for the output of unpredictable physical processes. When used without qualification, the word \"random\" usually means \"random with a uniform distribution.\" Other distributions are of course possible.*\n",
    "\n",
    "In the superseded version of the package, the algorithm used to call random number generator functions, such as ```np.random.normal()```, was the Mersenne Twister. It has been a widely used and reliable means of random number generation. However, in the latest version (v1.19), the ```numpy.random``` module offers random number generators with better statistical performance than the legacy MT19937 used in ```RandomState```, with the default set to the PCG64 generator. By calling ```default_rng()```, a new instance of a Generator is obtained, providing access to a wide range of distributions.<sup>49</sup> The table below provides a summary of the comparison between the two algorithms.<sup>57</sup>\n",
    "\n",
    "![PCG](pcg_compare.png)\n",
    " \n",
    "A permuted congruential generator (PCG) applies an output permutation function to improve the statistical properties of a modulo-$2^n$ linear congruential generator with small and fast code, and small state size. Linear congruential generators are one of the oldest and best-known PRNG algorithms. They are however known to be statistically weak, but since the PCG's state transition function only does half the work, it does not need to be perfect. The output function turns the generator's internal state into the actual random number. The PCG uses a new technique called permutation functions on tuples to produce output that is much more random than the PRNG's internal state. The output functions give a PCG it its excellent statistical performance. PCG64 is a 128-bit implementation of O'Neill's permuted congruential generator. It has a period of $2^{128}$ and supports advancing an arbitrary number of steps. Random variates are generated by permuting the output of a 128-bit LCG.<sup>50</sup> As PCG64 is a more sophisticated algorithm, it is clear why it is now the default random number generator in NumPy.\n",
    "\n",
    "To demonstrate that random number generation is deterministic, the code below will explicitly seed the random number generator to 500 to illustrate that the same random numbers are generated. However, the sequence of numbers appears to lack any pattern, and therefore they can be considered random."
   ]
  },
  {
   "cell_type": "code",
   "execution_count": null,
   "metadata": {},
   "outputs": [],
   "source": [
    "# Construct a new Generator\n",
    "rng = np.random.default_rng(seed=500)\n",
    "# Create a random uniform distribution comprising 10 floats\n",
    "rng.uniform(size=10)"
   ]
  },
  {
   "cell_type": "markdown",
   "metadata": {},
   "source": [
    "When the code is run again, but with an additional five floats, the random number sequence of the first 10 floats is exactly the same."
   ]
  },
  {
   "cell_type": "code",
   "execution_count": null,
   "metadata": {},
   "outputs": [],
   "source": [
    "# Construct a new Generator\n",
    "rng = np.random.default_rng(seed=500)\n",
    "# Create a random uniform distribution comprising 10 floats\n",
    "rng.uniform(size=15)"
   ]
  },
  {
   "cell_type": "markdown",
   "metadata": {},
   "source": [
    "If a different seed is used, completely different random numbers are generated, as shown below."
   ]
  },
  {
   "cell_type": "code",
   "execution_count": null,
   "metadata": {},
   "outputs": [],
   "source": [
    "# Construct a new Generator\n",
    "rng = np.random.default_rng(seed=501)\n",
    "# Create a random uniform distribution comprising 10 floats\n",
    "rng.uniform(size=10)"
   ]
  },
  {
   "cell_type": "markdown",
   "metadata": {},
   "source": [
    "In the code below, using seed values in conjunction with a *for* loop, the same values are repeatedly generated. Without a seed value, different values are generated within the given range.<sup>56</sup>"
   ]
  },
  {
   "cell_type": "code",
   "execution_count": null,
   "metadata": {},
   "outputs": [],
   "source": [
    "# Create a for loop to generate 3 numbers\n",
    "for i in range(3):   \n",
    "    # Construct a new Generator\n",
    "    rng = np.random.default_rng(seed=20)  \n",
    "    # Generate a random number between 1 and 100 (exclusive)\n",
    "    print(\"Random number generated with a seed: \", rng.choice(100)) \n",
    "    \n",
    "for i in range (3):\n",
    "    # Construct a new Generator\n",
    "    rng = np.random.default_rng()\n",
    "    # Generate a random number between 1 and 100 (exclusive) \n",
    "    print(\"Random number generated without a seed: \", rng.choice(100)) \n",
    "    "
   ]
  },
  {
   "cell_type": "markdown",
   "metadata": {},
   "source": [
    "When using the same seed in the PCG64 generator and legacy MT19937 generator, different random numbers are generated."
   ]
  },
  {
   "cell_type": "code",
   "execution_count": null,
   "metadata": {},
   "outputs": [],
   "source": [
    "# Construct a new Generator\n",
    "rng = np.random.default_rng(12345)\n",
    "rng.random()"
   ]
  },
  {
   "cell_type": "code",
   "execution_count": null,
   "metadata": {},
   "outputs": [],
   "source": [
    "from numpy.random import Generator, MT19937\n",
    "\n",
    "# Construct a new Generator using MT19937\n",
    "rg = Generator(MT19937(12345))\n",
    "rg.random()"
   ]
  },
  {
   "cell_type": "markdown",
   "metadata": {},
   "source": [
    "<br>\n",
    "\n",
    "### 6. References\n",
    "***\n",
    "1. University of Central Florida, *Python Lists vs. Numpy Arrays - What is the difference?* [online] Available at: https://webcourses.ucf.edu/courses/1249560/pages/python-lists-vs-numpy-arrays-what-is-the-difference\n",
    "\n",
    "2. DataCamp, *Random Number Generator Using Numpy* [online] Available at: https://www.datacamp.com/community/tutorials/numpy-random\n",
    "\n",
    "3. w3schools, *Random numbers in NumPy* [online] Available at: https://www.w3schools.com/python/numpy_random.asp\n",
    "\n",
    "4. Machine Learning Mastery, *How to Generate Random Numbers in Python* [online] Available at: https://machinelearningmastery.com/how-to-generate-random-numbers-in-python/\n",
    "\n",
    "5. Numpy, *Random Generator* [online] Available at: https://numpy.org/doc/stable/reference/random/generator.html\n",
    "\n",
    "6. NumPy, *numpy.random.Generator.integers* [online] Available at: https://numpy.org/doc/stable/reference/random/generated/numpy.random.Generator.integers.html\n",
    "\n",
    "7. Wolfram MathWorld, *Discrete Uniform Distribution* [online] Available at: https://mathworld.wolfram.com/DiscreteUniformDistribution.html\n",
    "\n",
    "8. VrcAcademy, *Discrete Uniform Distribution* [online] Available at: https://vrcacademy.com/tutorials/discrete-uniform-distribution/\n",
    "\n",
    "9. Wolfram MathWorld, *Half-Closed Interval* [online] Available at: https://mathworld.wolfram.com/Half-ClosedInterval.html\n",
    "\n",
    "10. Wikipedia, *Interval (mathematics)* [online] Available at: https://en.wikipedia.org/wiki/Interval_(mathematics)\n",
    "\n",
    "11. NumPy, *numpy.random.Generator.random* [online] Available at: https://numpy.org/doc/stable/reference/random/generated/numpy.random.Generator.random.html\n",
    "\n",
    "12. NumPy, *numpy.mean* [online] Available at: https://numpy.org/doc/stable/reference/generated/numpy.mean.html\n",
    "\n",
    "13. Wikipedia, *Continuous uniform distribution* [online] Available at: https://en.wikipedia.org/wiki/Continuous_uniform_distribution\n",
    "\n",
    "14. NumPy, *numpy.random.Generator.choice* [online] Available at: https://numpy.org/doc/stable/reference/random/generated/numpy.random.Generator.choice.html\n",
    "\n",
    "15. NumPy, *numpy.arange* [online] Available at: https://numpy.org/doc/stable/reference/generated/numpy.arange.html\n",
    "\n",
    "16. PYnative, *Python random.choice() function to select random item from a List and Set* [online] Available at: https://pynative.com/python-random-choice/\n",
    "\n",
    "17. Stack Overflow, *What does replacement mean in numpy.random.choice?* [online] Available at: https://stackoverflow.com/questions/40689152/what-does-replacement-mean-in-numpy-random-choice\n",
    "\n",
    "18. NumPy, *numpy.random.Generator.bytes* [online] Available at: https://numpy.org/doc/stable/reference/random/generated/numpy.random.Generator.bytes.html\n",
    "\n",
    "19. PyProg, *numpy.random.bytes* [online] Available at: https://pyprog.pro/random_sampling_functions/bytes.html\n",
    "\n",
    "20. NumPy, *numpy.random.Generator.shuffle* [online] Available at: https://numpy.org/doc/stable/reference/random/generated/numpy.random.Generator.shuffle.html\n",
    "\n",
    "21. w3schools, *Random permutation* [online] Available at: https://www.w3schools.com/python/numpy_random_permutation.asp\n",
    "\n",
    "22. Stack Overflow, *shuffle vs permute numpy* [online] Available at: https://stackoverflow.com/questions/15474159/shuffle-vs-permute-numpy\n",
    "\n",
    "23. cmdlinetips, *Empirical cumulative distribution function (ECDF) in Python* [online] Available at: https://cmdlinetips.com/2019/05/empirical-cumulative-distribution-function-ecdf-in-python/\n",
    "\n",
    "24. The Chemical Statistician, *Exploratory Data Analysis: Conceptual Foundations of Empirical Cumulative Distribution Functions* [online] Available at: https://chemicalstatistician.wordpress.com/2013/06/24/exploratory-data-analysis-conceptual-foundations-of-empirical-cumulative-distribution-functions/\n",
    "\n",
    "25. Wikipedia, *Chi-squared test* [online] Available at: https://en.wikipedia.org/wiki/Chi-squared_test\n",
    "\n",
    "26. w3schools, *Chi Square Distribution* [online] Available at: https://www.w3schools.com/python/numpy_random_chisquare.asp\n",
    "\n",
    "27. The Minitab Blog, *What Are Degrees of Freedom in Statistics?* [online] Available at: https://blog.minitab.com/blog/statistics-and-quality-data-analysis/what-are-degrees-of-freedom-in-statistics\n",
    "\n",
    "28. Boston University School of Public Health, *Comparing Frequencies* [online] Available at: https://sphweb.bumc.bu.edu/otlt/MPH-Modules/PH717-QuantCore/PH717_ComparingFrequencies/PH717_ComparingFrequencies2.html\n",
    "\n",
    "29. Online Statistics Education, *Chi Square Distribution* [online] Available at: http://onlinestatbook.com/2/chi_square/distribution.html\n",
    "\n",
    "30. w3schools, *Exponential Distribution* [online] Available at: https://www.w3schools.com/python/numpy_random_exponential.asp\n",
    "\n",
    "31. NumPy, *numpy.random.Generator.exponential* [online] Available at: https://numpy.org/doc/stable/reference/random/generated/numpy.random.exponential.html\n",
    "\n",
    "32. Math Insight, *The exponential function* [online] Available at: https://mathinsight.org/exponential_function\n",
    "\n",
    "33. Wikipedia, *Bernoulli trial* [online] Available at: https://en.wikipedia.org/wiki/Bernoulli_trial\n",
    "\n",
    "34. Wikipedia, *Geometric distribution* [online] Available at: https://en.wikipedia.org/wiki/Geometric_distribution\n",
    "\n",
    "35. Wolfram MathWorld, *Geometric Distribution* [online] Available at: https://mathworld.wolfram.com/GeometricDistribution.html \n",
    "\n",
    "36. w3schools, *Normal (Gaussian) Distribution* [online] Available at: https://www.w3schools.com/python/numpy_random_normal.asp\n",
    "\n",
    "37. Engineering Statistics Handbook, *Normal Distribution* [online] Available at: https://www.itl.nist.gov/div898/handbook/eda/section3/eda3661.htm\n",
    "\n",
    "38. Maths is Fun Advanced, *Normal Distribution* [online] Available at: https://www.mathsisfun.com/data/standard-normal-distribution.html\n",
    "\n",
    "39. Statistics How To, *What is the Rayleigh Distribution?* [online] Available at: https://www.statisticshowto.com/rayleigh-distribution/\n",
    "\n",
    "40. w3schools, *Rayleigh Distribution* [online] Available at: https://www.w3schools.com/python/numpy_random_rayleigh.asp\n",
    "\n",
    "41. Wikipedia, *Rayleigh distribution* [online] Available at: https://en.wikipedia.org/wiki/Rayleigh_distribution\n",
    "\n",
    "42. Investopedia, *T Distribution Definition* [online] Available at: https://www.investopedia.com/terms/t/tdistribution.asp\n",
    "\n",
    "43. Scribbr, *T-distribution: What it is and how to use it* [online] Available at: https://www.scribbr.com/statistics/t-distribution/\n",
    "\n",
    "44. Wikipedia, *Student's t-distribution* [online] Available at: https://en.wikipedia.org/wiki/Student%27s_t-distribution\n",
    "\n",
    "45. NumPy, *numpy.random.triangular* [online] Available at: https://numpy.org/doc/stable/reference/random/generated/numpy.random.triangular.html\n",
    "\n",
    "46. MathWorks, *Nonparametric and Empirical Probability Distributions* [online] Available at: https://www.mathworks.com/help/stats/nonparametric-and-empirical-probability-distributions.html\n",
    "\n",
    "47. w3schools, *Python Random uniform() Method* [online] Available at: https://www.w3schools.com/python/ref_random_uniform.asp\n",
    "\n",
    "48. Wikipedia, *Random seed* [online] Available at: https://en.wikipedia.org/wiki/Random_seed\n",
    "\n",
    "49. W3cubDocs, *Random Generator* [online] Available at: https://docs.w3cub.com/numpy~1.17/random/generator/\n",
    "\n",
    "50. randomgen, *Permuted Congruential Generator (64-bit, PCG64)* [online] Available at: https://bashtage.github.io/randomgen/bit_generators/pcg64.html\n",
    "\n",
    "51. Chartio, *A Complete Guide to Histograms* [online] Available at: https://chartio.com/learn/charts/histogram-complete-guide/\n",
    "\n",
    "52. Pasqualini, L. and Parton, M, 2020. \"Pseudo Random Number Generation: a Reinforcement Learning approach\", *Procedia Computer Science*, 170 (2020), pp. 1122-1127. Available from: Scienct Direct [accessed 21 November 2020]  \n",
    "\n",
    "53. Barani, M.J. et al., 2020. \"A new Pseudo random number generator based on generalised Newton complex map with dynamic key\", *Journal of Information Security Applications*, 53 (2020) 102509. Available from: Science Direct [accessed 21 November 2020]\n",
    "\n",
    "54. Stat Trek, *Probability Distributions: Discrete vs. Continuous* [online] Available at: https://stattrek.com/probability-distributions/discrete-continuous.aspx\n",
    "\n",
    "55. ETF HQ, *Normal Distribution Bell Curve* [online] Available at: http://etfhq.com/blog/2011/02/07/standard-deviation/\n",
    "\n",
    "56. GeeksforGeeks, *random.seed() in Python* [online] Available at: https://www.geeksforgeeks.org/random-seed-in-python\n",
    "\n",
    "57. PCG, *At-a-Glance Summary* [online] Available at: https://www.pcg-random.org/index.html\n",
    "\n",
    "58. Lumen Learning, *The Exponential Distribution* [online] Available at: https://courses.lumenlearning.com/introstats1/chapter/the-exponential-distribution/\n",
    "\n",
    "59. Jowder, F., 2006. \"Weibull and Rayleigh Distribution Functions of Wind Speeds in Kingdom of Bahrain\", *Wind Engineering*, 30 (5), pp. 439-445. Available from: Sage Journals [accessed 21 November 2020]\n",
    "\n",
    "60. Wolfram MathWorld, *Random Number* [online] Available at: https://mathworld.wolfram.com/RandomNumber.html\n",
    "\n",
    "61. Statistics How To, *What is a Geometric Distribution?* [online] Available at: https://www.statisticshowto.com/geometric-distribution/\n",
    "\n",
    "62. Open Design Lab, *ANSUR 2* [online] Available at: https://www.openlab.psu.edu/ansur2/"
   ]
  }
 ],
 "metadata": {
  "kernelspec": {
   "display_name": "Python 3",
   "language": "python",
   "name": "python3"
  },
  "language_info": {
   "codemirror_mode": {
    "name": "ipython",
    "version": 3
   },
   "file_extension": ".py",
   "mimetype": "text/x-python",
   "name": "python",
   "nbconvert_exporter": "python",
   "pygments_lexer": "ipython3",
   "version": "3.8.3"
  }
 },
 "nbformat": 4,
 "nbformat_minor": 4
}
