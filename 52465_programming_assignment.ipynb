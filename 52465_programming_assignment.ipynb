{
 "cells": [
  {
   "cell_type": "markdown",
   "metadata": {},
   "source": [
    "# The numpy.random Package"
   ]
  },
  {
   "cell_type": "markdown",
   "metadata": {},
   "source": [
    "### 1. Purpose of the package\n",
    "\n",
    "NumPy is a high-performance multidimensional array library. A NumPy array is a grid of values, all of the same type, and is indexed by a tuple of nonnegative integers. The Python core library provides lists, which is the Python equivalent of an array, but is resizeable and can contain elements of different types. NumPy data structures perform better in terms of size, performance and functionality. (https://webcourses.ucf.edu/courses/1249560/pages/python-lists-vs-numpy-arrays-what-is-the-difference)\n",
    "\n",
    "numpy.random is a subpackage of NumPy which offers a suite of functions based on pseudorandom number generation. (https://www.datacamp.com/community/tutorials/numpy-random) A random number does not mean generating a different number every time, but rather something that cannot be predicted logically. If there is a program to generate a random number, it can be predicted, and therefore it is not truly random. Random numbers generated through a generation algorithm are referred to as pseudorandom. (https://www.w3schools.com/python/numpy_random.asp) Pseudorandomness is a sample of numbers that appear random, but were generated using a deterministic process. The numbers are generated in a sequence that is deterministic and seeded with an initial number. The value of this seed does not matter. What does matter is that the same seeding of the process will result in the same sequence of random numbers. (\n",
    "https://machinelearningmastery.com/how-to-generate-random-numbers-in-python/)\n",
    "\n",
    "The first step is to import the NumPy library as well as the other libraries required in the subsequent sections."
   ]
  },
  {
   "cell_type": "code",
   "execution_count": 122,
   "metadata": {},
   "outputs": [],
   "source": [
    "import numpy as np\n",
    "import matplotlib.pyplot as plt\n",
    "import seaborn as sns"
   ]
  },
  {
   "cell_type": "markdown",
   "metadata": {},
   "source": [
    "The function below constructs a new Generator. It has one parameter which creates a seed to initialise the BitGenerator."
   ]
  },
  {
   "cell_type": "code",
   "execution_count": 126,
   "metadata": {},
   "outputs": [
    {
     "name": "stdout",
     "output_type": "stream",
     "text": [
      "Generator(PCG64)\n"
     ]
    }
   ],
   "source": [
    "rng = np.random.default_rng(123)\n",
    "print(rng)"
   ]
  },
  {
   "cell_type": "code",
   "execution_count": null,
   "metadata": {},
   "outputs": [],
   "source": [
    "a = np.array([1,3,5])\n",
    "b = np.array([1,2,3])\n",
    "print(a * b)\n",
    "# would get an error if using lists"
   ]
  },
  {
   "cell_type": "code",
   "execution_count": null,
   "metadata": {},
   "outputs": [],
   "source": [
    "c = np.array([[9.0,8.0,7.0],[6.0,5.0,4.0]]) #2D array of floats - list within a list\n",
    "print(c)"
   ]
  },
  {
   "cell_type": "code",
   "execution_count": null,
   "metadata": {},
   "outputs": [],
   "source": [
    "# Random decimal numbers\n",
    "np.random.rand(4,2,3)"
   ]
  },
  {
   "cell_type": "code",
   "execution_count": null,
   "metadata": {},
   "outputs": [],
   "source": [
    "# Random interger values\n",
    "np.random.randint(4, 7, size=(3,3))"
   ]
  },
  {
   "cell_type": "markdown",
   "metadata": {},
   "source": [
    "The following sections will explain the use of the \"Simple random data\" and \"Permutations\" functions, explain the use and purpose of eight \"Distributions\" functions, and explain the use of seeds in generating pseudorandom numbers."
   ]
  },
  {
   "cell_type": "markdown",
   "metadata": {},
   "source": [
    "### 2. Simple random data functions\n",
    "\n",
    "There are four simple random data functions in the numpy.random package. These are:\n",
    "\n",
    "1. intergers()\n",
    "2. random()\n",
    "3. choice()\n",
    "4. bytes()"
   ]
  },
  {
   "cell_type": "markdown",
   "metadata": {},
   "source": [
    "#### 2.1. integers(low[, high, size, dtype, endpoint])\n",
    "\n",
    "This function returns random integers from *low*(inclusive) to *high* (exclusive), or if endpoint=True, *low*(inclusive) to *high*(inclusive). The function below returns an array of 15 intergers between 2 and 12. By setting ```endpoint=True```, the default setting is overwritten and the number 12 is now inclusive in the output."
   ]
  },
  {
   "cell_type": "code",
   "execution_count": null,
   "metadata": {},
   "outputs": [],
   "source": [
    "rng = np.random.default_rng()\n",
    "\n",
    "rng.integers(2, 12, size=15, endpoint=True)"
   ]
  },
  {
   "cell_type": "markdown",
   "metadata": {},
   "source": [
    "#### 2.2 random([size, dtype, out])\n",
    "\n",
    "This function returns random floats in the half-open interval [0.0, 1.0)]. The function below returns an array comprising three blocks of four rows of five floats between 0.0 and 1.0."
   ]
  },
  {
   "cell_type": "code",
   "execution_count": null,
   "metadata": {},
   "outputs": [],
   "source": [
    "rng = np.random.default_rng()\n",
    "\n",
    "rng.random((3,4,5))"
   ]
  },
  {
   "cell_type": "markdown",
   "metadata": {},
   "source": [
    "The function below returns an array of 10 floats between 0.0 and 1.0."
   ]
  },
  {
   "cell_type": "code",
   "execution_count": null,
   "metadata": {},
   "outputs": [],
   "source": [
    "rng.random(10)"
   ]
  },
  {
   "cell_type": "markdown",
   "metadata": {},
   "source": [
    "#### 2.3. choice(a[, size, replace, p, axis, shuffle])\n",
    "\n",
    "This function generates a random sample from a given 1-D array. The function below returns an array comprising four intergers between 1 and 10 (exclusive)."
   ]
  },
  {
   "cell_type": "code",
   "execution_count": null,
   "metadata": {},
   "outputs": [],
   "source": [
    "rng.choice(10, 4)"
   ]
  },
  {
   "cell_type": "markdown",
   "metadata": {},
   "source": [
    "The function can also be used to select a random item from a list as per below. (https://pynative.com/python-random-choice/)"
   ]
  },
  {
   "cell_type": "code",
   "execution_count": null,
   "metadata": {},
   "outputs": [],
   "source": [
    "numberList = [111, 222, 333, 444, 555]\n",
    "print(\"Random item from list is: \", rng.choice(numberList))"
   ]
  },
  {
   "cell_type": "markdown",
   "metadata": {},
   "source": [
    "#### 2.4. bytes(length)\n",
    "\n",
    "This function returns random bytes as a string. The function below returns five bytes."
   ]
  },
  {
   "cell_type": "code",
   "execution_count": null,
   "metadata": {},
   "outputs": [],
   "source": [
    "rng.bytes(5)"
   ]
  },
  {
   "cell_type": "markdown",
   "metadata": {},
   "source": [
    "### 3 Permutations functions\n",
    "\n",
    "There are two permutation functions in the numpy.random package. These are:\n",
    "\n",
    "1. shuffle()\n",
    "2. permutation()"
   ]
  },
  {
   "cell_type": "markdown",
   "metadata": {},
   "source": [
    "#### 3.1. shuffle(x[, axis])\n",
    "\n",
    "This function modifies a sequence in-place by shuffling its contents. The function below takes a list of sequential integers as input and reorganises the items.  "
   ]
  },
  {
   "cell_type": "code",
   "execution_count": null,
   "metadata": {},
   "outputs": [],
   "source": [
    "shuffle_lst = [1, 2, 3, 4, 5]\n",
    "rng.shuffle(shuffle_lst)\n",
    "print(shuffle_lst)"
   ]
  },
  {
   "cell_type": "markdown",
   "metadata": {},
   "source": [
    "The function below returns an array comprising three blocks of 3 rows of two floats between 0.0 and 1.0. The subsequent code shuffles the order of the blocks while the order of the rows and floats within remain unchanged."
   ]
  },
  {
   "cell_type": "code",
   "execution_count": null,
   "metadata": {},
   "outputs": [],
   "source": [
    "shuffle_array = rng.random((3,3,2))\n",
    "print(shuffle_array)"
   ]
  },
  {
   "cell_type": "code",
   "execution_count": null,
   "metadata": {},
   "outputs": [],
   "source": [
    "rng.shuffle(shuffle_array)\n",
    "print(shuffle_array)"
   ]
  },
  {
   "cell_type": "markdown",
   "metadata": {},
   "source": [
    "#### 3.2. permutation(x[, axis])\n",
    "\n",
    "This function randomly permutes a sequence, or returns a permuted range. The difference between this and the shuffle() function is that permutation() returns a re-arranged array while leaving the original array unchanged. ( https://www.w3schools.com/python/numpy_random_permutation.asp)"
   ]
  },
  {
   "cell_type": "code",
   "execution_count": 3,
   "metadata": {},
   "outputs": [
    {
     "name": "stdout",
     "output_type": "stream",
     "text": [
      "[1 5 2 3 4]\n",
      "[1, 2, 3, 4, 5]\n"
     ]
    }
   ],
   "source": [
    "perm_array = [1, 2, 3, 4 , 5]\n",
    "print(rng.permutation(perm_array))\n",
    "print(perm_array)"
   ]
  },
  {
   "cell_type": "markdown",
   "metadata": {},
   "source": [
    "### 4. Distributions functions\n",
    "\n",
    "There are 35 distribution functions in the numpy.random package. Eight of these are:\n",
    "\n",
    "1. chisquare()\n",
    "2. exponential()\n",
    "3. geometric()\n",
    "4. gumbel()\n",
    "5. lognormal()\n",
    "6. normal()\n",
    "7. rayleigh()\n",
    "8. triangular()"
   ]
  },
  {
   "cell_type": "markdown",
   "metadata": {},
   "source": [
    "#### 4.1. chisquare(df[, size])\n",
    "\n",
    "This function draws samples from a chi-square distribution. The chi-square test helps us understand the relationship between two categorical variables. Chi-squares involve the frequency of events. It helps us compare what we actually observed with what we expected oftentimes using population data or theoretical data. Chi-squares assist us in determining the role of random chance variation between our categorical variables. We use the Chi-square distribution and critical value to accept or reject our hypothesis. (https://www.youtube.com/watch?v=SvKv375sacA) The Chi-square distrubution is used as a basis to verify the hypothesis. It has two parameters: df (degree of freedom) and size (the shape of the returned array. (https://www.w3schools.com/python/numpy_random_chisquare.asp)\n",
    "With the help of chisquare() method, we can get chi-square distribution. Mainly we can use this distribution in hypothesis testing. (https://www.geeksforgeeks.org/numpy-random-chisquare-in-python/)"
   ]
  },
  {
   "cell_type": "code",
   "execution_count": 87,
   "metadata": {},
   "outputs": [
    {
     "name": "stdout",
     "output_type": "stream",
     "text": [
      "[[1.09857736e+00 7.96521046e-01 1.10680827e+01 2.79324783e+00\n",
      "  1.88415244e+00 1.48422075e+00 5.90336982e-01 1.14475215e+00\n",
      "  1.17634644e+00 1.17417797e+00 4.42551823e+00 1.24450813e-01\n",
      "  2.75775606e+00 2.70107019e+00 6.25471717e-01 1.13704987e+00\n",
      "  7.73174450e-01 6.17731061e-02 9.26385441e-01 7.69713815e-01]\n",
      " [1.31536387e+00 1.06038337e+01 4.50942655e-01 1.92045183e-01\n",
      "  2.15000828e+00 1.47678009e+00 6.34910729e+00 2.57853303e+00\n",
      "  8.05259109e-03 2.28077545e+00 1.53591040e-01 3.91863401e-01\n",
      "  2.13728247e+00 2.12543476e+00 5.85889629e-02 3.47473522e+00\n",
      "  8.16095382e-01 4.07282410e+00 2.84401127e+00 1.56700792e+00]\n",
      " [2.16481588e+00 7.36799822e-01 9.49785694e+00 4.68410291e-01\n",
      "  6.94166615e-01 6.48742236e+00 7.62350840e-01 3.07035533e+00\n",
      "  1.60662995e+00 1.57628531e-01 1.52500137e+00 8.59794495e-01\n",
      "  6.73741847e-01 2.70832699e+00 1.75128767e-01 4.39623620e-01\n",
      "  8.76677324e-01 2.55041899e+00 5.05052187e-02 7.02865863e-01]\n",
      " [2.64176344e+00 8.96546426e-01 4.04070202e+00 2.05395649e+00\n",
      "  6.93405687e+00 3.09169321e+00 6.78054361e+00 3.90125100e-01\n",
      "  4.35827578e+00 3.95922862e-01 6.05148362e+00 7.28550209e-01\n",
      "  3.59756445e+00 1.46574659e+00 1.37211381e+00 5.57704735e-02\n",
      "  5.19731140e+00 3.07697728e-01 8.12633625e-01 7.75592788e-01]\n",
      " [2.40302630e-01 4.36205221e+00 2.05355533e+00 4.05917723e+00\n",
      "  3.96787313e-01 9.31240047e-01 2.28535942e+00 3.51992135e-01\n",
      "  2.93008917e+00 9.33471721e-01 6.08609158e-01 4.13710423e+00\n",
      "  2.07100573e+00 2.74351458e+00 9.63391830e-01 1.51169742e+00\n",
      "  6.91356399e-01 7.35189633e-01 6.19850356e+00 2.34780832e-02]\n",
      " [1.59625113e-01 9.91000480e-01 2.05738326e-01 6.86448824e-01\n",
      "  6.98563485e+00 5.59618244e-01 1.05495462e+00 9.19139110e-01\n",
      "  5.06333675e-01 1.41293516e-01 7.97170220e-01 7.62876979e-01\n",
      "  5.78235831e-01 8.33874130e-01 1.49525224e+00 4.48196067e-01\n",
      "  9.59722522e-01 4.38779424e+00 5.10164191e-01 4.27388727e+00]\n",
      " [1.32860174e+00 1.19047879e+00 1.21056942e+00 2.50112640e-01\n",
      "  1.66770569e-01 2.14062750e-02 8.74188142e-01 2.17974449e+00\n",
      "  9.26920371e-02 1.01633252e+00 9.10155289e-01 8.00242040e-01\n",
      "  2.45990077e+00 1.04735239e+00 1.33043788e+00 4.51826435e+00\n",
      "  1.68033083e+00 2.64227758e+00 1.39195265e-01 3.81745075e-01]\n",
      " [2.34950842e+00 1.01102072e-02 4.34936603e-01 1.16153447e+00\n",
      "  8.78414273e-02 1.71634434e+00 5.94190378e-01 3.76065214e+00\n",
      "  9.86580580e-02 2.46891813e+00 1.91213905e-02 4.28534356e-01\n",
      "  1.01967772e+00 1.53402461e-01 1.18668104e+00 1.06797050e+01\n",
      "  3.20673842e-01 3.58267554e+00 3.11847362e-01 1.54167006e+00]\n",
      " [3.60052391e+00 2.09148859e+00 8.31635286e-01 3.14699412e+00\n",
      "  7.68994669e-01 6.51827012e+00 1.30617545e+00 6.08287172e-01\n",
      "  3.71537096e-02 5.73887535e-01 2.99594282e-01 8.03568705e-01\n",
      "  1.21275916e+00 2.99885477e+00 1.28928317e+01 6.27578420e-01\n",
      "  1.14222923e+00 3.19837680e+00 2.80767154e-01 1.87150119e+00]\n",
      " [1.73347765e+00 2.58853355e+00 1.22400620e+00 8.46777716e-01\n",
      "  3.09345773e+00 1.97962087e+00 9.36538209e+00 8.41340960e-01\n",
      "  4.53342604e-02 2.24293115e-02 1.57948099e+00 4.16573202e+00\n",
      "  1.25356030e+00 1.29213244e+00 4.98308449e+00 1.73011762e-01\n",
      "  1.55501336e+00 1.58030926e+00 1.28365727e+01 5.32517714e+00]]\n"
     ]
    }
   ],
   "source": [
    "a = rng.chisquare(df=2, size=(10,20))\n",
    "print(a)"
   ]
  },
  {
   "cell_type": "code",
   "execution_count": 88,
   "metadata": {},
   "outputs": [
    {
     "data": {
      "image/png": "[encoded data removed]",
      "text/plain": [
       "<Figure size 432x288 with 1 Axes>"
      ]
     },
     "metadata": {
      "needs_background": "light"
     },
     "output_type": "display_data"
    }
   ],
   "source": [
    "sns.distplot(a)\n",
    "plt.xlabel(\"X\")\n",
    "plt.ylabel(\"Probability Density\")\n",
    "plt.title(\"Chi-Square Distribution\")\n",
    "plt.grid()"
   ]
  },
  {
   "cell_type": "markdown",
   "metadata": {},
   "source": [
    "#### 4.2. exponential([scale, size])\n",
    "\n",
    "This function draws samples from an exponential distribution. (https://www.w3schools.com/python/numpy_random_exponential.asp)"
   ]
  },
  {
   "cell_type": "code",
   "execution_count": 84,
   "metadata": {},
   "outputs": [
    {
     "name": "stdout",
     "output_type": "stream",
     "text": [
      "[[8.15318186e-01 2.17852033e+00 9.11401766e-01 5.56901731e-01\n",
      "  1.24661650e+00 1.41339340e+00 5.54948246e-01 4.74803756e+00\n",
      "  8.24841075e-02 1.50438073e-01 2.03823095e-01 9.37830846e-01\n",
      "  3.61220149e-03 2.38977038e-01 1.37119706e+00 1.41940761e+00\n",
      "  7.04077600e-01 2.91614281e+00 1.00862484e+00 1.94187910e+00]\n",
      " [9.23572868e+00 7.43325146e-01 1.75845132e+00 3.52450398e+00\n",
      "  1.47526643e-02 3.81049639e+00 1.95389009e+00 2.62460096e+00\n",
      "  1.76521464e+00 1.88799481e+00 1.74642196e-01 7.34195378e-02\n",
      "  4.77713497e-01 6.80417742e-01 1.74339144e+00 3.22557100e-01\n",
      "  9.39871952e-01 4.21565088e+00 1.47919749e+00 1.42153759e+00]\n",
      " [1.18366468e+00 1.69531120e+00 8.24160437e-01 8.91908119e-01\n",
      "  2.84971005e-01 2.29852245e+00 4.72524536e+00 1.32722921e-02\n",
      "  3.41378940e-01 1.81878740e+00 2.29406235e-01 9.30581719e-02\n",
      "  1.48504903e+00 1.89497226e+00 8.59407303e-01 6.77749513e-01\n",
      "  9.74330986e-01 8.26556744e-01 2.20675137e+00 4.87601530e+00]\n",
      " [1.89622873e-01 1.33355723e+00 3.93745062e+00 1.13731346e+00\n",
      "  2.63745924e+00 1.97303594e+00 2.72096904e+00 2.65137140e+00\n",
      "  1.90197980e+00 2.76330523e-01 1.40430722e+00 8.08285051e-01\n",
      "  4.17819541e-01 2.26827840e+00 7.61613613e-01 7.20539278e-01\n",
      "  5.19479075e+00 1.88169548e+00 1.69838921e-01 1.33528268e+00]\n",
      " [7.66115068e-01 4.19628401e+00 4.40828250e+00 6.29070983e-01\n",
      "  1.78751941e+00 1.32717533e+00 2.41075382e-01 3.24313169e+00\n",
      "  1.45049654e+00 1.55532501e+00 1.65857741e+00 1.36122435e-01\n",
      "  3.72507296e+00 3.07348760e+00 2.00201180e+00 2.56914399e+00\n",
      "  6.87695037e+00 1.61433742e+00 2.67161126e-01 7.92727990e-01]\n",
      " [4.15915147e-02 3.96377507e+00 8.72118562e-02 3.32273193e+00\n",
      "  2.92354752e+00 4.95056888e-01 7.55896340e+00 1.84214112e+00\n",
      "  8.90700383e-02 4.47936337e+00 3.21518950e+00 2.78055155e+00\n",
      "  1.20815414e+00 3.17745645e+00 1.38083111e+00 3.34518307e+00\n",
      "  6.70125788e-01 7.50677106e-01 2.99729389e+00 1.44743542e-01]\n",
      " [8.88405320e-01 1.67009206e-01 2.10765118e+00 4.06796609e+00\n",
      "  3.56001419e+00 1.43571672e+00 3.39114240e-02 2.79632122e+00\n",
      "  5.75598233e-01 2.98947654e+00 8.45171671e-02 2.62015839e+00\n",
      "  2.84074092e-01 2.08661369e+00 6.85445338e+00 3.48480659e-01\n",
      "  7.78107198e-01 2.36837555e+00 1.37059264e+00 5.05582608e-01]\n",
      " [1.82709617e-01 1.71288317e+00 1.82620955e-01 2.14051950e+00\n",
      "  5.99472694e-01 5.64630599e+00 4.00567468e+00 4.75105290e+00\n",
      "  1.98810322e+00 3.31565229e+00 6.18810784e-02 2.85066256e+00\n",
      "  1.14112956e+00 3.78033179e-01 1.82344430e+00 5.26572106e+00\n",
      "  1.52568263e+00 4.63538560e-01 2.74226728e-01 2.72446779e-01]\n",
      " [5.98021894e+00 2.31412405e-01 2.20363135e+00 5.33497813e+00\n",
      "  1.21160166e+00 2.28913228e+00 2.45591221e+00 4.62998569e-02\n",
      "  7.93180945e-01 2.52500337e+00 1.46481828e-01 5.02847002e-01\n",
      "  3.78200209e+00 2.21079203e+00 1.15187284e+00 3.32736396e-02\n",
      "  1.18125295e+00 4.04683277e+00 7.93329153e-01 3.68364789e+00]\n",
      " [3.34706043e-01 1.71207920e+00 2.37444396e-01 6.04308210e-01\n",
      "  1.90584856e+00 1.08124976e-01 3.97026117e+00 2.38695903e+00\n",
      "  2.64214825e+00 4.94908911e-01 3.42484139e+00 2.77873525e+00\n",
      "  1.72916547e-01 1.02322725e+00 1.14470423e+00 2.74564318e+00\n",
      "  3.49913834e-01 5.94056221e-01 2.18941092e+00 8.10437284e-01]]\n"
     ]
    }
   ],
   "source": [
    "b = rng.exponential(scale=2, size=(10, 20))\n",
    "print(b)"
   ]
  },
  {
   "cell_type": "code",
   "execution_count": 85,
   "metadata": {},
   "outputs": [
    {
     "data": {
      "image/png": "[encoded data removed]",
      "text/plain": [
       "<Figure size 432x288 with 1 Axes>"
      ]
     },
     "metadata": {
      "needs_background": "light"
     },
     "output_type": "display_data"
    }
   ],
   "source": [
    "sns.distplot(b)\n",
    "plt.xlabel(\"X\")\n",
    "plt.ylabel(\"Probability Density\")\n",
    "plt.title(\"Exponential Distribution\")\n",
    "plt.grid()"
   ]
  },
  {
   "cell_type": "markdown",
   "metadata": {},
   "source": [
    "#### 4.3. geometric(p[, size])\n",
    "\n",
    "This function draws samples from the geometric distribution. A Bernoulli trial is a random experiment with exactly two possible outcomes, \"success\" and \"failure\", in which the probability of success is the same every time the experiment is conducted. (https://en.wikipedia.org/wiki/Bernoulli_trial) The geometric distribution models the number of trials that must be run in order to achieve success. "
   ]
  },
  {
   "cell_type": "code",
   "execution_count": 80,
   "metadata": {},
   "outputs": [
    {
     "name": "stdout",
     "output_type": "stream",
     "text": [
      "[ 1  1  6  1  6 10  5  4  1  7  5  1  7  2  8  5  3  3  3 12  1  5  7  1\n",
      "  9  3  1  1  2  2  1  1  2  1  4  7  1  3  3  2  2  1 12  2 10  3  2  4\n",
      "  4  5  2  2 11  1  2 13  5  5  5  1  2  2  2  2  1  1  5  3  3  2  4  1\n",
      "  4  2  2  3  3  6  2  1  5  5  2  9 11  1  2  8  9  7  7  5  4  5  3  1\n",
      "  5  1  1  1  2  4  3  3  3  2  5  2  7 11  1  5  2  3  2  6  8  3  1  9\n",
      "  7  2 12  1 19  3  3  1  2  1  3  5  2  9  5  2  7  1 12  3  3  2  3  4\n",
      "  1  5  1  8  1  4  8  1  2  1  8  3  2  7  5  1  1  4  1  6  1  7  1  8\n",
      "  1  1  4 10  2  4  2  1  3  2  4  2 13  3  1  2  4  4  1  1  1  3  4 13\n",
      "  1  8  3  7  8  2  4  5  5  4  3  1  2  2  2  5  4  4 15  6  1  1  2  8\n",
      "  5  1  1  1  3 22  1  3  2  3  5  2  2  3  2 10  1  5  7  1  5  2  1 10\n",
      "  6 11  3  2  3  4  2  1  4  3  2  5  2  1  5  6  2  9  2  3  2  7  9  1\n",
      "  1  2  3 11  1  9  3  2  4  6 10 22  6  2  2  6  4  9  8  6  2  1  2  1\n",
      "  4  4  9  1 11  1  4  2  1 11  1  3  3  3  1  3  4  1  1  1  1  8  1  7\n",
      "  1  2  2  6  4  3  4  3  3 11  5  1 10  5  2  7  5 15  1  5  1  7  8  4\n",
      "  2  3  2  4  2 11  3  1 18  3  7  4  3 12  1  1  9  1  8  2  1  2  1  5\n",
      "  1  5  1  4  4  1  5  3  4  4  8  2  1  4  1  2  6  2  4  1  1  2  1  4\n",
      "  6  7  7  3  6  1  1  2  4  2  3  2  8  3  1  1  5  2  3  1  3  2  4  1\n",
      "  8  5  1  6  1  5  1  2  1  2  2  5 10  1  4 12  2  2  1  3  6  1  2  4\n",
      "  9  5  1  9  1  3  3 13  3  2  3  5  7  6  7  2  3  2 10  1  3  8  2  8\n",
      " 10  1  9  5  5 11  2  1  5  2  1  4  2  1  3  2  2  4  7  3  1  1  2  6\n",
      "  2  4  1  3  1  1  1  6  2  1  2  8  2  7  2  6  1  5 14  7  5  1  3  1\n",
      "  2  9  2  7  5  3  3  5  1  6  2  3  1  1  8  1  5  2  7  3  5  2 10  6\n",
      "  5 19  3  4  1  2  3  1  1  3  3  1  6 25  2  5  6  8  1  1  4 14  3  2\n",
      " 11  3 12  1  3  7 11  1  3  2  3  5  2  2 15  1  1  2  3  2  7  3  1  8\n",
      "  5  2 11  5 15  6  7  1  1  8  1  8  5  2  1  2  2  7  2 11  3  1  5  9\n",
      "  2  3  1  2  1  4 22 21  2  3 11  1  4  7  1  4  1  4  4  3  2  1  4  2\n",
      "  1  1 14  7  5  4  9  2  1  1  1  7  7 20  7 12  1  1  1  2  2  8  1  1\n",
      " 10  8  1  1  1  2 10  2  2  7  3  1  1  8  5  7  5  1  3 10 14  1  3  2\n",
      "  4  8  4  5  1 12  1  1  4  6  4  2  4  3  5  4  8  1  4  1  2  2  1  1\n",
      "  1  1  1  2  5  9  2  8  3  2  3  1  6  2  2  8  3  5  9  7  4  1  1  4\n",
      "  4  3 10  5  6  9  2  1 16  3  4  2  5  1  3  3  8  2  1  2  5  1  3 10\n",
      "  2  1  6  2  2  3  2  7  8  4  2  3  1  1  2  3  4  2  3  2  3  5  5 12\n",
      "  4  2  4  3 12  2  5  4  2 10  5  9  4  8  4  4  1  1  3  1  1  5  1  6\n",
      "  8  4  4  1  2  2  1  2  1  5  4 10  2  3  1  6  6  1  1  3  7  1  2  3\n",
      "  1  2  1  4  4  5 17 10  9  2  5  3  4  8  1  1  2  6 11  2  1  1  3  3\n",
      "  1  1  1  7  7  9 16  5  4  1  4  1  1  4  2  2  2  3  1  7  2  5  1  2\n",
      "  6  4  6  2  2  9  1  3  3  4  5  1  9 11  4  1  1  1  3  1  1  1 12  1\n",
      "  2 16  1  6  5  3  1 10  4  3  1  5  1  2  1  2  2  7  5  5  4  4  3 14\n",
      "  1  3 12  7  5  1  1  1  3 11  2  4  3  3  3  5 18  1  2  4  1  1  4  1\n",
      "  6  5 21  1  2  3  1  8  1  2  2  2  1  2  1  7 21  4  2  1  1  3  2  2\n",
      "  1  3  4  1  2  4  3  3 10  2  7  2  5  1  6  2 19  2  3  9  1  4  3  3\n",
      "  7  4  2  7  2  1  2  4  1  4  1  4  3  1  6  8]\n"
     ]
    }
   ],
   "source": [
    "c = rng.geometric(p=0.25, size=1000)\n",
    "print(c)"
   ]
  },
  {
   "cell_type": "code",
   "execution_count": 81,
   "metadata": {},
   "outputs": [
    {
     "data": {
      "image/png": "[encoded data removed]",
      "text/plain": [
       "<Figure size 432x288 with 1 Axes>"
      ]
     },
     "metadata": {
      "needs_background": "light"
     },
     "output_type": "display_data"
    }
   ],
   "source": [
    "sns.distplot(c)\n",
    "plt.xlabel(\"X\")\n",
    "plt.ylabel(\"Probability Density\")\n",
    "plt.title(\"Geometric Distribution\")\n",
    "plt.grid()"
   ]
  },
  {
   "cell_type": "markdown",
   "metadata": {},
   "source": [
    "#### 4.4. normal([loc, scale, size])\n",
    "\n",
    "This function draws samples from a normal (Gaussian) distribution. It is one of the most important distributions and fits the probability distribution of many events, e.g. IQ scores, heartbeat etc.\n",
    "\n",
    "It has three parameters:\n",
    "loc - (Mean) where the peak of the bell exists\n",
    "scale - (Standard Deviation) how flat the graph distribution should be.\n",
    "size - the shape of the returned array (https://www.w3schools.com/python/numpy_random_normal.asp)\n",
    "\n",
    "(http://justinbois.github.io/bootcamp/2020/lessons/l23_random_number_generation.html)"
   ]
  },
  {
   "cell_type": "code",
   "execution_count": 76,
   "metadata": {},
   "outputs": [
    {
     "name": "stdout",
     "output_type": "stream",
     "text": [
      "[[ 0.55468908  1.43251178 -1.33076119  1.36215881 -3.78965089  0.39759323\n",
      "   1.80591065  2.30336345  3.96118426  3.03224313  0.10984962  2.56745879\n",
      "  -1.6224874   0.59541561 -0.60000365 -2.32487072  3.22345469 -0.50441103\n",
      "   0.52914213  0.02911648 -0.612583   -2.52924409  0.96964858 -2.3943326\n",
      "   2.84511811  0.28675306  1.80689171  2.52888335  1.21394869 -1.17329859]\n",
      " [ 3.80938722 -1.47915599  1.858122   -1.65547175 -1.79838854  2.46381548\n",
      "   2.42366742  4.91672932  0.34144067  3.42665376  0.462189    2.31604047\n",
      "   3.55961898  3.16478776  1.0175079  -1.215181   -2.52513929  1.55061384\n",
      "   1.38006952  2.75326204  0.83587268  1.24846727  0.82950517  0.73196531\n",
      "   2.07090951 -0.34546846  2.10989827  2.44683569  1.13537209  2.40374406]\n",
      " [ 3.58127114  2.64074184  2.91737913  1.77157995 -0.59828541  1.59841917\n",
      "   1.83171642 -1.65012569  0.87957421 -0.11057486  2.35785613  2.73482709\n",
      "   4.28820228  1.99622068  3.50669842  1.46941508  0.20647365  0.15931798\n",
      "   3.29170727  0.3658148  -1.49871686  0.89795199 -4.34612867 -3.24666767\n",
      "   0.38735131 -2.062077   -0.96987958  3.75085224 -0.62888969 -1.94059214]\n",
      " [ 1.37510297  3.5269509   1.55080201 -0.54944014 -4.12480709 -0.05879465\n",
      "   0.81970247  1.74088917 -0.34840015  1.14274323 -1.71945281  2.9426751\n",
      "   6.06138936  0.80701239  2.08863256  3.93381876  1.77734937 -1.44239715\n",
      "  -0.29690162  4.2756492  -0.58353139 -0.30199825  6.71522038  3.41515063\n",
      "   6.02508838  2.87139972  2.80874828  1.99792028  0.97938496  1.90631325]\n",
      " [ 0.47567361  0.58127894  3.27521102  0.2269231   2.26169166  3.60633875\n",
      "  -0.97559735  4.4834636   5.52905676  2.24578913  3.38918991  1.88755602\n",
      "   1.74471067  0.7838708   0.79274826  1.48297014  0.68483171  1.32380007\n",
      "   3.23017662 -3.18563928  3.90531795  0.36032346  1.86645246 -0.49350211\n",
      "  -2.70808841 -0.79155349 -0.83465033  0.9434217  -1.70167642 -0.20193757]\n",
      " [ 3.44049682  4.32708017  3.65618095 -0.71477027  1.51515884  0.11776202\n",
      "   0.7045264  -0.44227411  1.68183305  1.29879812  3.8785534   1.72066272\n",
      "  -2.98937547 -1.47589942  0.15343027  2.48635167 -1.4537951  -2.34209468\n",
      "  -1.92389189  2.61016461  0.19227901  0.28848386  1.94749588 -0.12473288\n",
      "   0.02332041  4.09552814 -0.25337553 -0.2478652   3.40165135 -0.16990194]\n",
      " [ 2.88211969  4.45873036 -0.10698903 -2.35660685 -2.25450124  1.63043959\n",
      "  -2.6508395   0.6695932   4.27989519  1.59233807  1.26161964  3.11965089\n",
      "  -0.99306615  1.57922411  0.89982622  0.05066878  0.41738425  5.43777232\n",
      "   1.58341745  1.1870976   0.67133732  4.13706211 -2.05693127 -0.03360406\n",
      "  -2.54149056  3.8488275   2.88907669 -2.01281642  0.33282963 -0.61698147]\n",
      " [ 0.28313388  3.60603376  1.95348453  2.71708994  0.84558428  2.11317232\n",
      "   2.26541636  3.23180225  2.63524485  1.59213367  0.56220081  0.8519785\n",
      "   1.11191332  2.54125582  0.2479463   0.58787761 -1.62042338 -3.41564962\n",
      "   0.3703473   1.62464882  2.57266222  0.44657668  0.88631787  2.58175869\n",
      "   0.78575063 -0.60866242 -0.28101913 -0.51005006 -0.69947183  1.37386208]\n",
      " [ 2.55720142  0.71710531  0.17708809  2.06505896  4.58266309  0.7629914\n",
      "  -0.67153148  1.60383589  1.01921737  3.08087275  1.80655898 -2.54655324\n",
      "   1.36279112  0.37538899 -1.51443854  0.40695629  1.9880047  -0.64597802\n",
      "   2.09284349  2.27062827  1.15783986  4.04666866  1.68248675 -0.95564996\n",
      "   7.03744448  1.34119989  4.13616246 -0.90716981  5.43264848  3.33088684]\n",
      " [ 0.37994061  4.11663117 -1.34092722 -1.06459648  0.61063633 -0.94226913\n",
      "   2.1418104   3.82791614  0.32273073 -0.8405962   0.94804063  2.01914598\n",
      "  -0.69931966  2.94357555 -2.74954766  0.8796129   1.11867688 -1.50876755\n",
      "   2.85362017  2.58222374  0.62021971  1.15604073  2.81917279 -0.64221972\n",
      "   3.09712738 -0.44000123  4.62537155  2.17825711  3.35000112  0.79927038]]\n"
     ]
    }
   ],
   "source": [
    "d = rng.normal(loc=1, scale=2, size=(10, 30))\n",
    "print(d)"
   ]
  },
  {
   "cell_type": "code",
   "execution_count": 77,
   "metadata": {},
   "outputs": [
    {
     "data": {
      "image/png": "[encoded data removed]",
      "text/plain": [
       "<Figure size 432x288 with 1 Axes>"
      ]
     },
     "metadata": {
      "needs_background": "light"
     },
     "output_type": "display_data"
    }
   ],
   "source": [
    "sns.distplot(d)\n",
    "plt.xlabel(\"X\")\n",
    "plt.ylabel(\"Probability Density\")\n",
    "plt.title(\"Normal Distribution\")\n",
    "plt.grid()"
   ]
  },
  {
   "cell_type": "markdown",
   "metadata": {},
   "source": [
    "#### 4.5. rayleigh([scale, size])\n",
    "\n",
    "This function draws samples from a Rayleigh distribution. Rayleigh distribution is used in signal processing. It has two parameters, scale and size. (https://www.w3schools.com/python/numpy_random_rayleigh.asp)"
   ]
  },
  {
   "cell_type": "code",
   "execution_count": 74,
   "metadata": {},
   "outputs": [
    {
     "name": "stdout",
     "output_type": "stream",
     "text": [
      "[[0.60640743 2.63939169 2.09831894 3.78544747 0.49321085 2.35014155\n",
      "  2.32995704 3.14858061 5.73271202 4.45499562 0.18515414 2.14235004\n",
      "  4.12824531 3.47242273 5.47501433 3.45179679 2.57896863 2.51010479\n",
      "  3.87091651 0.95336762 3.8906272  4.62375656 2.75812651 2.82331239\n",
      "  2.3759845  2.25522525 3.78589307 3.82129744 4.50383318 1.99536033]\n",
      " [4.26028833 1.43699797 3.03158112 3.93427537 0.76051856 1.26710951\n",
      "  2.33359389 2.75695523 3.4559169  3.99260646 2.28839411 4.32008831\n",
      "  1.34019722 2.09526259 2.8226578  1.8421307  1.45619777 1.12939221\n",
      "  2.3510659  0.518523   2.26924104 3.041043   2.28939698 0.77427903\n",
      "  3.6216678  2.05738319 0.36199213 1.937421   3.96872191 1.9299716 ]\n",
      " [2.46794578 2.23733754 2.4298806  0.97537792 0.62937202 2.41345878\n",
      "  1.65572083 2.66788014 1.92819436 1.94185656 2.36382806 1.56601244\n",
      "  1.39524882 2.67672848 1.73465827 1.92091714 3.85751195 2.94798729\n",
      "  1.69156335 2.68421841 1.02505564 2.68265379 1.98252753 0.64738467\n",
      "  2.66212845 2.36118637 0.22397955 5.47668405 2.6190009  0.64780749]\n",
      " [1.10615949 5.50852468 2.61584379 1.16081721 2.31519214 1.52860804\n",
      "  2.81729559 2.24030834 1.69983976 0.85287694 1.80827435 3.99479728\n",
      "  0.80021263 3.3220836  1.55877604 1.81239846 3.03388511 0.4592988\n",
      "  0.52802668 0.74900864 2.86215537 0.97688482 0.97641127 3.4762508\n",
      "  3.6513449  2.02339451 1.95847738 1.0611618  2.03029896 1.79923638]\n",
      " [3.99396584 0.63109659 2.90098673 1.80190209 4.35054087 1.40466782\n",
      "  6.20326316 3.19691846 3.66198388 1.78178471 0.47079596 1.13316076\n",
      "  1.75259652 1.23581825 2.82731975 3.35632504 3.43485098 0.43443005\n",
      "  2.89803948 1.90763378 1.86282392 2.39067565 1.67902354 3.08319226\n",
      "  1.3603748  4.64645454 3.32018602 1.23179202 0.20222087 2.51632611]\n",
      " [4.67279771 1.33710753 5.02238951 3.70392068 3.96362978 3.7322398\n",
      "  0.67516155 2.22551025 1.17004384 1.85584703 2.28121299 1.57903795\n",
      "  3.24857154 2.47306325 3.17246501 2.70108901 1.30575316 2.73701441\n",
      "  1.88224355 1.67837612 1.90473073 3.49476638 1.49282236 1.62255006\n",
      "  3.21609677 1.67418436 1.59628636 1.88416384 3.52281191 1.69753662]\n",
      " [0.3571752  2.5227678  3.22869597 4.56049368 1.69538368 2.73422447\n",
      "  1.22112318 3.09947803 2.69164073 4.10383378 2.77574095 1.28826241\n",
      "  4.13905552 2.33947114 2.37190442 2.04749548 2.60266316 5.08667888\n",
      "  2.65630226 2.39088364 5.71500844 3.44754093 1.74566548 2.35670129\n",
      "  1.52647211 1.10108836 2.54342072 3.81388335 5.61548334 5.59487046]\n",
      " [3.3640228  3.7039683  0.63060359 3.55393595 0.89986394 3.14014784\n",
      "  2.34819321 2.43655773 4.69165829 3.4677718  1.59582525 1.93340022\n",
      "  0.93723065 0.83881816 4.98786307 1.50432401 1.01550025 2.45406825\n",
      "  1.41293264 1.42670253 4.82405643 5.83875908 4.69897077 2.66306857\n",
      "  3.30645143 4.19506957 2.36387606 0.20295849 4.50849096 0.3416183 ]\n",
      " [2.28812664 3.9384911  1.83773306 1.44093438 3.26520828 2.1576991\n",
      "  1.54390239 3.43346207 0.93969552 1.19882122 3.00527767 0.30797753\n",
      "  0.12804113 1.86366474 1.91623456 1.39302826 6.01447137 3.34189781\n",
      "  4.26901843 5.40297873 1.02222687 1.86473694 4.21617913 0.88063794\n",
      "  4.48976494 0.82608706 1.40720987 2.40306177 1.24919475 2.25962729]\n",
      " [3.00067718 3.59636983 2.23344787 1.17538677 1.68804779 1.11491096\n",
      "  3.17075849 3.24971951 0.10576834 7.03092813 1.35236708 1.17826285\n",
      "  2.29833991 2.65860876 3.02884855 3.11138872 1.27708984 0.54063083\n",
      "  3.18727795 0.70773204 2.50969136 4.60748084 3.05343893 2.39405268\n",
      "  1.6086121  3.58318888 0.93087785 2.74211188 1.42197915 3.9348457 ]]\n"
     ]
    }
   ],
   "source": [
    "e = rng.rayleigh(scale=2, size=(10, 30))\n",
    "print(e)"
   ]
  },
  {
   "cell_type": "code",
   "execution_count": 75,
   "metadata": {},
   "outputs": [
    {
     "data": {
      "image/png": "[encoded data removed]",
      "text/plain": [
       "<Figure size 432x288 with 1 Axes>"
      ]
     },
     "metadata": {
      "needs_background": "light"
     },
     "output_type": "display_data"
    }
   ],
   "source": [
    "sns.distplot(e)\n",
    "plt.xlabel(\"X\")\n",
    "plt.ylabel(\"Probability Density\")\n",
    "plt.title(\"Rayleigh Distribution\")\n",
    "plt.grid()"
   ]
  },
  {
   "cell_type": "markdown",
   "metadata": {},
   "source": [
    "#### 4.6. standard_t(df[, size])\n",
    "\n",
    "This function draws samples from a standard Student's t distribution with *df* degrees of freedom."
   ]
  },
  {
   "cell_type": "code",
   "execution_count": 94,
   "metadata": {},
   "outputs": [
    {
     "name": "stdout",
     "output_type": "stream",
     "text": [
      "[ 0.21062096  2.86664934 -0.94290953  0.217472    0.51017444  0.39778478\n",
      " -0.05197084 -0.40382595 -0.4491064   0.03088832  0.56057438 -1.90456833\n",
      "  1.84030347 -1.49226497 -1.70638091 -1.68748984 -2.69484458 -0.16336133\n",
      " -0.20628418 -2.35475742  1.52529692 -0.46409097 -1.19595878  3.43247508\n",
      "  0.73542349 -0.47426659  1.31526168 -1.16164271  0.74261141 -0.30442767\n",
      " -1.32005904  0.81253156  0.84855256  0.49984809 -4.74614444 -0.09683229\n",
      "  0.67854023 -1.76871266 -0.9828003   1.21593904  0.17399339  0.34416074\n",
      " -1.60813831  0.25283225  0.3500952  -1.95760093 -1.4399637   0.60196573\n",
      " -0.17280746 -1.16588522 -0.54286508  0.48715542 -2.37844809  1.10131294\n",
      "  0.22018918 -0.68373908 -3.15763824 -4.76007197 -1.7521475   0.49369329\n",
      " -0.19742248 -0.43090237  0.75802907 -0.85390384  3.13005509 -0.07789371\n",
      " -2.04045031  1.05135707 -1.98091097  0.6165362   0.28147175 -0.03325784\n",
      "  1.6377296   0.81260414  0.28970147  3.48708824 -1.86321958  0.17674195\n",
      "  1.72314947  0.13368142  2.00938267 -0.45663299  2.97364615 -0.30407923\n",
      "  1.80423562  0.38707215 -0.22682367  0.30015095 -0.76744967  1.47354306\n",
      " -2.27954717  0.80626538  1.80847423  0.25810321 -0.31311943  0.83727311\n",
      "  0.54643495 -0.21945534  2.55411961  1.30411258]\n"
     ]
    }
   ],
   "source": [
    "f = rng.standard_t(5, 100)\n",
    "print(f)"
   ]
  },
  {
   "cell_type": "code",
   "execution_count": 95,
   "metadata": {},
   "outputs": [
    {
     "data": {
      "image/png": "[encoded data removed]",
      "text/plain": [
       "<Figure size 432x288 with 1 Axes>"
      ]
     },
     "metadata": {
      "needs_background": "light"
     },
     "output_type": "display_data"
    }
   ],
   "source": [
    "sns.distplot(f)\n",
    "plt.xlabel(\"X\")\n",
    "plt.ylabel(\"Probability Density\")\n",
    "plt.title(\"Standard Student's T Distribution\")\n",
    "plt.grid()"
   ]
  },
  {
   "cell_type": "markdown",
   "metadata": {},
   "source": [
    "#### 4.7. triangular(left, mode, right[, size])\n",
    "\n",
    "This function draws samples from the triangular distribution over the interval ```[left, right]```. The function returns a random floating number between the two specified numbers, but a third parameter (the mode) can also be specified."
   ]
  },
  {
   "cell_type": "code",
   "execution_count": 102,
   "metadata": {},
   "outputs": [
    {
     "name": "stdout",
     "output_type": "stream",
     "text": [
      "[-0.05956209 -0.33476442 -1.61667238 -0.76569455 -0.34149623  1.52317369\n",
      " -0.3967845   0.30205523  1.11407562  1.09731059 -1.87297602 -0.31656637\n",
      "  0.2915122   0.66231567  0.98587292  0.02017136 -1.43388022 -2.38962964\n",
      "  1.52803594 -0.57772913 -0.28478566 -1.54291697 -0.24169722 -0.31158645\n",
      "  0.3856539   1.12995913  0.97796633  0.47277784  0.99951918  0.84416417]\n"
     ]
    }
   ],
   "source": [
    "g = rng.standard_t(20, 30)\n",
    "print(g)"
   ]
  },
  {
   "cell_type": "code",
   "execution_count": 107,
   "metadata": {},
   "outputs": [
    {
     "data": {
      "image/png": "[encoded data removed]",
      "text/plain": [
       "<Figure size 432x288 with 1 Axes>"
      ]
     },
     "metadata": {
      "needs_background": "light"
     },
     "output_type": "display_data"
    }
   ],
   "source": [
    "sns.distplot(g, bins=10)\n",
    "plt.xlabel(\"X\")\n",
    "plt.ylabel(\"Probability Density\")\n",
    "plt.title(\"Triangular Distribution\")\n",
    "plt.grid()"
   ]
  },
  {
   "cell_type": "markdown",
   "metadata": {},
   "source": [
    "#### 4.8. uniform([low, high, size])\n",
    "\n",
    "This function draws samples from a uniform distribution. It returns a random floating number between two specified numbers (both inclusive). (https://www.w3schools.com/python/ref_random_uniform.asp)"
   ]
  },
  {
   "cell_type": "code",
   "execution_count": 108,
   "metadata": {},
   "outputs": [
    {
     "name": "stdout",
     "output_type": "stream",
     "text": [
      "[-0.13538645  1.2146827  -0.81700319 -1.26676722 -2.23985864  0.24373019\n",
      "  0.44868824 -1.16765719 -0.25779134 -1.37427893  0.25175943 -2.43123355\n",
      "  0.2154263   1.43616877 -1.24097035 -0.54735337 -0.29502861  1.81214121\n",
      " -0.06559902  0.49638679  0.50600207  1.27457409  0.06281232 -0.91914383\n",
      " -2.52125779 -0.08443922  1.16058705  0.90289988 -0.97367396  0.55229522]\n"
     ]
    }
   ],
   "source": [
    "h = rng.standard_t(20, 30)\n",
    "print(h)"
   ]
  },
  {
   "cell_type": "code",
   "execution_count": 109,
   "metadata": {},
   "outputs": [
    {
     "data": {
      "image/png": "[encoded data removed]",
      "text/plain": [
       "<Figure size 432x288 with 1 Axes>"
      ]
     },
     "metadata": {
      "needs_background": "light"
     },
     "output_type": "display_data"
    }
   ],
   "source": [
    "sns.distplot(h, bins=10)\n",
    "plt.xlabel(\"X\")\n",
    "plt.ylabel(\"Probability Density\")\n",
    "plt.title(\"Uniform Distribution\")\n",
    "plt.grid()"
   ]
  },
  {
   "cell_type": "markdown",
   "metadata": {},
   "source": [
    "### 5. Seeds\n",
    "\n",
    "There are four random generator functions in the numpy.random package. These are:\n",
    "\n",
    "1. RandomState\n",
    "2. seed()\n",
    "3. get_state()\n",
    "4. set_state()\n",
    "\n",
    "In the new package the way of generating seeds has changed from the Mersenne Twister algorithm to PCG64. \n",
    "\n",
    "A random seed is a number used to initialise a pseudorandom number generator. A pseudorandom number generator's number sequence is completely determined by the seed, and therefore if a pseudorandom number generator is reinitialised with the same seed, it will produce the same sequence of numbers. (https://en.wikipedia.org/wiki/Random_seed)\n",
    "\n",
    "A permuted congruential generator (PCG) is a pseudorandom number generation algorithm developed in 2014 which applies an output permutation function to improve the statistical properties of a modulo-$2^n$ linear congruential generator. It achieves excellent statistical performance with small and fast code, and small state size.\n",
    "PCG64 is the new default numpy.random module. It is a 128-bit implementation of O'Neill's permuted congruential generator. PCG-64 has a period of $2^{128}$ and supports advancing an arbitrary number of steps.\n",
    "\n",
    "Random variates are generated by permuting the output of a 128-bit LCG\n",
    "\n",
    "$s_{n+1} = ms_n + i$ mod $2^{128}$\n",
    "\n",
    "where $s$ is the state of the generator, $m$ is the multiplier and $i$ is the increment. (https://bashtage.github.io/randomgen/bit_generators/pcg64.html)\n",
    "\n",
    "By calling default_rng, a new instance of a Generator is obtained. The Generator provides access to a wide range of distributions. The default BitGenerator used by Generator is PCG64 (https://docs.w3cub.com/numpy~1.17/random/generator/), which has better statistical properties than the legacy MT19937 used in RandomState. (https://numpy.org/doc/stable/reference/random/index.html)"
   ]
  },
  {
   "cell_type": "code",
   "execution_count": 120,
   "metadata": {},
   "outputs": [
    {
     "data": {
      "text/plain": [
       "0.22733602246716966"
      ]
     },
     "execution_count": 120,
     "metadata": {},
     "output_type": "execute_result"
    }
   ],
   "source": [
    "from numpy.random import default_rng\n",
    "\n",
    "rg = default_rng(12345)\n",
    "rg.random()"
   ]
  },
  {
   "cell_type": "code",
   "execution_count": 121,
   "metadata": {},
   "outputs": [
    {
     "data": {
      "text/plain": [
       "0.37786929937474845"
      ]
     },
     "execution_count": 121,
     "metadata": {},
     "output_type": "execute_result"
    }
   ],
   "source": [
    "from numpy.random import Generator, MT19937\n",
    "rg = Generator(MT19937(12345))\n",
    "rg.random()"
   ]
  },
  {
   "cell_type": "markdown",
   "metadata": {},
   "source": [
    "### 6. References"
   ]
  }
 ],
 "metadata": {
  "kernelspec": {
   "display_name": "Python 3",
   "language": "python",
   "name": "python3"
  },
  "language_info": {
   "codemirror_mode": {
    "name": "ipython",
    "version": 3
   },
   "file_extension": ".py",
   "mimetype": "text/x-python",
   "name": "python",
   "nbconvert_exporter": "python",
   "pygments_lexer": "ipython3",
   "version": "3.8.3"
  }
 },
 "nbformat": 4,
 "nbformat_minor": 4
}
